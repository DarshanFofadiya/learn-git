{
 "cells": [
  {
   "cell_type": "code",
   "execution_count": 1,
   "metadata": {
    "collapsed": true
   },
   "outputs": [],
   "source": [
    "import pandas as pd\n",
    "import numpy as np"
   ]
  },
  {
   "cell_type": "code",
   "execution_count": null,
   "metadata": {
    "collapsed": true
   },
   "outputs": [],
   "source": [
    "data = pd.read_json(\"roam_prescription_based_prediction.jsonl\" , lines = True)"
   ]
  },
  {
   "cell_type": "code",
   "execution_count": 4,
   "metadata": {},
   "outputs": [
    {
     "data": {
      "text/html": [
       "<div>\n",
       "<style>\n",
       "    .dataframe thead tr:only-child th {\n",
       "        text-align: right;\n",
       "    }\n",
       "\n",
       "    .dataframe thead th {\n",
       "        text-align: left;\n",
       "    }\n",
       "\n",
       "    .dataframe tbody tr th {\n",
       "        vertical-align: top;\n",
       "    }\n",
       "</style>\n",
       "<table border=\"1\" class=\"dataframe\">\n",
       "  <thead>\n",
       "    <tr style=\"text-align: right;\">\n",
       "      <th></th>\n",
       "      <th>cms_prescription_counts</th>\n",
       "      <th>npi</th>\n",
       "      <th>provider_variables</th>\n",
       "    </tr>\n",
       "  </thead>\n",
       "  <tbody>\n",
       "    <tr>\n",
       "      <th>0</th>\n",
       "      <td>{'DOXAZOSIN MESYLATE': 26, 'MIDODRINE HCL': 12...</td>\n",
       "      <td>1295763035</td>\n",
       "      <td>{'settlement_type': 'non-urban', 'generic_rx_c...</td>\n",
       "    </tr>\n",
       "    <tr>\n",
       "      <th>1</th>\n",
       "      <td>{'CEPHALEXIN': 23, 'AMOXICILLIN': 52, 'HYDROCO...</td>\n",
       "      <td>1992715205</td>\n",
       "      <td>{'settlement_type': 'non-urban', 'generic_rx_c...</td>\n",
       "    </tr>\n",
       "    <tr>\n",
       "      <th>2</th>\n",
       "      <td>{'CEPHALEXIN': 28, 'AMOXICILLIN': 73, 'CLINDAM...</td>\n",
       "      <td>1578587630</td>\n",
       "      <td>{'settlement_type': 'non-urban', 'generic_rx_c...</td>\n",
       "    </tr>\n",
       "    <tr>\n",
       "      <th>3</th>\n",
       "      <td>{'AMOXICILLIN': 63}</td>\n",
       "      <td>1932278405</td>\n",
       "      <td>{'settlement_type': 'non-urban', 'generic_rx_c...</td>\n",
       "    </tr>\n",
       "    <tr>\n",
       "      <th>4</th>\n",
       "      <td>{'PIOGLITAZONE HCL': 24, 'BENAZEPRIL HCL': 29,...</td>\n",
       "      <td>1437366804</td>\n",
       "      <td>{'settlement_type': 'non-urban', 'generic_rx_c...</td>\n",
       "    </tr>\n",
       "  </tbody>\n",
       "</table>\n",
       "</div>"
      ],
      "text/plain": [
       "                             cms_prescription_counts         npi  \\\n",
       "0  {'DOXAZOSIN MESYLATE': 26, 'MIDODRINE HCL': 12...  1295763035   \n",
       "1  {'CEPHALEXIN': 23, 'AMOXICILLIN': 52, 'HYDROCO...  1992715205   \n",
       "2  {'CEPHALEXIN': 28, 'AMOXICILLIN': 73, 'CLINDAM...  1578587630   \n",
       "3                                {'AMOXICILLIN': 63}  1932278405   \n",
       "4  {'PIOGLITAZONE HCL': 24, 'BENAZEPRIL HCL': 29,...  1437366804   \n",
       "\n",
       "                                  provider_variables  \n",
       "0  {'settlement_type': 'non-urban', 'generic_rx_c...  \n",
       "1  {'settlement_type': 'non-urban', 'generic_rx_c...  \n",
       "2  {'settlement_type': 'non-urban', 'generic_rx_c...  \n",
       "3  {'settlement_type': 'non-urban', 'generic_rx_c...  \n",
       "4  {'settlement_type': 'non-urban', 'generic_rx_c...  "
      ]
     },
     "execution_count": 4,
     "metadata": {},
     "output_type": "execute_result"
    }
   ],
   "source": [
    "data.head()"
   ]
  },
  {
   "cell_type": "code",
   "execution_count": 8,
   "metadata": {
    "collapsed": true
   },
   "outputs": [],
   "source": [
    "npi_data = pd.DataFrame(data['npi'])\n",
    "provider_data = pd.DataFrame([v for v in data['provider_variables']])\n",
    "prescription_data = pd.DataFrame([v for v in data['cms_prescription_counts']])\n",
    "FinalData = pd.concat([npi_data, provider_data , prescription_data] , axis = 1)"
   ]
  },
  {
   "cell_type": "code",
   "execution_count": 9,
   "metadata": {},
   "outputs": [
    {
     "data": {
      "text/html": [
       "<div>\n",
       "<style>\n",
       "    .dataframe thead tr:only-child th {\n",
       "        text-align: right;\n",
       "    }\n",
       "\n",
       "    .dataframe thead th {\n",
       "        text-align: left;\n",
       "    }\n",
       "\n",
       "    .dataframe tbody tr th {\n",
       "        vertical-align: top;\n",
       "    }\n",
       "</style>\n",
       "<table border=\"1\" class=\"dataframe\">\n",
       "  <thead>\n",
       "    <tr style=\"text-align: right;\">\n",
       "      <th></th>\n",
       "      <th>npi</th>\n",
       "      <th>brand_name_rx_count</th>\n",
       "      <th>gender</th>\n",
       "      <th>generic_rx_count</th>\n",
       "      <th>region</th>\n",
       "      <th>settlement_type</th>\n",
       "      <th>specialty</th>\n",
       "      <th>years_practicing</th>\n",
       "      <th>1ST TIER UNIFINE PENTIPS</th>\n",
       "      <th>ABACAVIR</th>\n",
       "      <th>...</th>\n",
       "      <th>ZYFLO</th>\n",
       "      <th>ZYFLO CR</th>\n",
       "      <th>ZYLET</th>\n",
       "      <th>ZYLOPRIM</th>\n",
       "      <th>ZYMAXID</th>\n",
       "      <th>ZYPREXA</th>\n",
       "      <th>ZYPREXA RELPREVV</th>\n",
       "      <th>ZYPREXA ZYDIS</th>\n",
       "      <th>ZYTIGA</th>\n",
       "      <th>ZYVOX</th>\n",
       "    </tr>\n",
       "  </thead>\n",
       "  <tbody>\n",
       "    <tr>\n",
       "      <th>0</th>\n",
       "      <td>1295763035</td>\n",
       "      <td>384</td>\n",
       "      <td>M</td>\n",
       "      <td>2287</td>\n",
       "      <td>South</td>\n",
       "      <td>non-urban</td>\n",
       "      <td>Nephrology</td>\n",
       "      <td>7</td>\n",
       "      <td>NaN</td>\n",
       "      <td>NaN</td>\n",
       "      <td>...</td>\n",
       "      <td>NaN</td>\n",
       "      <td>NaN</td>\n",
       "      <td>NaN</td>\n",
       "      <td>NaN</td>\n",
       "      <td>NaN</td>\n",
       "      <td>NaN</td>\n",
       "      <td>NaN</td>\n",
       "      <td>NaN</td>\n",
       "      <td>NaN</td>\n",
       "      <td>NaN</td>\n",
       "    </tr>\n",
       "    <tr>\n",
       "      <th>1</th>\n",
       "      <td>1992715205</td>\n",
       "      <td>0</td>\n",
       "      <td>M</td>\n",
       "      <td>103</td>\n",
       "      <td>South</td>\n",
       "      <td>non-urban</td>\n",
       "      <td>General Practice</td>\n",
       "      <td>7</td>\n",
       "      <td>NaN</td>\n",
       "      <td>NaN</td>\n",
       "      <td>...</td>\n",
       "      <td>NaN</td>\n",
       "      <td>NaN</td>\n",
       "      <td>NaN</td>\n",
       "      <td>NaN</td>\n",
       "      <td>NaN</td>\n",
       "      <td>NaN</td>\n",
       "      <td>NaN</td>\n",
       "      <td>NaN</td>\n",
       "      <td>NaN</td>\n",
       "      <td>NaN</td>\n",
       "    </tr>\n",
       "    <tr>\n",
       "      <th>2</th>\n",
       "      <td>1578587630</td>\n",
       "      <td>0</td>\n",
       "      <td>M</td>\n",
       "      <td>112</td>\n",
       "      <td>Midwest</td>\n",
       "      <td>non-urban</td>\n",
       "      <td>General Practice</td>\n",
       "      <td>7</td>\n",
       "      <td>NaN</td>\n",
       "      <td>NaN</td>\n",
       "      <td>...</td>\n",
       "      <td>NaN</td>\n",
       "      <td>NaN</td>\n",
       "      <td>NaN</td>\n",
       "      <td>NaN</td>\n",
       "      <td>NaN</td>\n",
       "      <td>NaN</td>\n",
       "      <td>NaN</td>\n",
       "      <td>NaN</td>\n",
       "      <td>NaN</td>\n",
       "      <td>NaN</td>\n",
       "    </tr>\n",
       "    <tr>\n",
       "      <th>3</th>\n",
       "      <td>1932278405</td>\n",
       "      <td>0</td>\n",
       "      <td>M</td>\n",
       "      <td>63</td>\n",
       "      <td>South</td>\n",
       "      <td>non-urban</td>\n",
       "      <td>General Practice</td>\n",
       "      <td>7</td>\n",
       "      <td>NaN</td>\n",
       "      <td>NaN</td>\n",
       "      <td>...</td>\n",
       "      <td>NaN</td>\n",
       "      <td>NaN</td>\n",
       "      <td>NaN</td>\n",
       "      <td>NaN</td>\n",
       "      <td>NaN</td>\n",
       "      <td>NaN</td>\n",
       "      <td>NaN</td>\n",
       "      <td>NaN</td>\n",
       "      <td>NaN</td>\n",
       "      <td>NaN</td>\n",
       "    </tr>\n",
       "    <tr>\n",
       "      <th>4</th>\n",
       "      <td>1437366804</td>\n",
       "      <td>316</td>\n",
       "      <td>M</td>\n",
       "      <td>1035</td>\n",
       "      <td>West</td>\n",
       "      <td>non-urban</td>\n",
       "      <td>Nephrology</td>\n",
       "      <td>6</td>\n",
       "      <td>NaN</td>\n",
       "      <td>NaN</td>\n",
       "      <td>...</td>\n",
       "      <td>NaN</td>\n",
       "      <td>NaN</td>\n",
       "      <td>NaN</td>\n",
       "      <td>NaN</td>\n",
       "      <td>NaN</td>\n",
       "      <td>NaN</td>\n",
       "      <td>NaN</td>\n",
       "      <td>NaN</td>\n",
       "      <td>NaN</td>\n",
       "      <td>NaN</td>\n",
       "    </tr>\n",
       "  </tbody>\n",
       "</table>\n",
       "<p>5 rows × 2405 columns</p>\n",
       "</div>"
      ],
      "text/plain": [
       "          npi  brand_name_rx_count gender  generic_rx_count   region  \\\n",
       "0  1295763035                  384      M              2287    South   \n",
       "1  1992715205                    0      M               103    South   \n",
       "2  1578587630                    0      M               112  Midwest   \n",
       "3  1932278405                    0      M                63    South   \n",
       "4  1437366804                  316      M              1035     West   \n",
       "\n",
       "  settlement_type         specialty  years_practicing  \\\n",
       "0       non-urban        Nephrology                 7   \n",
       "1       non-urban  General Practice                 7   \n",
       "2       non-urban  General Practice                 7   \n",
       "3       non-urban  General Practice                 7   \n",
       "4       non-urban        Nephrology                 6   \n",
       "\n",
       "   1ST TIER UNIFINE PENTIPS  ABACAVIR  ...    ZYFLO  ZYFLO CR  ZYLET  \\\n",
       "0                       NaN       NaN  ...      NaN       NaN    NaN   \n",
       "1                       NaN       NaN  ...      NaN       NaN    NaN   \n",
       "2                       NaN       NaN  ...      NaN       NaN    NaN   \n",
       "3                       NaN       NaN  ...      NaN       NaN    NaN   \n",
       "4                       NaN       NaN  ...      NaN       NaN    NaN   \n",
       "\n",
       "   ZYLOPRIM  ZYMAXID  ZYPREXA  ZYPREXA RELPREVV  ZYPREXA ZYDIS  ZYTIGA  ZYVOX  \n",
       "0       NaN      NaN      NaN               NaN            NaN     NaN    NaN  \n",
       "1       NaN      NaN      NaN               NaN            NaN     NaN    NaN  \n",
       "2       NaN      NaN      NaN               NaN            NaN     NaN    NaN  \n",
       "3       NaN      NaN      NaN               NaN            NaN     NaN    NaN  \n",
       "4       NaN      NaN      NaN               NaN            NaN     NaN    NaN  \n",
       "\n",
       "[5 rows x 2405 columns]"
      ]
     },
     "execution_count": 9,
     "metadata": {},
     "output_type": "execute_result"
    }
   ],
   "source": [
    "FinalData.head()"
   ]
  },
  {
   "cell_type": "code",
   "execution_count": 10,
   "metadata": {},
   "outputs": [
    {
     "data": {
      "text/html": [
       "<div>\n",
       "<style>\n",
       "    .dataframe thead tr:only-child th {\n",
       "        text-align: right;\n",
       "    }\n",
       "\n",
       "    .dataframe thead th {\n",
       "        text-align: left;\n",
       "    }\n",
       "\n",
       "    .dataframe tbody tr th {\n",
       "        vertical-align: top;\n",
       "    }\n",
       "</style>\n",
       "<table border=\"1\" class=\"dataframe\">\n",
       "  <thead>\n",
       "    <tr style=\"text-align: right;\">\n",
       "      <th></th>\n",
       "      <th>npi</th>\n",
       "      <th>brand_name_rx_count</th>\n",
       "      <th>generic_rx_count</th>\n",
       "      <th>years_practicing</th>\n",
       "      <th>1ST TIER UNIFINE PENTIPS</th>\n",
       "      <th>ABACAVIR</th>\n",
       "      <th>ABELCET</th>\n",
       "      <th>ABILIFY</th>\n",
       "      <th>ABILIFY DISCMELT</th>\n",
       "      <th>ABILIFY MAINTENA</th>\n",
       "      <th>...</th>\n",
       "      <th>ZYFLO</th>\n",
       "      <th>ZYFLO CR</th>\n",
       "      <th>ZYLET</th>\n",
       "      <th>ZYLOPRIM</th>\n",
       "      <th>ZYMAXID</th>\n",
       "      <th>ZYPREXA</th>\n",
       "      <th>ZYPREXA RELPREVV</th>\n",
       "      <th>ZYPREXA ZYDIS</th>\n",
       "      <th>ZYTIGA</th>\n",
       "      <th>ZYVOX</th>\n",
       "    </tr>\n",
       "  </thead>\n",
       "  <tbody>\n",
       "    <tr>\n",
       "      <th>count</th>\n",
       "      <td>2.399300e+05</td>\n",
       "      <td>239930.000000</td>\n",
       "      <td>239930.000000</td>\n",
       "      <td>239930.000000</td>\n",
       "      <td>10.000000</td>\n",
       "      <td>828.000000</td>\n",
       "      <td>9.000000</td>\n",
       "      <td>20288.000000</td>\n",
       "      <td>81.000000</td>\n",
       "      <td>253.000000</td>\n",
       "      <td>...</td>\n",
       "      <td>2.0</td>\n",
       "      <td>83.000000</td>\n",
       "      <td>8.000000</td>\n",
       "      <td>6.000000</td>\n",
       "      <td>23.000000</td>\n",
       "      <td>785.000000</td>\n",
       "      <td>144.000000</td>\n",
       "      <td>137.000000</td>\n",
       "      <td>1377.000000</td>\n",
       "      <td>90.000000</td>\n",
       "    </tr>\n",
       "    <tr>\n",
       "      <th>mean</th>\n",
       "      <td>1.500000e+09</td>\n",
       "      <td>176.264144</td>\n",
       "      <td>795.547047</td>\n",
       "      <td>6.241875</td>\n",
       "      <td>12.300000</td>\n",
       "      <td>26.421498</td>\n",
       "      <td>18.222222</td>\n",
       "      <td>67.318858</td>\n",
       "      <td>14.679012</td>\n",
       "      <td>19.956522</td>\n",
       "      <td>...</td>\n",
       "      <td>11.0</td>\n",
       "      <td>15.710843</td>\n",
       "      <td>21.750000</td>\n",
       "      <td>12.166667</td>\n",
       "      <td>28.521739</td>\n",
       "      <td>15.775796</td>\n",
       "      <td>35.604167</td>\n",
       "      <td>14.927007</td>\n",
       "      <td>23.652142</td>\n",
       "      <td>16.100000</td>\n",
       "    </tr>\n",
       "    <tr>\n",
       "      <th>std</th>\n",
       "      <td>2.878876e+08</td>\n",
       "      <td>475.159281</td>\n",
       "      <td>1809.618284</td>\n",
       "      <td>1.649269</td>\n",
       "      <td>2.162817</td>\n",
       "      <td>20.192960</td>\n",
       "      <td>6.514940</td>\n",
       "      <td>83.135411</td>\n",
       "      <td>7.424330</td>\n",
       "      <td>12.300555</td>\n",
       "      <td>...</td>\n",
       "      <td>0.0</td>\n",
       "      <td>8.198052</td>\n",
       "      <td>15.899236</td>\n",
       "      <td>0.408248</td>\n",
       "      <td>17.783725</td>\n",
       "      <td>6.512600</td>\n",
       "      <td>58.602277</td>\n",
       "      <td>5.310416</td>\n",
       "      <td>19.475095</td>\n",
       "      <td>9.346092</td>\n",
       "    </tr>\n",
       "    <tr>\n",
       "      <th>min</th>\n",
       "      <td>1.003000e+09</td>\n",
       "      <td>0.000000</td>\n",
       "      <td>0.000000</td>\n",
       "      <td>1.000000</td>\n",
       "      <td>11.000000</td>\n",
       "      <td>11.000000</td>\n",
       "      <td>11.000000</td>\n",
       "      <td>11.000000</td>\n",
       "      <td>11.000000</td>\n",
       "      <td>11.000000</td>\n",
       "      <td>...</td>\n",
       "      <td>11.0</td>\n",
       "      <td>11.000000</td>\n",
       "      <td>11.000000</td>\n",
       "      <td>12.000000</td>\n",
       "      <td>12.000000</td>\n",
       "      <td>11.000000</td>\n",
       "      <td>11.000000</td>\n",
       "      <td>11.000000</td>\n",
       "      <td>11.000000</td>\n",
       "      <td>11.000000</td>\n",
       "    </tr>\n",
       "    <tr>\n",
       "      <th>25%</th>\n",
       "      <td>1.245543e+09</td>\n",
       "      <td>0.000000</td>\n",
       "      <td>36.000000</td>\n",
       "      <td>6.000000</td>\n",
       "      <td>11.000000</td>\n",
       "      <td>13.000000</td>\n",
       "      <td>14.000000</td>\n",
       "      <td>19.000000</td>\n",
       "      <td>11.000000</td>\n",
       "      <td>12.000000</td>\n",
       "      <td>...</td>\n",
       "      <td>11.0</td>\n",
       "      <td>12.000000</td>\n",
       "      <td>12.500000</td>\n",
       "      <td>12.000000</td>\n",
       "      <td>16.000000</td>\n",
       "      <td>12.000000</td>\n",
       "      <td>14.000000</td>\n",
       "      <td>12.000000</td>\n",
       "      <td>13.000000</td>\n",
       "      <td>11.000000</td>\n",
       "    </tr>\n",
       "    <tr>\n",
       "      <th>50%</th>\n",
       "      <td>1.508072e+09</td>\n",
       "      <td>15.000000</td>\n",
       "      <td>145.000000</td>\n",
       "      <td>7.000000</td>\n",
       "      <td>11.500000</td>\n",
       "      <td>19.000000</td>\n",
       "      <td>16.000000</td>\n",
       "      <td>38.000000</td>\n",
       "      <td>12.000000</td>\n",
       "      <td>16.000000</td>\n",
       "      <td>...</td>\n",
       "      <td>11.0</td>\n",
       "      <td>13.000000</td>\n",
       "      <td>16.500000</td>\n",
       "      <td>12.000000</td>\n",
       "      <td>20.000000</td>\n",
       "      <td>13.000000</td>\n",
       "      <td>22.000000</td>\n",
       "      <td>13.000000</td>\n",
       "      <td>18.000000</td>\n",
       "      <td>13.000000</td>\n",
       "    </tr>\n",
       "    <tr>\n",
       "      <th>75%</th>\n",
       "      <td>1.740572e+09</td>\n",
       "      <td>154.000000</td>\n",
       "      <td>750.000000</td>\n",
       "      <td>7.000000</td>\n",
       "      <td>12.750000</td>\n",
       "      <td>31.000000</td>\n",
       "      <td>20.000000</td>\n",
       "      <td>83.000000</td>\n",
       "      <td>14.000000</td>\n",
       "      <td>22.000000</td>\n",
       "      <td>...</td>\n",
       "      <td>11.0</td>\n",
       "      <td>16.500000</td>\n",
       "      <td>23.250000</td>\n",
       "      <td>12.000000</td>\n",
       "      <td>37.500000</td>\n",
       "      <td>17.000000</td>\n",
       "      <td>36.000000</td>\n",
       "      <td>16.000000</td>\n",
       "      <td>26.000000</td>\n",
       "      <td>15.750000</td>\n",
       "    </tr>\n",
       "    <tr>\n",
       "      <th>max</th>\n",
       "      <td>1.993000e+09</td>\n",
       "      <td>30547.000000</td>\n",
       "      <td>101079.000000</td>\n",
       "      <td>8.000000</td>\n",
       "      <td>18.000000</td>\n",
       "      <td>180.000000</td>\n",
       "      <td>29.000000</td>\n",
       "      <td>2120.000000</td>\n",
       "      <td>69.000000</td>\n",
       "      <td>99.000000</td>\n",
       "      <td>...</td>\n",
       "      <td>11.0</td>\n",
       "      <td>60.000000</td>\n",
       "      <td>59.000000</td>\n",
       "      <td>13.000000</td>\n",
       "      <td>78.000000</td>\n",
       "      <td>50.000000</td>\n",
       "      <td>641.000000</td>\n",
       "      <td>38.000000</td>\n",
       "      <td>229.000000</td>\n",
       "      <td>66.000000</td>\n",
       "    </tr>\n",
       "  </tbody>\n",
       "</table>\n",
       "<p>8 rows × 2401 columns</p>\n",
       "</div>"
      ],
      "text/plain": [
       "                npi  brand_name_rx_count  generic_rx_count  years_practicing  \\\n",
       "count  2.399300e+05        239930.000000     239930.000000     239930.000000   \n",
       "mean   1.500000e+09           176.264144        795.547047          6.241875   \n",
       "std    2.878876e+08           475.159281       1809.618284          1.649269   \n",
       "min    1.003000e+09             0.000000          0.000000          1.000000   \n",
       "25%    1.245543e+09             0.000000         36.000000          6.000000   \n",
       "50%    1.508072e+09            15.000000        145.000000          7.000000   \n",
       "75%    1.740572e+09           154.000000        750.000000          7.000000   \n",
       "max    1.993000e+09         30547.000000     101079.000000          8.000000   \n",
       "\n",
       "       1ST TIER UNIFINE PENTIPS    ABACAVIR    ABELCET       ABILIFY  \\\n",
       "count                 10.000000  828.000000   9.000000  20288.000000   \n",
       "mean                  12.300000   26.421498  18.222222     67.318858   \n",
       "std                    2.162817   20.192960   6.514940     83.135411   \n",
       "min                   11.000000   11.000000  11.000000     11.000000   \n",
       "25%                   11.000000   13.000000  14.000000     19.000000   \n",
       "50%                   11.500000   19.000000  16.000000     38.000000   \n",
       "75%                   12.750000   31.000000  20.000000     83.000000   \n",
       "max                   18.000000  180.000000  29.000000   2120.000000   \n",
       "\n",
       "       ABILIFY DISCMELT  ABILIFY MAINTENA    ...      ZYFLO   ZYFLO CR  \\\n",
       "count         81.000000        253.000000    ...        2.0  83.000000   \n",
       "mean          14.679012         19.956522    ...       11.0  15.710843   \n",
       "std            7.424330         12.300555    ...        0.0   8.198052   \n",
       "min           11.000000         11.000000    ...       11.0  11.000000   \n",
       "25%           11.000000         12.000000    ...       11.0  12.000000   \n",
       "50%           12.000000         16.000000    ...       11.0  13.000000   \n",
       "75%           14.000000         22.000000    ...       11.0  16.500000   \n",
       "max           69.000000         99.000000    ...       11.0  60.000000   \n",
       "\n",
       "           ZYLET   ZYLOPRIM    ZYMAXID     ZYPREXA  ZYPREXA RELPREVV  \\\n",
       "count   8.000000   6.000000  23.000000  785.000000        144.000000   \n",
       "mean   21.750000  12.166667  28.521739   15.775796         35.604167   \n",
       "std    15.899236   0.408248  17.783725    6.512600         58.602277   \n",
       "min    11.000000  12.000000  12.000000   11.000000         11.000000   \n",
       "25%    12.500000  12.000000  16.000000   12.000000         14.000000   \n",
       "50%    16.500000  12.000000  20.000000   13.000000         22.000000   \n",
       "75%    23.250000  12.000000  37.500000   17.000000         36.000000   \n",
       "max    59.000000  13.000000  78.000000   50.000000        641.000000   \n",
       "\n",
       "       ZYPREXA ZYDIS       ZYTIGA      ZYVOX  \n",
       "count     137.000000  1377.000000  90.000000  \n",
       "mean       14.927007    23.652142  16.100000  \n",
       "std         5.310416    19.475095   9.346092  \n",
       "min        11.000000    11.000000  11.000000  \n",
       "25%        12.000000    13.000000  11.000000  \n",
       "50%        13.000000    18.000000  13.000000  \n",
       "75%        16.000000    26.000000  15.750000  \n",
       "max        38.000000   229.000000  66.000000  \n",
       "\n",
       "[8 rows x 2401 columns]"
      ]
     },
     "execution_count": 10,
     "metadata": {},
     "output_type": "execute_result"
    }
   ],
   "source": [
    "FinalData.describe()"
   ]
  },
  {
   "cell_type": "code",
   "execution_count": 25,
   "metadata": {
    "collapsed": true
   },
   "outputs": [],
   "source": [
    "specialtyList = FinalData.specialty.value_counts()"
   ]
  },
  {
   "cell_type": "code",
   "execution_count": 44,
   "metadata": {
    "collapsed": true
   },
   "outputs": [],
   "source": [
    "specialtyList = specialtyList[specialtyList > 1000]"
   ]
  },
  {
   "cell_type": "code",
   "execution_count": 45,
   "metadata": {},
   "outputs": [
    {
     "data": {
      "text/plain": [
       "pandas.core.series.Series"
      ]
     },
     "execution_count": 45,
     "metadata": {},
     "output_type": "execute_result"
    }
   ],
   "source": [
    "specialtyList.__class__"
   ]
  },
  {
   "cell_type": "code",
   "execution_count": 47,
   "metadata": {},
   "outputs": [
    {
     "name": "stdout",
     "output_type": "stream",
     "text": [
      "<class 'list'>\n",
      "33\n"
     ]
    }
   ],
   "source": [
    "specialtyUse = list(specialtyList.index)\n",
    "print(specialtyUse.__class__)\n",
    "print(len(specialtyUse))"
   ]
  },
  {
   "cell_type": "code",
   "execution_count": 48,
   "metadata": {
    "collapsed": true
   },
   "outputs": [],
   "source": [
    "FinalDataSubset = FinalData[FinalData.specialty.isin(specialtyUse)]"
   ]
  },
  {
   "cell_type": "code",
   "execution_count": 49,
   "metadata": {},
   "outputs": [
    {
     "name": "stdout",
     "output_type": "stream",
     "text": [
      "(215695, 2405)\n",
      "(239930, 2405)\n"
     ]
    }
   ],
   "source": [
    "print(FinalDataSubset.shape)\n",
    "print(FinalData.shape)"
   ]
  },
  {
   "cell_type": "markdown",
   "metadata": {},
   "source": [
    "## Test"
   ]
  },
  {
   "cell_type": "markdown",
   "metadata": {},
   "source": [
    "\n",
    "FinalDataTest = FinalDataSubset.loc[0:5]\n",
    "\n",
    "FinalDataTest\n",
    "\n",
    "FinalDataTest[FinalDataTest.isnull().sum(axis = 1) < 2340]"
   ]
  },
  {
   "cell_type": "code",
   "execution_count": 61,
   "metadata": {
    "collapsed": true
   },
   "outputs": [],
   "source": [
    "FinalDataDrugSubset = FinalDataSubset[FinalDataSubset.isnull().sum(axis = 1) < 2350]"
   ]
  },
  {
   "cell_type": "code",
   "execution_count": 62,
   "metadata": {},
   "outputs": [
    {
     "name": "stdout",
     "output_type": "stream",
     "text": [
      "(29594, 2405)\n"
     ]
    }
   ],
   "source": [
    "print(FinalDataDrugSubset.shape)"
   ]
  },
  {
   "cell_type": "code",
   "execution_count": 63,
   "metadata": {
    "collapsed": true
   },
   "outputs": [],
   "source": [
    "FinalDataDrugSubset.to_csv(\"FinalDataDrugSubset.csv\")"
   ]
  },
  {
   "cell_type": "code",
   "execution_count": 64,
   "metadata": {},
   "outputs": [
    {
     "data": {
      "text/html": [
       "<div>\n",
       "<style>\n",
       "    .dataframe thead tr:only-child th {\n",
       "        text-align: right;\n",
       "    }\n",
       "\n",
       "    .dataframe thead th {\n",
       "        text-align: left;\n",
       "    }\n",
       "\n",
       "    .dataframe tbody tr th {\n",
       "        vertical-align: top;\n",
       "    }\n",
       "</style>\n",
       "<table border=\"1\" class=\"dataframe\">\n",
       "  <thead>\n",
       "    <tr style=\"text-align: right;\">\n",
       "      <th></th>\n",
       "      <th>npi</th>\n",
       "      <th>brand_name_rx_count</th>\n",
       "      <th>generic_rx_count</th>\n",
       "      <th>years_practicing</th>\n",
       "      <th>1ST TIER UNIFINE PENTIPS</th>\n",
       "      <th>ABACAVIR</th>\n",
       "      <th>ABELCET</th>\n",
       "      <th>ABILIFY</th>\n",
       "      <th>ABILIFY DISCMELT</th>\n",
       "      <th>ABILIFY MAINTENA</th>\n",
       "      <th>...</th>\n",
       "      <th>ZYFLO</th>\n",
       "      <th>ZYFLO CR</th>\n",
       "      <th>ZYLET</th>\n",
       "      <th>ZYLOPRIM</th>\n",
       "      <th>ZYMAXID</th>\n",
       "      <th>ZYPREXA</th>\n",
       "      <th>ZYPREXA RELPREVV</th>\n",
       "      <th>ZYPREXA ZYDIS</th>\n",
       "      <th>ZYTIGA</th>\n",
       "      <th>ZYVOX</th>\n",
       "    </tr>\n",
       "  </thead>\n",
       "  <tbody>\n",
       "    <tr>\n",
       "      <th>count</th>\n",
       "      <td>2.959400e+04</td>\n",
       "      <td>29594.000000</td>\n",
       "      <td>29594.000000</td>\n",
       "      <td>29594.000000</td>\n",
       "      <td>8.000000</td>\n",
       "      <td>400.000000</td>\n",
       "      <td>4.000000</td>\n",
       "      <td>6570.000000</td>\n",
       "      <td>43.000000</td>\n",
       "      <td>186.000000</td>\n",
       "      <td>...</td>\n",
       "      <td>0.0</td>\n",
       "      <td>18.000000</td>\n",
       "      <td>3.000000</td>\n",
       "      <td>5.000000</td>\n",
       "      <td>3.000000</td>\n",
       "      <td>430.000000</td>\n",
       "      <td>101.000000</td>\n",
       "      <td>84.000000</td>\n",
       "      <td>186.00000</td>\n",
       "      <td>39.000000</td>\n",
       "    </tr>\n",
       "    <tr>\n",
       "      <th>mean</th>\n",
       "      <td>1.500632e+09</td>\n",
       "      <td>866.896567</td>\n",
       "      <td>3874.476516</td>\n",
       "      <td>6.652294</td>\n",
       "      <td>12.625000</td>\n",
       "      <td>32.965000</td>\n",
       "      <td>19.500000</td>\n",
       "      <td>111.296956</td>\n",
       "      <td>15.023256</td>\n",
       "      <td>20.430108</td>\n",
       "      <td>...</td>\n",
       "      <td>NaN</td>\n",
       "      <td>13.666667</td>\n",
       "      <td>16.000000</td>\n",
       "      <td>12.200000</td>\n",
       "      <td>18.000000</td>\n",
       "      <td>16.646512</td>\n",
       "      <td>33.742574</td>\n",
       "      <td>15.011905</td>\n",
       "      <td>23.66129</td>\n",
       "      <td>16.564103</td>\n",
       "    </tr>\n",
       "    <tr>\n",
       "      <th>std</th>\n",
       "      <td>2.868977e+08</td>\n",
       "      <td>990.120208</td>\n",
       "      <td>3398.969493</td>\n",
       "      <td>1.460089</td>\n",
       "      <td>2.326094</td>\n",
       "      <td>24.372399</td>\n",
       "      <td>6.952218</td>\n",
       "      <td>116.849301</td>\n",
       "      <td>9.343927</td>\n",
       "      <td>13.123033</td>\n",
       "      <td>...</td>\n",
       "      <td>NaN</td>\n",
       "      <td>3.067860</td>\n",
       "      <td>6.244998</td>\n",
       "      <td>0.447214</td>\n",
       "      <td>2.645751</td>\n",
       "      <td>7.312898</td>\n",
       "      <td>32.107212</td>\n",
       "      <td>5.158906</td>\n",
       "      <td>14.09076</td>\n",
       "      <td>11.449649</td>\n",
       "    </tr>\n",
       "    <tr>\n",
       "      <th>min</th>\n",
       "      <td>1.003015e+09</td>\n",
       "      <td>0.000000</td>\n",
       "      <td>431.000000</td>\n",
       "      <td>1.000000</td>\n",
       "      <td>11.000000</td>\n",
       "      <td>11.000000</td>\n",
       "      <td>11.000000</td>\n",
       "      <td>11.000000</td>\n",
       "      <td>11.000000</td>\n",
       "      <td>11.000000</td>\n",
       "      <td>...</td>\n",
       "      <td>NaN</td>\n",
       "      <td>11.000000</td>\n",
       "      <td>11.000000</td>\n",
       "      <td>12.000000</td>\n",
       "      <td>15.000000</td>\n",
       "      <td>11.000000</td>\n",
       "      <td>11.000000</td>\n",
       "      <td>11.000000</td>\n",
       "      <td>11.00000</td>\n",
       "      <td>11.000000</td>\n",
       "    </tr>\n",
       "    <tr>\n",
       "      <th>25%</th>\n",
       "      <td>1.255336e+09</td>\n",
       "      <td>355.000000</td>\n",
       "      <td>1964.000000</td>\n",
       "      <td>7.000000</td>\n",
       "      <td>11.000000</td>\n",
       "      <td>17.000000</td>\n",
       "      <td>17.000000</td>\n",
       "      <td>25.000000</td>\n",
       "      <td>11.000000</td>\n",
       "      <td>12.000000</td>\n",
       "      <td>...</td>\n",
       "      <td>NaN</td>\n",
       "      <td>12.000000</td>\n",
       "      <td>12.500000</td>\n",
       "      <td>12.000000</td>\n",
       "      <td>17.000000</td>\n",
       "      <td>12.000000</td>\n",
       "      <td>14.000000</td>\n",
       "      <td>12.000000</td>\n",
       "      <td>14.00000</td>\n",
       "      <td>11.000000</td>\n",
       "    </tr>\n",
       "    <tr>\n",
       "      <th>50%</th>\n",
       "      <td>1.508060e+09</td>\n",
       "      <td>599.000000</td>\n",
       "      <td>2971.000000</td>\n",
       "      <td>7.000000</td>\n",
       "      <td>12.000000</td>\n",
       "      <td>26.000000</td>\n",
       "      <td>19.500000</td>\n",
       "      <td>79.000000</td>\n",
       "      <td>12.000000</td>\n",
       "      <td>16.000000</td>\n",
       "      <td>...</td>\n",
       "      <td>NaN</td>\n",
       "      <td>12.000000</td>\n",
       "      <td>14.000000</td>\n",
       "      <td>12.000000</td>\n",
       "      <td>19.000000</td>\n",
       "      <td>13.000000</td>\n",
       "      <td>22.000000</td>\n",
       "      <td>13.000000</td>\n",
       "      <td>20.00000</td>\n",
       "      <td>12.000000</td>\n",
       "    </tr>\n",
       "    <tr>\n",
       "      <th>75%</th>\n",
       "      <td>1.740500e+09</td>\n",
       "      <td>1029.000000</td>\n",
       "      <td>4600.750000</td>\n",
       "      <td>7.000000</td>\n",
       "      <td>13.000000</td>\n",
       "      <td>41.000000</td>\n",
       "      <td>22.000000</td>\n",
       "      <td>155.000000</td>\n",
       "      <td>13.000000</td>\n",
       "      <td>22.750000</td>\n",
       "      <td>...</td>\n",
       "      <td>NaN</td>\n",
       "      <td>15.500000</td>\n",
       "      <td>18.500000</td>\n",
       "      <td>12.000000</td>\n",
       "      <td>19.500000</td>\n",
       "      <td>20.000000</td>\n",
       "      <td>36.000000</td>\n",
       "      <td>17.000000</td>\n",
       "      <td>29.00000</td>\n",
       "      <td>15.000000</td>\n",
       "    </tr>\n",
       "    <tr>\n",
       "      <th>max</th>\n",
       "      <td>1.992997e+09</td>\n",
       "      <td>30547.000000</td>\n",
       "      <td>101079.000000</td>\n",
       "      <td>8.000000</td>\n",
       "      <td>18.000000</td>\n",
       "      <td>180.000000</td>\n",
       "      <td>28.000000</td>\n",
       "      <td>2120.000000</td>\n",
       "      <td>69.000000</td>\n",
       "      <td>99.000000</td>\n",
       "      <td>...</td>\n",
       "      <td>NaN</td>\n",
       "      <td>22.000000</td>\n",
       "      <td>23.000000</td>\n",
       "      <td>13.000000</td>\n",
       "      <td>20.000000</td>\n",
       "      <td>50.000000</td>\n",
       "      <td>204.000000</td>\n",
       "      <td>38.000000</td>\n",
       "      <td>108.00000</td>\n",
       "      <td>66.000000</td>\n",
       "    </tr>\n",
       "  </tbody>\n",
       "</table>\n",
       "<p>8 rows × 2401 columns</p>\n",
       "</div>"
      ],
      "text/plain": [
       "                npi  brand_name_rx_count  generic_rx_count  years_practicing  \\\n",
       "count  2.959400e+04         29594.000000      29594.000000      29594.000000   \n",
       "mean   1.500632e+09           866.896567       3874.476516          6.652294   \n",
       "std    2.868977e+08           990.120208       3398.969493          1.460089   \n",
       "min    1.003015e+09             0.000000        431.000000          1.000000   \n",
       "25%    1.255336e+09           355.000000       1964.000000          7.000000   \n",
       "50%    1.508060e+09           599.000000       2971.000000          7.000000   \n",
       "75%    1.740500e+09          1029.000000       4600.750000          7.000000   \n",
       "max    1.992997e+09         30547.000000     101079.000000          8.000000   \n",
       "\n",
       "       1ST TIER UNIFINE PENTIPS    ABACAVIR    ABELCET      ABILIFY  \\\n",
       "count                  8.000000  400.000000   4.000000  6570.000000   \n",
       "mean                  12.625000   32.965000  19.500000   111.296956   \n",
       "std                    2.326094   24.372399   6.952218   116.849301   \n",
       "min                   11.000000   11.000000  11.000000    11.000000   \n",
       "25%                   11.000000   17.000000  17.000000    25.000000   \n",
       "50%                   12.000000   26.000000  19.500000    79.000000   \n",
       "75%                   13.000000   41.000000  22.000000   155.000000   \n",
       "max                   18.000000  180.000000  28.000000  2120.000000   \n",
       "\n",
       "       ABILIFY DISCMELT  ABILIFY MAINTENA    ...      ZYFLO   ZYFLO CR  \\\n",
       "count         43.000000        186.000000    ...        0.0  18.000000   \n",
       "mean          15.023256         20.430108    ...        NaN  13.666667   \n",
       "std            9.343927         13.123033    ...        NaN   3.067860   \n",
       "min           11.000000         11.000000    ...        NaN  11.000000   \n",
       "25%           11.000000         12.000000    ...        NaN  12.000000   \n",
       "50%           12.000000         16.000000    ...        NaN  12.000000   \n",
       "75%           13.000000         22.750000    ...        NaN  15.500000   \n",
       "max           69.000000         99.000000    ...        NaN  22.000000   \n",
       "\n",
       "           ZYLET   ZYLOPRIM    ZYMAXID     ZYPREXA  ZYPREXA RELPREVV  \\\n",
       "count   3.000000   5.000000   3.000000  430.000000        101.000000   \n",
       "mean   16.000000  12.200000  18.000000   16.646512         33.742574   \n",
       "std     6.244998   0.447214   2.645751    7.312898         32.107212   \n",
       "min    11.000000  12.000000  15.000000   11.000000         11.000000   \n",
       "25%    12.500000  12.000000  17.000000   12.000000         14.000000   \n",
       "50%    14.000000  12.000000  19.000000   13.000000         22.000000   \n",
       "75%    18.500000  12.000000  19.500000   20.000000         36.000000   \n",
       "max    23.000000  13.000000  20.000000   50.000000        204.000000   \n",
       "\n",
       "       ZYPREXA ZYDIS     ZYTIGA      ZYVOX  \n",
       "count      84.000000  186.00000  39.000000  \n",
       "mean       15.011905   23.66129  16.564103  \n",
       "std         5.158906   14.09076  11.449649  \n",
       "min        11.000000   11.00000  11.000000  \n",
       "25%        12.000000   14.00000  11.000000  \n",
       "50%        13.000000   20.00000  12.000000  \n",
       "75%        17.000000   29.00000  15.000000  \n",
       "max        38.000000  108.00000  66.000000  \n",
       "\n",
       "[8 rows x 2401 columns]"
      ]
     },
     "execution_count": 64,
     "metadata": {},
     "output_type": "execute_result"
    }
   ],
   "source": [
    "FinalDataDrugSubset.describe()"
   ]
  },
  {
   "cell_type": "markdown",
   "metadata": {},
   "source": [
    "## Filtering columns (removing drugs) which have more than 70% nulls"
   ]
  },
  {
   "cell_type": "code",
   "execution_count": 65,
   "metadata": {},
   "outputs": [
    {
     "data": {
      "text/plain": [
       "2405"
      ]
     },
     "execution_count": 65,
     "metadata": {},
     "output_type": "execute_result"
    }
   ],
   "source": [
    "FinalDataDrugSubset.shape[1]"
   ]
  },
  {
   "cell_type": "code",
   "execution_count": 74,
   "metadata": {
    "collapsed": true
   },
   "outputs": [],
   "source": [
    "FinalDataImpDrugsSubset = FinalDataDrugSubset.loc[:,FinalDataDrugSubset.isnull().sum(axis = 0) < 0.9*FinalDataDrugSubset.shape[0]]"
   ]
  },
  {
   "cell_type": "code",
   "execution_count": 75,
   "metadata": {},
   "outputs": [
    {
     "data": {
      "text/plain": [
       "(29594, 226)"
      ]
     },
     "execution_count": 75,
     "metadata": {},
     "output_type": "execute_result"
    }
   ],
   "source": [
    "FinalDataImpDrugsSubset.shape"
   ]
  },
  {
   "cell_type": "code",
   "execution_count": 76,
   "metadata": {},
   "outputs": [
    {
     "data": {
      "text/html": [
       "<div>\n",
       "<style>\n",
       "    .dataframe thead tr:only-child th {\n",
       "        text-align: right;\n",
       "    }\n",
       "\n",
       "    .dataframe thead th {\n",
       "        text-align: left;\n",
       "    }\n",
       "\n",
       "    .dataframe tbody tr th {\n",
       "        vertical-align: top;\n",
       "    }\n",
       "</style>\n",
       "<table border=\"1\" class=\"dataframe\">\n",
       "  <thead>\n",
       "    <tr style=\"text-align: right;\">\n",
       "      <th></th>\n",
       "      <th>npi</th>\n",
       "      <th>brand_name_rx_count</th>\n",
       "      <th>gender</th>\n",
       "      <th>generic_rx_count</th>\n",
       "      <th>region</th>\n",
       "      <th>settlement_type</th>\n",
       "      <th>specialty</th>\n",
       "      <th>years_practicing</th>\n",
       "      <th>ABILIFY</th>\n",
       "      <th>ACETAMINOPHEN-CODEINE</th>\n",
       "      <th>...</th>\n",
       "      <th>VENTOLIN HFA</th>\n",
       "      <th>VERAPAMIL ER</th>\n",
       "      <th>VESICARE</th>\n",
       "      <th>VOLTAREN</th>\n",
       "      <th>VYTORIN</th>\n",
       "      <th>WARFARIN SODIUM</th>\n",
       "      <th>XARELTO</th>\n",
       "      <th>ZETIA</th>\n",
       "      <th>ZIPRASIDONE HCL</th>\n",
       "      <th>ZOLPIDEM TARTRATE</th>\n",
       "    </tr>\n",
       "  </thead>\n",
       "  <tbody>\n",
       "    <tr>\n",
       "      <th>0</th>\n",
       "      <td>1295763035</td>\n",
       "      <td>384</td>\n",
       "      <td>M</td>\n",
       "      <td>2287</td>\n",
       "      <td>South</td>\n",
       "      <td>non-urban</td>\n",
       "      <td>Nephrology</td>\n",
       "      <td>7</td>\n",
       "      <td>11.0</td>\n",
       "      <td>NaN</td>\n",
       "      <td>...</td>\n",
       "      <td>NaN</td>\n",
       "      <td>NaN</td>\n",
       "      <td>NaN</td>\n",
       "      <td>NaN</td>\n",
       "      <td>NaN</td>\n",
       "      <td>NaN</td>\n",
       "      <td>NaN</td>\n",
       "      <td>NaN</td>\n",
       "      <td>NaN</td>\n",
       "      <td>41.0</td>\n",
       "    </tr>\n",
       "    <tr>\n",
       "      <th>4</th>\n",
       "      <td>1437366804</td>\n",
       "      <td>316</td>\n",
       "      <td>M</td>\n",
       "      <td>1035</td>\n",
       "      <td>West</td>\n",
       "      <td>non-urban</td>\n",
       "      <td>Nephrology</td>\n",
       "      <td>6</td>\n",
       "      <td>NaN</td>\n",
       "      <td>NaN</td>\n",
       "      <td>...</td>\n",
       "      <td>NaN</td>\n",
       "      <td>NaN</td>\n",
       "      <td>NaN</td>\n",
       "      <td>NaN</td>\n",
       "      <td>NaN</td>\n",
       "      <td>14.0</td>\n",
       "      <td>NaN</td>\n",
       "      <td>NaN</td>\n",
       "      <td>NaN</td>\n",
       "      <td>35.0</td>\n",
       "    </tr>\n",
       "    <tr>\n",
       "      <th>8</th>\n",
       "      <td>1316196462</td>\n",
       "      <td>374</td>\n",
       "      <td>M</td>\n",
       "      <td>2452</td>\n",
       "      <td>Northeast</td>\n",
       "      <td>urban</td>\n",
       "      <td>Gastroenterology</td>\n",
       "      <td>5</td>\n",
       "      <td>NaN</td>\n",
       "      <td>NaN</td>\n",
       "      <td>...</td>\n",
       "      <td>NaN</td>\n",
       "      <td>NaN</td>\n",
       "      <td>NaN</td>\n",
       "      <td>17.0</td>\n",
       "      <td>NaN</td>\n",
       "      <td>88.0</td>\n",
       "      <td>23.0</td>\n",
       "      <td>NaN</td>\n",
       "      <td>NaN</td>\n",
       "      <td>NaN</td>\n",
       "    </tr>\n",
       "    <tr>\n",
       "      <th>16</th>\n",
       "      <td>1215979554</td>\n",
       "      <td>683</td>\n",
       "      <td>M</td>\n",
       "      <td>3462</td>\n",
       "      <td>Midwest</td>\n",
       "      <td>urban</td>\n",
       "      <td>Psychiatry</td>\n",
       "      <td>7</td>\n",
       "      <td>110.0</td>\n",
       "      <td>NaN</td>\n",
       "      <td>...</td>\n",
       "      <td>NaN</td>\n",
       "      <td>NaN</td>\n",
       "      <td>NaN</td>\n",
       "      <td>NaN</td>\n",
       "      <td>NaN</td>\n",
       "      <td>NaN</td>\n",
       "      <td>NaN</td>\n",
       "      <td>NaN</td>\n",
       "      <td>54.0</td>\n",
       "      <td>116.0</td>\n",
       "    </tr>\n",
       "    <tr>\n",
       "      <th>19</th>\n",
       "      <td>1174564165</td>\n",
       "      <td>143</td>\n",
       "      <td>M</td>\n",
       "      <td>2300</td>\n",
       "      <td>Northeast</td>\n",
       "      <td>urban</td>\n",
       "      <td>Psychiatry</td>\n",
       "      <td>7</td>\n",
       "      <td>15.0</td>\n",
       "      <td>NaN</td>\n",
       "      <td>...</td>\n",
       "      <td>NaN</td>\n",
       "      <td>NaN</td>\n",
       "      <td>NaN</td>\n",
       "      <td>NaN</td>\n",
       "      <td>NaN</td>\n",
       "      <td>NaN</td>\n",
       "      <td>NaN</td>\n",
       "      <td>NaN</td>\n",
       "      <td>18.0</td>\n",
       "      <td>92.0</td>\n",
       "    </tr>\n",
       "  </tbody>\n",
       "</table>\n",
       "<p>5 rows × 226 columns</p>\n",
       "</div>"
      ],
      "text/plain": [
       "           npi  brand_name_rx_count gender  generic_rx_count     region  \\\n",
       "0   1295763035                  384      M              2287      South   \n",
       "4   1437366804                  316      M              1035       West   \n",
       "8   1316196462                  374      M              2452  Northeast   \n",
       "16  1215979554                  683      M              3462    Midwest   \n",
       "19  1174564165                  143      M              2300  Northeast   \n",
       "\n",
       "   settlement_type         specialty  years_practicing  ABILIFY  \\\n",
       "0        non-urban        Nephrology                 7     11.0   \n",
       "4        non-urban        Nephrology                 6      NaN   \n",
       "8            urban  Gastroenterology                 5      NaN   \n",
       "16           urban        Psychiatry                 7    110.0   \n",
       "19           urban        Psychiatry                 7     15.0   \n",
       "\n",
       "    ACETAMINOPHEN-CODEINE        ...          VENTOLIN HFA  VERAPAMIL ER  \\\n",
       "0                     NaN        ...                   NaN           NaN   \n",
       "4                     NaN        ...                   NaN           NaN   \n",
       "8                     NaN        ...                   NaN           NaN   \n",
       "16                    NaN        ...                   NaN           NaN   \n",
       "19                    NaN        ...                   NaN           NaN   \n",
       "\n",
       "    VESICARE  VOLTAREN  VYTORIN  WARFARIN SODIUM  XARELTO  ZETIA  \\\n",
       "0        NaN       NaN      NaN              NaN      NaN    NaN   \n",
       "4        NaN       NaN      NaN             14.0      NaN    NaN   \n",
       "8        NaN      17.0      NaN             88.0     23.0    NaN   \n",
       "16       NaN       NaN      NaN              NaN      NaN    NaN   \n",
       "19       NaN       NaN      NaN              NaN      NaN    NaN   \n",
       "\n",
       "    ZIPRASIDONE HCL  ZOLPIDEM TARTRATE  \n",
       "0               NaN               41.0  \n",
       "4               NaN               35.0  \n",
       "8               NaN                NaN  \n",
       "16             54.0              116.0  \n",
       "19             18.0               92.0  \n",
       "\n",
       "[5 rows x 226 columns]"
      ]
     },
     "execution_count": 76,
     "metadata": {},
     "output_type": "execute_result"
    }
   ],
   "source": [
    "FinalDataImpDrugsSubset.head()"
   ]
  },
  {
   "cell_type": "code",
   "execution_count": 79,
   "metadata": {},
   "outputs": [
    {
     "data": {
      "text/html": [
       "<div>\n",
       "<style>\n",
       "    .dataframe thead tr:only-child th {\n",
       "        text-align: right;\n",
       "    }\n",
       "\n",
       "    .dataframe thead th {\n",
       "        text-align: left;\n",
       "    }\n",
       "\n",
       "    .dataframe tbody tr th {\n",
       "        vertical-align: top;\n",
       "    }\n",
       "</style>\n",
       "<table border=\"1\" class=\"dataframe\">\n",
       "  <thead>\n",
       "    <tr style=\"text-align: right;\">\n",
       "      <th></th>\n",
       "      <th>npi</th>\n",
       "      <th>brand_name_rx_count</th>\n",
       "      <th>gender</th>\n",
       "      <th>generic_rx_count</th>\n",
       "      <th>region</th>\n",
       "      <th>settlement_type</th>\n",
       "      <th>specialty</th>\n",
       "      <th>years_practicing</th>\n",
       "      <th>ABILIFY</th>\n",
       "      <th>ACETAMINOPHEN-CODEINE</th>\n",
       "      <th>...</th>\n",
       "      <th>VENTOLIN HFA</th>\n",
       "      <th>VERAPAMIL ER</th>\n",
       "      <th>VESICARE</th>\n",
       "      <th>VOLTAREN</th>\n",
       "      <th>VYTORIN</th>\n",
       "      <th>WARFARIN SODIUM</th>\n",
       "      <th>XARELTO</th>\n",
       "      <th>ZETIA</th>\n",
       "      <th>ZIPRASIDONE HCL</th>\n",
       "      <th>ZOLPIDEM TARTRATE</th>\n",
       "    </tr>\n",
       "  </thead>\n",
       "  <tbody>\n",
       "    <tr>\n",
       "      <th>count</th>\n",
       "      <td>2.959400e+04</td>\n",
       "      <td>29594.000000</td>\n",
       "      <td>29594</td>\n",
       "      <td>29594.000000</td>\n",
       "      <td>29594</td>\n",
       "      <td>29594</td>\n",
       "      <td>29594</td>\n",
       "      <td>29594.000000</td>\n",
       "      <td>6570.000000</td>\n",
       "      <td>4450.000000</td>\n",
       "      <td>...</td>\n",
       "      <td>5591.000000</td>\n",
       "      <td>8508.000000</td>\n",
       "      <td>3385.000000</td>\n",
       "      <td>3757.000000</td>\n",
       "      <td>5192.000000</td>\n",
       "      <td>18152.000000</td>\n",
       "      <td>5903.000000</td>\n",
       "      <td>11530.000000</td>\n",
       "      <td>4367.000000</td>\n",
       "      <td>20042.000000</td>\n",
       "    </tr>\n",
       "    <tr>\n",
       "      <th>unique</th>\n",
       "      <td>NaN</td>\n",
       "      <td>NaN</td>\n",
       "      <td>2</td>\n",
       "      <td>NaN</td>\n",
       "      <td>4</td>\n",
       "      <td>2</td>\n",
       "      <td>30</td>\n",
       "      <td>NaN</td>\n",
       "      <td>NaN</td>\n",
       "      <td>NaN</td>\n",
       "      <td>...</td>\n",
       "      <td>NaN</td>\n",
       "      <td>NaN</td>\n",
       "      <td>NaN</td>\n",
       "      <td>NaN</td>\n",
       "      <td>NaN</td>\n",
       "      <td>NaN</td>\n",
       "      <td>NaN</td>\n",
       "      <td>NaN</td>\n",
       "      <td>NaN</td>\n",
       "      <td>NaN</td>\n",
       "    </tr>\n",
       "    <tr>\n",
       "      <th>top</th>\n",
       "      <td>NaN</td>\n",
       "      <td>NaN</td>\n",
       "      <td>M</td>\n",
       "      <td>NaN</td>\n",
       "      <td>South</td>\n",
       "      <td>non-urban</td>\n",
       "      <td>Cardiovascular Disease</td>\n",
       "      <td>NaN</td>\n",
       "      <td>NaN</td>\n",
       "      <td>NaN</td>\n",
       "      <td>...</td>\n",
       "      <td>NaN</td>\n",
       "      <td>NaN</td>\n",
       "      <td>NaN</td>\n",
       "      <td>NaN</td>\n",
       "      <td>NaN</td>\n",
       "      <td>NaN</td>\n",
       "      <td>NaN</td>\n",
       "      <td>NaN</td>\n",
       "      <td>NaN</td>\n",
       "      <td>NaN</td>\n",
       "    </tr>\n",
       "    <tr>\n",
       "      <th>freq</th>\n",
       "      <td>NaN</td>\n",
       "      <td>NaN</td>\n",
       "      <td>18425</td>\n",
       "      <td>NaN</td>\n",
       "      <td>11871</td>\n",
       "      <td>17621</td>\n",
       "      <td>5654</td>\n",
       "      <td>NaN</td>\n",
       "      <td>NaN</td>\n",
       "      <td>NaN</td>\n",
       "      <td>...</td>\n",
       "      <td>NaN</td>\n",
       "      <td>NaN</td>\n",
       "      <td>NaN</td>\n",
       "      <td>NaN</td>\n",
       "      <td>NaN</td>\n",
       "      <td>NaN</td>\n",
       "      <td>NaN</td>\n",
       "      <td>NaN</td>\n",
       "      <td>NaN</td>\n",
       "      <td>NaN</td>\n",
       "    </tr>\n",
       "    <tr>\n",
       "      <th>mean</th>\n",
       "      <td>1.500632e+09</td>\n",
       "      <td>866.896567</td>\n",
       "      <td>NaN</td>\n",
       "      <td>3874.476516</td>\n",
       "      <td>NaN</td>\n",
       "      <td>NaN</td>\n",
       "      <td>NaN</td>\n",
       "      <td>6.652294</td>\n",
       "      <td>111.296956</td>\n",
       "      <td>28.271685</td>\n",
       "      <td>...</td>\n",
       "      <td>29.328564</td>\n",
       "      <td>25.885402</td>\n",
       "      <td>25.464697</td>\n",
       "      <td>44.007985</td>\n",
       "      <td>25.726695</td>\n",
       "      <td>118.145108</td>\n",
       "      <td>55.130612</td>\n",
       "      <td>43.947702</td>\n",
       "      <td>73.365239</td>\n",
       "      <td>68.357300</td>\n",
       "    </tr>\n",
       "    <tr>\n",
       "      <th>std</th>\n",
       "      <td>2.868977e+08</td>\n",
       "      <td>990.120208</td>\n",
       "      <td>NaN</td>\n",
       "      <td>3398.969493</td>\n",
       "      <td>NaN</td>\n",
       "      <td>NaN</td>\n",
       "      <td>NaN</td>\n",
       "      <td>1.460089</td>\n",
       "      <td>116.849301</td>\n",
       "      <td>30.832090</td>\n",
       "      <td>...</td>\n",
       "      <td>54.615942</td>\n",
       "      <td>22.205976</td>\n",
       "      <td>31.362264</td>\n",
       "      <td>75.122665</td>\n",
       "      <td>20.433338</td>\n",
       "      <td>161.903704</td>\n",
       "      <td>56.200120</td>\n",
       "      <td>50.670992</td>\n",
       "      <td>67.915789</td>\n",
       "      <td>87.653877</td>\n",
       "    </tr>\n",
       "    <tr>\n",
       "      <th>min</th>\n",
       "      <td>1.003015e+09</td>\n",
       "      <td>0.000000</td>\n",
       "      <td>NaN</td>\n",
       "      <td>431.000000</td>\n",
       "      <td>NaN</td>\n",
       "      <td>NaN</td>\n",
       "      <td>NaN</td>\n",
       "      <td>1.000000</td>\n",
       "      <td>11.000000</td>\n",
       "      <td>11.000000</td>\n",
       "      <td>...</td>\n",
       "      <td>11.000000</td>\n",
       "      <td>11.000000</td>\n",
       "      <td>11.000000</td>\n",
       "      <td>11.000000</td>\n",
       "      <td>11.000000</td>\n",
       "      <td>11.000000</td>\n",
       "      <td>11.000000</td>\n",
       "      <td>11.000000</td>\n",
       "      <td>11.000000</td>\n",
       "      <td>11.000000</td>\n",
       "    </tr>\n",
       "    <tr>\n",
       "      <th>25%</th>\n",
       "      <td>1.255336e+09</td>\n",
       "      <td>355.000000</td>\n",
       "      <td>NaN</td>\n",
       "      <td>1964.000000</td>\n",
       "      <td>NaN</td>\n",
       "      <td>NaN</td>\n",
       "      <td>NaN</td>\n",
       "      <td>7.000000</td>\n",
       "      <td>25.000000</td>\n",
       "      <td>14.000000</td>\n",
       "      <td>...</td>\n",
       "      <td>14.000000</td>\n",
       "      <td>14.000000</td>\n",
       "      <td>13.000000</td>\n",
       "      <td>15.000000</td>\n",
       "      <td>13.000000</td>\n",
       "      <td>29.000000</td>\n",
       "      <td>20.000000</td>\n",
       "      <td>17.000000</td>\n",
       "      <td>27.000000</td>\n",
       "      <td>23.000000</td>\n",
       "    </tr>\n",
       "    <tr>\n",
       "      <th>50%</th>\n",
       "      <td>1.508060e+09</td>\n",
       "      <td>599.000000</td>\n",
       "      <td>NaN</td>\n",
       "      <td>2971.000000</td>\n",
       "      <td>NaN</td>\n",
       "      <td>NaN</td>\n",
       "      <td>NaN</td>\n",
       "      <td>7.000000</td>\n",
       "      <td>79.000000</td>\n",
       "      <td>19.000000</td>\n",
       "      <td>...</td>\n",
       "      <td>20.000000</td>\n",
       "      <td>19.000000</td>\n",
       "      <td>17.000000</td>\n",
       "      <td>23.000000</td>\n",
       "      <td>19.000000</td>\n",
       "      <td>64.000000</td>\n",
       "      <td>38.000000</td>\n",
       "      <td>28.000000</td>\n",
       "      <td>55.000000</td>\n",
       "      <td>42.000000</td>\n",
       "    </tr>\n",
       "    <tr>\n",
       "      <th>75%</th>\n",
       "      <td>1.740500e+09</td>\n",
       "      <td>1029.000000</td>\n",
       "      <td>NaN</td>\n",
       "      <td>4600.750000</td>\n",
       "      <td>NaN</td>\n",
       "      <td>NaN</td>\n",
       "      <td>NaN</td>\n",
       "      <td>7.000000</td>\n",
       "      <td>155.000000</td>\n",
       "      <td>31.000000</td>\n",
       "      <td>...</td>\n",
       "      <td>31.000000</td>\n",
       "      <td>30.000000</td>\n",
       "      <td>27.000000</td>\n",
       "      <td>44.000000</td>\n",
       "      <td>30.000000</td>\n",
       "      <td>150.000000</td>\n",
       "      <td>71.000000</td>\n",
       "      <td>51.000000</td>\n",
       "      <td>97.000000</td>\n",
       "      <td>80.000000</td>\n",
       "    </tr>\n",
       "    <tr>\n",
       "      <th>max</th>\n",
       "      <td>1.992997e+09</td>\n",
       "      <td>30547.000000</td>\n",
       "      <td>NaN</td>\n",
       "      <td>101079.000000</td>\n",
       "      <td>NaN</td>\n",
       "      <td>NaN</td>\n",
       "      <td>NaN</td>\n",
       "      <td>8.000000</td>\n",
       "      <td>2120.000000</td>\n",
       "      <td>549.000000</td>\n",
       "      <td>...</td>\n",
       "      <td>2958.000000</td>\n",
       "      <td>445.000000</td>\n",
       "      <td>891.000000</td>\n",
       "      <td>1583.000000</td>\n",
       "      <td>312.000000</td>\n",
       "      <td>6143.000000</td>\n",
       "      <td>1530.000000</td>\n",
       "      <td>958.000000</td>\n",
       "      <td>790.000000</td>\n",
       "      <td>2381.000000</td>\n",
       "    </tr>\n",
       "  </tbody>\n",
       "</table>\n",
       "<p>11 rows × 226 columns</p>\n",
       "</div>"
      ],
      "text/plain": [
       "                 npi  brand_name_rx_count gender  generic_rx_count region  \\\n",
       "count   2.959400e+04         29594.000000  29594      29594.000000  29594   \n",
       "unique           NaN                  NaN      2               NaN      4   \n",
       "top              NaN                  NaN      M               NaN  South   \n",
       "freq             NaN                  NaN  18425               NaN  11871   \n",
       "mean    1.500632e+09           866.896567    NaN       3874.476516    NaN   \n",
       "std     2.868977e+08           990.120208    NaN       3398.969493    NaN   \n",
       "min     1.003015e+09             0.000000    NaN        431.000000    NaN   \n",
       "25%     1.255336e+09           355.000000    NaN       1964.000000    NaN   \n",
       "50%     1.508060e+09           599.000000    NaN       2971.000000    NaN   \n",
       "75%     1.740500e+09          1029.000000    NaN       4600.750000    NaN   \n",
       "max     1.992997e+09         30547.000000    NaN     101079.000000    NaN   \n",
       "\n",
       "       settlement_type               specialty  years_practicing      ABILIFY  \\\n",
       "count            29594                   29594      29594.000000  6570.000000   \n",
       "unique               2                      30               NaN          NaN   \n",
       "top          non-urban  Cardiovascular Disease               NaN          NaN   \n",
       "freq             17621                    5654               NaN          NaN   \n",
       "mean               NaN                     NaN          6.652294   111.296956   \n",
       "std                NaN                     NaN          1.460089   116.849301   \n",
       "min                NaN                     NaN          1.000000    11.000000   \n",
       "25%                NaN                     NaN          7.000000    25.000000   \n",
       "50%                NaN                     NaN          7.000000    79.000000   \n",
       "75%                NaN                     NaN          7.000000   155.000000   \n",
       "max                NaN                     NaN          8.000000  2120.000000   \n",
       "\n",
       "        ACETAMINOPHEN-CODEINE        ...          VENTOLIN HFA  VERAPAMIL ER  \\\n",
       "count             4450.000000        ...           5591.000000   8508.000000   \n",
       "unique                    NaN        ...                   NaN           NaN   \n",
       "top                       NaN        ...                   NaN           NaN   \n",
       "freq                      NaN        ...                   NaN           NaN   \n",
       "mean                28.271685        ...             29.328564     25.885402   \n",
       "std                 30.832090        ...             54.615942     22.205976   \n",
       "min                 11.000000        ...             11.000000     11.000000   \n",
       "25%                 14.000000        ...             14.000000     14.000000   \n",
       "50%                 19.000000        ...             20.000000     19.000000   \n",
       "75%                 31.000000        ...             31.000000     30.000000   \n",
       "max                549.000000        ...           2958.000000    445.000000   \n",
       "\n",
       "           VESICARE     VOLTAREN      VYTORIN  WARFARIN SODIUM      XARELTO  \\\n",
       "count   3385.000000  3757.000000  5192.000000     18152.000000  5903.000000   \n",
       "unique          NaN          NaN          NaN              NaN          NaN   \n",
       "top             NaN          NaN          NaN              NaN          NaN   \n",
       "freq            NaN          NaN          NaN              NaN          NaN   \n",
       "mean      25.464697    44.007985    25.726695       118.145108    55.130612   \n",
       "std       31.362264    75.122665    20.433338       161.903704    56.200120   \n",
       "min       11.000000    11.000000    11.000000        11.000000    11.000000   \n",
       "25%       13.000000    15.000000    13.000000        29.000000    20.000000   \n",
       "50%       17.000000    23.000000    19.000000        64.000000    38.000000   \n",
       "75%       27.000000    44.000000    30.000000       150.000000    71.000000   \n",
       "max      891.000000  1583.000000   312.000000      6143.000000  1530.000000   \n",
       "\n",
       "               ZETIA  ZIPRASIDONE HCL  ZOLPIDEM TARTRATE  \n",
       "count   11530.000000      4367.000000       20042.000000  \n",
       "unique           NaN              NaN                NaN  \n",
       "top              NaN              NaN                NaN  \n",
       "freq             NaN              NaN                NaN  \n",
       "mean       43.947702        73.365239          68.357300  \n",
       "std        50.670992        67.915789          87.653877  \n",
       "min        11.000000        11.000000          11.000000  \n",
       "25%        17.000000        27.000000          23.000000  \n",
       "50%        28.000000        55.000000          42.000000  \n",
       "75%        51.000000        97.000000          80.000000  \n",
       "max       958.000000       790.000000        2381.000000  \n",
       "\n",
       "[11 rows x 226 columns]"
      ]
     },
     "execution_count": 79,
     "metadata": {},
     "output_type": "execute_result"
    }
   ],
   "source": [
    "FinalDataImpDrugsSubset.describe(include='all')"
   ]
  },
  {
   "cell_type": "code",
   "execution_count": 81,
   "metadata": {},
   "outputs": [
    {
     "data": {
      "text/plain": [
       "Cardiovascular Disease                  5654\n",
       "Family                                  5260\n",
       "Psychiatry                              3449\n",
       "Medical                                 2175\n",
       "Nephrology                              2037\n",
       "Geriatric Medicine                      1951\n",
       "Neurology                               1902\n",
       "Endocrinology, Diabetes & Metabolism    1479\n",
       "Adult Health                            1006\n",
       "Rheumatology                             927\n",
       "Pulmonary Disease                        791\n",
       "Infectious Disease                       596\n",
       "Hematology & Oncology                    491\n",
       "Gastroenterology                         423\n",
       "Interventional Cardiology                421\n",
       "Psych/Mental Health                      391\n",
       "Pain Medicine                            164\n",
       "Acute Care                               130\n",
       "Sports Medicine                          112\n",
       "Medical Oncology                          61\n",
       "Child & Adolescent Psychiatry             60\n",
       "Surgical Technologist                     26\n",
       "General Practice                          23\n",
       "Women's Health                            21\n",
       "Emergency Medical Services                19\n",
       "Gynecology                                15\n",
       "Diagnostic Radiology                       5\n",
       "Vascular Surgery                           3\n",
       "Endodontics                                1\n",
       "Radiation Oncology                         1\n",
       "Name: specialty, dtype: int64"
      ]
     },
     "execution_count": 81,
     "metadata": {},
     "output_type": "execute_result"
    }
   ],
   "source": [
    "FinalDataImpDrugsSubset.specialty.value_counts(ascending= False)"
   ]
  },
  {
   "cell_type": "code",
   "execution_count": 83,
   "metadata": {
    "collapsed": true
   },
   "outputs": [],
   "source": [
    "ImpSpec = FinalDataImpDrugsSubset.specialty.value_counts()\n",
    "ImpSpec = ImpSpec[ImpSpec > 200]"
   ]
  },
  {
   "cell_type": "code",
   "execution_count": 84,
   "metadata": {},
   "outputs": [
    {
     "data": {
      "text/plain": [
       "Cardiovascular Disease                  5654\n",
       "Family                                  5260\n",
       "Psychiatry                              3449\n",
       "Medical                                 2175\n",
       "Nephrology                              2037\n",
       "Geriatric Medicine                      1951\n",
       "Neurology                               1902\n",
       "Endocrinology, Diabetes & Metabolism    1479\n",
       "Adult Health                            1006\n",
       "Rheumatology                             927\n",
       "Pulmonary Disease                        791\n",
       "Infectious Disease                       596\n",
       "Hematology & Oncology                    491\n",
       "Gastroenterology                         423\n",
       "Interventional Cardiology                421\n",
       "Psych/Mental Health                      391\n",
       "Name: specialty, dtype: int64"
      ]
     },
     "execution_count": 84,
     "metadata": {},
     "output_type": "execute_result"
    }
   ],
   "source": [
    "ImpSpec"
   ]
  },
  {
   "cell_type": "code",
   "execution_count": 85,
   "metadata": {
    "collapsed": true
   },
   "outputs": [],
   "source": [
    "FinalDataImpDrugsSpecSubset = FinalDataImpDrugsSubset[FinalDataImpDrugsSubset.specialty.isin(list(ImpSpec.index))]"
   ]
  },
  {
   "cell_type": "code",
   "execution_count": 86,
   "metadata": {},
   "outputs": [
    {
     "data": {
      "text/plain": [
       "(28953, 226)"
      ]
     },
     "execution_count": 86,
     "metadata": {},
     "output_type": "execute_result"
    }
   ],
   "source": [
    "FinalDataImpDrugsSpecSubset.shape"
   ]
  },
  {
   "cell_type": "code",
   "execution_count": 87,
   "metadata": {
    "collapsed": true
   },
   "outputs": [],
   "source": [
    "FinalDataImpDrugsSpecSubset.to_csv(\"FinalDataImpDrugsSpecSubset.csv\")"
   ]
  },
  {
   "cell_type": "code",
   "execution_count": 88,
   "metadata": {},
   "outputs": [
    {
     "data": {
      "text/plain": [
       "npi                                 int64\n",
       "brand_name_rx_count                 int64\n",
       "gender                             object\n",
       "generic_rx_count                    int64\n",
       "region                             object\n",
       "settlement_type                    object\n",
       "specialty                          object\n",
       "years_practicing                    int64\n",
       "ABILIFY                           float64\n",
       "ACETAMINOPHEN-CODEINE             float64\n",
       "ADVAIR DISKUS                     float64\n",
       "AGGRENOX                          float64\n",
       "ALENDRONATE SODIUM                float64\n",
       "ALLOPURINOL                       float64\n",
       "ALPRAZOLAM                        float64\n",
       "AMIODARONE HCL                    float64\n",
       "AMITRIPTYLINE HCL                 float64\n",
       "AMLODIPINE BESYLATE               float64\n",
       "AMLODIPINE BESYLATE-BENAZEPRIL    float64\n",
       "AMOX TR-POTASSIUM CLAVULANATE     float64\n",
       "AMOXICILLIN                       float64\n",
       "AMPHETAMINE SALT COMBO            float64\n",
       "ATENOLOL                          float64\n",
       "ATORVASTATIN CALCIUM              float64\n",
       "AZITHROMYCIN                      float64\n",
       "BACLOFEN                          float64\n",
       "BD ULTRA-FINE PEN NEEDLE          float64\n",
       "BENAZEPRIL HCL                    float64\n",
       "BENICAR                           float64\n",
       "BENICAR HCT                       float64\n",
       "                                   ...   \n",
       "SPIRONOLACTONE                    float64\n",
       "SULFAMETHOXAZOLE-TRIMETHOPRIM     float64\n",
       "SUMATRIPTAN SUCCINATE             float64\n",
       "SYMBICORT                         float64\n",
       "SYNTHROID                         float64\n",
       "TAMSULOSIN HCL                    float64\n",
       "TEMAZEPAM                         float64\n",
       "TERAZOSIN HCL                     float64\n",
       "TIZANIDINE HCL                    float64\n",
       "TOPIRAMATE                        float64\n",
       "TOPROL XL                         float64\n",
       "TORSEMIDE                         float64\n",
       "TRAMADOL HCL                      float64\n",
       "TRAZODONE HCL                     float64\n",
       "TRIAMCINOLONE ACETONIDE           float64\n",
       "TRIAMTERENE-HCTZ                  float64\n",
       "TRIHEXYPHENIDYL HCL               float64\n",
       "VALSARTAN-HYDROCHLOROTHIAZIDE     float64\n",
       "VENLAFAXINE HCL                   float64\n",
       "VENLAFAXINE HCL ER                float64\n",
       "VENTOLIN HFA                      float64\n",
       "VERAPAMIL ER                      float64\n",
       "VESICARE                          float64\n",
       "VOLTAREN                          float64\n",
       "VYTORIN                           float64\n",
       "WARFARIN SODIUM                   float64\n",
       "XARELTO                           float64\n",
       "ZETIA                             float64\n",
       "ZIPRASIDONE HCL                   float64\n",
       "ZOLPIDEM TARTRATE                 float64\n",
       "Length: 226, dtype: object"
      ]
     },
     "execution_count": 88,
     "metadata": {},
     "output_type": "execute_result"
    }
   ],
   "source": [
    "FinalDataImpDrugsSpecSubset.dtypes"
   ]
  },
  {
   "cell_type": "code",
   "execution_count": 89,
   "metadata": {},
   "outputs": [
    {
     "data": {
      "text/html": [
       "<div>\n",
       "<style>\n",
       "    .dataframe thead tr:only-child th {\n",
       "        text-align: right;\n",
       "    }\n",
       "\n",
       "    .dataframe thead th {\n",
       "        text-align: left;\n",
       "    }\n",
       "\n",
       "    .dataframe tbody tr th {\n",
       "        vertical-align: top;\n",
       "    }\n",
       "</style>\n",
       "<table border=\"1\" class=\"dataframe\">\n",
       "  <thead>\n",
       "    <tr style=\"text-align: right;\">\n",
       "      <th></th>\n",
       "      <th>gender</th>\n",
       "      <th>region</th>\n",
       "      <th>settlement_type</th>\n",
       "      <th>specialty</th>\n",
       "    </tr>\n",
       "  </thead>\n",
       "  <tbody>\n",
       "    <tr>\n",
       "      <th>count</th>\n",
       "      <td>28953</td>\n",
       "      <td>28953</td>\n",
       "      <td>28953</td>\n",
       "      <td>28953</td>\n",
       "    </tr>\n",
       "    <tr>\n",
       "      <th>unique</th>\n",
       "      <td>2</td>\n",
       "      <td>4</td>\n",
       "      <td>2</td>\n",
       "      <td>16</td>\n",
       "    </tr>\n",
       "    <tr>\n",
       "      <th>top</th>\n",
       "      <td>M</td>\n",
       "      <td>South</td>\n",
       "      <td>non-urban</td>\n",
       "      <td>Cardiovascular Disease</td>\n",
       "    </tr>\n",
       "    <tr>\n",
       "      <th>freq</th>\n",
       "      <td>18017</td>\n",
       "      <td>11547</td>\n",
       "      <td>17272</td>\n",
       "      <td>5654</td>\n",
       "    </tr>\n",
       "  </tbody>\n",
       "</table>\n",
       "</div>"
      ],
      "text/plain": [
       "       gender region settlement_type               specialty\n",
       "count   28953  28953           28953                   28953\n",
       "unique      2      4               2                      16\n",
       "top         M  South       non-urban  Cardiovascular Disease\n",
       "freq    18017  11547           17272                    5654"
      ]
     },
     "execution_count": 89,
     "metadata": {},
     "output_type": "execute_result"
    }
   ],
   "source": [
    "FinalDataImpDrugsSpecSubset.describe(include = ['object'])"
   ]
  },
  {
   "cell_type": "code",
   "execution_count": 90,
   "metadata": {
    "collapsed": true
   },
   "outputs": [],
   "source": [
    "%matplotlib inline"
   ]
  },
  {
   "cell_type": "code",
   "execution_count": 96,
   "metadata": {},
   "outputs": [
    {
     "data": {
      "text/plain": [
       "<matplotlib.axes._subplots.AxesSubplot at 0x2778d498cf8>"
      ]
     },
     "execution_count": 96,
     "metadata": {},
     "output_type": "execute_result"
    },
    {
     "data": {
      "image/png": "[encoded data removed]",
      "text/plain": [
       "<matplotlib.figure.Figure at 0x2778d0dae10>"
      ]
     },
     "metadata": {},
     "output_type": "display_data"
    }
   ],
   "source": [
    "FinalDataImpDrugsSpecSubset.region.value_counts().plot.bar()"
   ]
  },
  {
   "cell_type": "code",
   "execution_count": 97,
   "metadata": {},
   "outputs": [
    {
     "data": {
      "text/plain": [
       "<matplotlib.axes._subplots.AxesSubplot at 0x2778d9b9080>"
      ]
     },
     "execution_count": 97,
     "metadata": {},
     "output_type": "execute_result"
    },
    {
     "data": {
      "image/png": "[encoded data removed]",
      "text/plain": [
       "<matplotlib.figure.Figure at 0x2778da581d0>"
      ]
     },
     "metadata": {},
     "output_type": "display_data"
    }
   ],
   "source": [
    "FinalDataImpDrugsSpecSubset.gender.value_counts().plot.bar()"
   ]
  },
  {
   "cell_type": "code",
   "execution_count": 98,
   "metadata": {},
   "outputs": [
    {
     "data": {
      "text/plain": [
       "<matplotlib.axes._subplots.AxesSubplot at 0x2778de30860>"
      ]
     },
     "execution_count": 98,
     "metadata": {},
     "output_type": "execute_result"
    },
    {
     "data": {
      "image/png": "[encoded data removed]",
      "text/plain": [
       "<matplotlib.figure.Figure at 0x2778de9bcc0>"
      ]
     },
     "metadata": {},
     "output_type": "display_data"
    }
   ],
   "source": [
    "FinalDataImpDrugsSpecSubset.specialty.value_counts().plot.bar()"
   ]
  },
  {
   "cell_type": "code",
   "execution_count": 99,
   "metadata": {},
   "outputs": [
    {
     "data": {
      "text/html": [
       "<div>\n",
       "<style>\n",
       "    .dataframe thead tr:only-child th {\n",
       "        text-align: right;\n",
       "    }\n",
       "\n",
       "    .dataframe thead th {\n",
       "        text-align: left;\n",
       "    }\n",
       "\n",
       "    .dataframe tbody tr th {\n",
       "        vertical-align: top;\n",
       "    }\n",
       "</style>\n",
       "<table border=\"1\" class=\"dataframe\">\n",
       "  <thead>\n",
       "    <tr style=\"text-align: right;\">\n",
       "      <th></th>\n",
       "      <th>npi</th>\n",
       "      <th>brand_name_rx_count</th>\n",
       "      <th>gender</th>\n",
       "      <th>generic_rx_count</th>\n",
       "      <th>region</th>\n",
       "      <th>settlement_type</th>\n",
       "      <th>specialty</th>\n",
       "      <th>years_practicing</th>\n",
       "      <th>ABILIFY</th>\n",
       "      <th>ACETAMINOPHEN-CODEINE</th>\n",
       "      <th>...</th>\n",
       "      <th>VENTOLIN HFA</th>\n",
       "      <th>VERAPAMIL ER</th>\n",
       "      <th>VESICARE</th>\n",
       "      <th>VOLTAREN</th>\n",
       "      <th>VYTORIN</th>\n",
       "      <th>WARFARIN SODIUM</th>\n",
       "      <th>XARELTO</th>\n",
       "      <th>ZETIA</th>\n",
       "      <th>ZIPRASIDONE HCL</th>\n",
       "      <th>ZOLPIDEM TARTRATE</th>\n",
       "    </tr>\n",
       "  </thead>\n",
       "  <tbody>\n",
       "    <tr>\n",
       "      <th>0</th>\n",
       "      <td>1295763035</td>\n",
       "      <td>384</td>\n",
       "      <td>M</td>\n",
       "      <td>2287</td>\n",
       "      <td>South</td>\n",
       "      <td>non-urban</td>\n",
       "      <td>Nephrology</td>\n",
       "      <td>7</td>\n",
       "      <td>11.0</td>\n",
       "      <td>NaN</td>\n",
       "      <td>...</td>\n",
       "      <td>NaN</td>\n",
       "      <td>NaN</td>\n",
       "      <td>NaN</td>\n",
       "      <td>NaN</td>\n",
       "      <td>NaN</td>\n",
       "      <td>NaN</td>\n",
       "      <td>NaN</td>\n",
       "      <td>NaN</td>\n",
       "      <td>NaN</td>\n",
       "      <td>41.0</td>\n",
       "    </tr>\n",
       "    <tr>\n",
       "      <th>4</th>\n",
       "      <td>1437366804</td>\n",
       "      <td>316</td>\n",
       "      <td>M</td>\n",
       "      <td>1035</td>\n",
       "      <td>West</td>\n",
       "      <td>non-urban</td>\n",
       "      <td>Nephrology</td>\n",
       "      <td>6</td>\n",
       "      <td>NaN</td>\n",
       "      <td>NaN</td>\n",
       "      <td>...</td>\n",
       "      <td>NaN</td>\n",
       "      <td>NaN</td>\n",
       "      <td>NaN</td>\n",
       "      <td>NaN</td>\n",
       "      <td>NaN</td>\n",
       "      <td>14.0</td>\n",
       "      <td>NaN</td>\n",
       "      <td>NaN</td>\n",
       "      <td>NaN</td>\n",
       "      <td>35.0</td>\n",
       "    </tr>\n",
       "    <tr>\n",
       "      <th>8</th>\n",
       "      <td>1316196462</td>\n",
       "      <td>374</td>\n",
       "      <td>M</td>\n",
       "      <td>2452</td>\n",
       "      <td>Northeast</td>\n",
       "      <td>urban</td>\n",
       "      <td>Gastroenterology</td>\n",
       "      <td>5</td>\n",
       "      <td>NaN</td>\n",
       "      <td>NaN</td>\n",
       "      <td>...</td>\n",
       "      <td>NaN</td>\n",
       "      <td>NaN</td>\n",
       "      <td>NaN</td>\n",
       "      <td>17.0</td>\n",
       "      <td>NaN</td>\n",
       "      <td>88.0</td>\n",
       "      <td>23.0</td>\n",
       "      <td>NaN</td>\n",
       "      <td>NaN</td>\n",
       "      <td>NaN</td>\n",
       "    </tr>\n",
       "    <tr>\n",
       "      <th>16</th>\n",
       "      <td>1215979554</td>\n",
       "      <td>683</td>\n",
       "      <td>M</td>\n",
       "      <td>3462</td>\n",
       "      <td>Midwest</td>\n",
       "      <td>urban</td>\n",
       "      <td>Psychiatry</td>\n",
       "      <td>7</td>\n",
       "      <td>110.0</td>\n",
       "      <td>NaN</td>\n",
       "      <td>...</td>\n",
       "      <td>NaN</td>\n",
       "      <td>NaN</td>\n",
       "      <td>NaN</td>\n",
       "      <td>NaN</td>\n",
       "      <td>NaN</td>\n",
       "      <td>NaN</td>\n",
       "      <td>NaN</td>\n",
       "      <td>NaN</td>\n",
       "      <td>54.0</td>\n",
       "      <td>116.0</td>\n",
       "    </tr>\n",
       "    <tr>\n",
       "      <th>19</th>\n",
       "      <td>1174564165</td>\n",
       "      <td>143</td>\n",
       "      <td>M</td>\n",
       "      <td>2300</td>\n",
       "      <td>Northeast</td>\n",
       "      <td>urban</td>\n",
       "      <td>Psychiatry</td>\n",
       "      <td>7</td>\n",
       "      <td>15.0</td>\n",
       "      <td>NaN</td>\n",
       "      <td>...</td>\n",
       "      <td>NaN</td>\n",
       "      <td>NaN</td>\n",
       "      <td>NaN</td>\n",
       "      <td>NaN</td>\n",
       "      <td>NaN</td>\n",
       "      <td>NaN</td>\n",
       "      <td>NaN</td>\n",
       "      <td>NaN</td>\n",
       "      <td>18.0</td>\n",
       "      <td>92.0</td>\n",
       "    </tr>\n",
       "  </tbody>\n",
       "</table>\n",
       "<p>5 rows × 226 columns</p>\n",
       "</div>"
      ],
      "text/plain": [
       "           npi  brand_name_rx_count gender  generic_rx_count     region  \\\n",
       "0   1295763035                  384      M              2287      South   \n",
       "4   1437366804                  316      M              1035       West   \n",
       "8   1316196462                  374      M              2452  Northeast   \n",
       "16  1215979554                  683      M              3462    Midwest   \n",
       "19  1174564165                  143      M              2300  Northeast   \n",
       "\n",
       "   settlement_type         specialty  years_practicing  ABILIFY  \\\n",
       "0        non-urban        Nephrology                 7     11.0   \n",
       "4        non-urban        Nephrology                 6      NaN   \n",
       "8            urban  Gastroenterology                 5      NaN   \n",
       "16           urban        Psychiatry                 7    110.0   \n",
       "19           urban        Psychiatry                 7     15.0   \n",
       "\n",
       "    ACETAMINOPHEN-CODEINE        ...          VENTOLIN HFA  VERAPAMIL ER  \\\n",
       "0                     NaN        ...                   NaN           NaN   \n",
       "4                     NaN        ...                   NaN           NaN   \n",
       "8                     NaN        ...                   NaN           NaN   \n",
       "16                    NaN        ...                   NaN           NaN   \n",
       "19                    NaN        ...                   NaN           NaN   \n",
       "\n",
       "    VESICARE  VOLTAREN  VYTORIN  WARFARIN SODIUM  XARELTO  ZETIA  \\\n",
       "0        NaN       NaN      NaN              NaN      NaN    NaN   \n",
       "4        NaN       NaN      NaN             14.0      NaN    NaN   \n",
       "8        NaN      17.0      NaN             88.0     23.0    NaN   \n",
       "16       NaN       NaN      NaN              NaN      NaN    NaN   \n",
       "19       NaN       NaN      NaN              NaN      NaN    NaN   \n",
       "\n",
       "    ZIPRASIDONE HCL  ZOLPIDEM TARTRATE  \n",
       "0               NaN               41.0  \n",
       "4               NaN               35.0  \n",
       "8               NaN                NaN  \n",
       "16             54.0              116.0  \n",
       "19             18.0               92.0  \n",
       "\n",
       "[5 rows x 226 columns]"
      ]
     },
     "execution_count": 99,
     "metadata": {},
     "output_type": "execute_result"
    }
   ],
   "source": [
    "FinalDataImpDrugsSpecSubset.head()"
   ]
  },
  {
   "cell_type": "code",
   "execution_count": 104,
   "metadata": {
    "collapsed": true
   },
   "outputs": [],
   "source": [
    "colList = list(FinalDataImpDrugsSpecSubset.columns[:8])"
   ]
  },
  {
   "cell_type": "code",
   "execution_count": 105,
   "metadata": {},
   "outputs": [
    {
     "data": {
      "text/plain": [
       "['npi',\n",
       " 'brand_name_rx_count',\n",
       " 'gender',\n",
       " 'generic_rx_count',\n",
       " 'region',\n",
       " 'settlement_type',\n",
       " 'specialty',\n",
       " 'years_practicing']"
      ]
     },
     "execution_count": 105,
     "metadata": {},
     "output_type": "execute_result"
    }
   ],
   "source": [
    "colList"
   ]
  },
  {
   "cell_type": "code",
   "execution_count": 107,
   "metadata": {
    "collapsed": true
   },
   "outputs": [],
   "source": [
    "FinalDataImpDrugsSpecTranspose = FinalDataImpDrugsSpecSubset.melt(id_vars= colList)"
   ]
  },
  {
   "cell_type": "code",
   "execution_count": 108,
   "metadata": {
    "collapsed": true
   },
   "outputs": [],
   "source": [
    "FinalDataImpDrugsSpecTranspose = FinalDataImpDrugsSpecTranspose[~FinalDataImpDrugsSpecTranspose.value.isnull()]"
   ]
  },
  {
   "cell_type": "code",
   "execution_count": 109,
   "metadata": {},
   "outputs": [
    {
     "data": {
      "text/html": [
       "<div>\n",
       "<style>\n",
       "    .dataframe thead tr:only-child th {\n",
       "        text-align: right;\n",
       "    }\n",
       "\n",
       "    .dataframe thead th {\n",
       "        text-align: left;\n",
       "    }\n",
       "\n",
       "    .dataframe tbody tr th {\n",
       "        vertical-align: top;\n",
       "    }\n",
       "</style>\n",
       "<table border=\"1\" class=\"dataframe\">\n",
       "  <thead>\n",
       "    <tr style=\"text-align: right;\">\n",
       "      <th></th>\n",
       "      <th>npi</th>\n",
       "      <th>brand_name_rx_count</th>\n",
       "      <th>gender</th>\n",
       "      <th>generic_rx_count</th>\n",
       "      <th>region</th>\n",
       "      <th>settlement_type</th>\n",
       "      <th>specialty</th>\n",
       "      <th>years_practicing</th>\n",
       "      <th>variable</th>\n",
       "      <th>value</th>\n",
       "    </tr>\n",
       "  </thead>\n",
       "  <tbody>\n",
       "    <tr>\n",
       "      <th>0</th>\n",
       "      <td>1295763035</td>\n",
       "      <td>384</td>\n",
       "      <td>M</td>\n",
       "      <td>2287</td>\n",
       "      <td>South</td>\n",
       "      <td>non-urban</td>\n",
       "      <td>Nephrology</td>\n",
       "      <td>7</td>\n",
       "      <td>ABILIFY</td>\n",
       "      <td>11.0</td>\n",
       "    </tr>\n",
       "    <tr>\n",
       "      <th>3</th>\n",
       "      <td>1215979554</td>\n",
       "      <td>683</td>\n",
       "      <td>M</td>\n",
       "      <td>3462</td>\n",
       "      <td>Midwest</td>\n",
       "      <td>urban</td>\n",
       "      <td>Psychiatry</td>\n",
       "      <td>7</td>\n",
       "      <td>ABILIFY</td>\n",
       "      <td>110.0</td>\n",
       "    </tr>\n",
       "    <tr>\n",
       "      <th>4</th>\n",
       "      <td>1174564165</td>\n",
       "      <td>143</td>\n",
       "      <td>M</td>\n",
       "      <td>2300</td>\n",
       "      <td>Northeast</td>\n",
       "      <td>urban</td>\n",
       "      <td>Psychiatry</td>\n",
       "      <td>7</td>\n",
       "      <td>ABILIFY</td>\n",
       "      <td>15.0</td>\n",
       "    </tr>\n",
       "    <tr>\n",
       "      <th>6</th>\n",
       "      <td>1043561624</td>\n",
       "      <td>451</td>\n",
       "      <td>F</td>\n",
       "      <td>3112</td>\n",
       "      <td>West</td>\n",
       "      <td>non-urban</td>\n",
       "      <td>Psych/Mental Health</td>\n",
       "      <td>1</td>\n",
       "      <td>ABILIFY</td>\n",
       "      <td>107.0</td>\n",
       "    </tr>\n",
       "    <tr>\n",
       "      <th>8</th>\n",
       "      <td>1306880281</td>\n",
       "      <td>437</td>\n",
       "      <td>M</td>\n",
       "      <td>7109</td>\n",
       "      <td>Midwest</td>\n",
       "      <td>urban</td>\n",
       "      <td>Psychiatry</td>\n",
       "      <td>7</td>\n",
       "      <td>ABILIFY</td>\n",
       "      <td>126.0</td>\n",
       "    </tr>\n",
       "  </tbody>\n",
       "</table>\n",
       "</div>"
      ],
      "text/plain": [
       "          npi  brand_name_rx_count gender  generic_rx_count     region  \\\n",
       "0  1295763035                  384      M              2287      South   \n",
       "3  1215979554                  683      M              3462    Midwest   \n",
       "4  1174564165                  143      M              2300  Northeast   \n",
       "6  1043561624                  451      F              3112       West   \n",
       "8  1306880281                  437      M              7109    Midwest   \n",
       "\n",
       "  settlement_type            specialty  years_practicing variable  value  \n",
       "0       non-urban           Nephrology                 7  ABILIFY   11.0  \n",
       "3           urban           Psychiatry                 7  ABILIFY  110.0  \n",
       "4           urban           Psychiatry                 7  ABILIFY   15.0  \n",
       "6       non-urban  Psych/Mental Health                 1  ABILIFY  107.0  \n",
       "8           urban           Psychiatry                 7  ABILIFY  126.0  "
      ]
     },
     "execution_count": 109,
     "metadata": {},
     "output_type": "execute_result"
    }
   ],
   "source": [
    "FinalDataImpDrugsSpecTranspose.head()"
   ]
  },
  {
   "cell_type": "code",
   "execution_count": 110,
   "metadata": {},
   "outputs": [
    {
     "data": {
      "text/plain": [
       "(1859771, 10)"
      ]
     },
     "execution_count": 110,
     "metadata": {},
     "output_type": "execute_result"
    }
   ],
   "source": [
    "FinalDataImpDrugsSpecTranspose.shape"
   ]
  },
  {
   "cell_type": "code",
   "execution_count": 112,
   "metadata": {},
   "outputs": [
    {
     "data": {
      "text/plain": [
       "npi                    0\n",
       "brand_name_rx_count    0\n",
       "gender                 0\n",
       "generic_rx_count       0\n",
       "region                 0\n",
       "settlement_type        0\n",
       "specialty              0\n",
       "years_practicing       0\n",
       "variable               0\n",
       "value                  0\n",
       "dtype: int64"
      ]
     },
     "execution_count": 112,
     "metadata": {},
     "output_type": "execute_result"
    }
   ],
   "source": [
    "FinalDataImpDrugsSpecTranspose.isnull().sum()"
   ]
  },
  {
   "cell_type": "code",
   "execution_count": 119,
   "metadata": {
    "collapsed": true
   },
   "outputs": [],
   "source": [
    "FinalDataImpDrugsSpecTranspose.rename(columns= {\"variable\" : \"product\" , \"value\" : \"Trx\"} , inplace=True)"
   ]
  },
  {
   "cell_type": "code",
   "execution_count": 120,
   "metadata": {},
   "outputs": [
    {
     "data": {
      "text/plain": [
       "<matplotlib.axes._subplots.AxesSubplot at 0x2778e2c0940>"
      ]
     },
     "execution_count": 120,
     "metadata": {},
     "output_type": "execute_result"
    },
    {
     "data": {
      "image/png": "[encoded data removed]",
      "text/plain": [
       "<matplotlib.figure.Figure at 0x2778df36668>"
      ]
     },
     "metadata": {},
     "output_type": "display_data"
    }
   ],
   "source": [
    "FinalDataImpDrugsSpecTranspose.plot.scatter(x = 'brand_name_rx_count' , y = 'Trx')"
   ]
  },
  {
   "cell_type": "code",
   "execution_count": 121,
   "metadata": {
    "collapsed": true
   },
   "outputs": [],
   "source": [
    "FinalDataImpDrugsSpecTranspose['branded_generic_ratio'] = (FinalDataImpDrugsSpecTranspose.brand_name_rx_count/\n",
    "                                                           FinalDataImpDrugsSpecTranspose.generic_rx_count)"
   ]
  },
  {
   "cell_type": "code",
   "execution_count": 122,
   "metadata": {},
   "outputs": [
    {
     "data": {
      "text/html": [
       "<div>\n",
       "<style>\n",
       "    .dataframe thead tr:only-child th {\n",
       "        text-align: right;\n",
       "    }\n",
       "\n",
       "    .dataframe thead th {\n",
       "        text-align: left;\n",
       "    }\n",
       "\n",
       "    .dataframe tbody tr th {\n",
       "        vertical-align: top;\n",
       "    }\n",
       "</style>\n",
       "<table border=\"1\" class=\"dataframe\">\n",
       "  <thead>\n",
       "    <tr style=\"text-align: right;\">\n",
       "      <th></th>\n",
       "      <th>npi</th>\n",
       "      <th>brand_name_rx_count</th>\n",
       "      <th>gender</th>\n",
       "      <th>generic_rx_count</th>\n",
       "      <th>region</th>\n",
       "      <th>settlement_type</th>\n",
       "      <th>specialty</th>\n",
       "      <th>years_practicing</th>\n",
       "      <th>product</th>\n",
       "      <th>Trx</th>\n",
       "      <th>branded_generic_ratio</th>\n",
       "    </tr>\n",
       "  </thead>\n",
       "  <tbody>\n",
       "    <tr>\n",
       "      <th>0</th>\n",
       "      <td>1295763035</td>\n",
       "      <td>384</td>\n",
       "      <td>M</td>\n",
       "      <td>2287</td>\n",
       "      <td>South</td>\n",
       "      <td>non-urban</td>\n",
       "      <td>Nephrology</td>\n",
       "      <td>7</td>\n",
       "      <td>ABILIFY</td>\n",
       "      <td>11.0</td>\n",
       "      <td>0.167906</td>\n",
       "    </tr>\n",
       "    <tr>\n",
       "      <th>3</th>\n",
       "      <td>1215979554</td>\n",
       "      <td>683</td>\n",
       "      <td>M</td>\n",
       "      <td>3462</td>\n",
       "      <td>Midwest</td>\n",
       "      <td>urban</td>\n",
       "      <td>Psychiatry</td>\n",
       "      <td>7</td>\n",
       "      <td>ABILIFY</td>\n",
       "      <td>110.0</td>\n",
       "      <td>0.197285</td>\n",
       "    </tr>\n",
       "    <tr>\n",
       "      <th>4</th>\n",
       "      <td>1174564165</td>\n",
       "      <td>143</td>\n",
       "      <td>M</td>\n",
       "      <td>2300</td>\n",
       "      <td>Northeast</td>\n",
       "      <td>urban</td>\n",
       "      <td>Psychiatry</td>\n",
       "      <td>7</td>\n",
       "      <td>ABILIFY</td>\n",
       "      <td>15.0</td>\n",
       "      <td>0.062174</td>\n",
       "    </tr>\n",
       "    <tr>\n",
       "      <th>6</th>\n",
       "      <td>1043561624</td>\n",
       "      <td>451</td>\n",
       "      <td>F</td>\n",
       "      <td>3112</td>\n",
       "      <td>West</td>\n",
       "      <td>non-urban</td>\n",
       "      <td>Psych/Mental Health</td>\n",
       "      <td>1</td>\n",
       "      <td>ABILIFY</td>\n",
       "      <td>107.0</td>\n",
       "      <td>0.144923</td>\n",
       "    </tr>\n",
       "    <tr>\n",
       "      <th>8</th>\n",
       "      <td>1306880281</td>\n",
       "      <td>437</td>\n",
       "      <td>M</td>\n",
       "      <td>7109</td>\n",
       "      <td>Midwest</td>\n",
       "      <td>urban</td>\n",
       "      <td>Psychiatry</td>\n",
       "      <td>7</td>\n",
       "      <td>ABILIFY</td>\n",
       "      <td>126.0</td>\n",
       "      <td>0.061471</td>\n",
       "    </tr>\n",
       "  </tbody>\n",
       "</table>\n",
       "</div>"
      ],
      "text/plain": [
       "          npi  brand_name_rx_count gender  generic_rx_count     region  \\\n",
       "0  1295763035                  384      M              2287      South   \n",
       "3  1215979554                  683      M              3462    Midwest   \n",
       "4  1174564165                  143      M              2300  Northeast   \n",
       "6  1043561624                  451      F              3112       West   \n",
       "8  1306880281                  437      M              7109    Midwest   \n",
       "\n",
       "  settlement_type            specialty  years_practicing  product    Trx  \\\n",
       "0       non-urban           Nephrology                 7  ABILIFY   11.0   \n",
       "3           urban           Psychiatry                 7  ABILIFY  110.0   \n",
       "4           urban           Psychiatry                 7  ABILIFY   15.0   \n",
       "6       non-urban  Psych/Mental Health                 1  ABILIFY  107.0   \n",
       "8           urban           Psychiatry                 7  ABILIFY  126.0   \n",
       "\n",
       "   branded_generic_ratio  \n",
       "0               0.167906  \n",
       "3               0.197285  \n",
       "4               0.062174  \n",
       "6               0.144923  \n",
       "8               0.061471  "
      ]
     },
     "execution_count": 122,
     "metadata": {},
     "output_type": "execute_result"
    }
   ],
   "source": [
    "FinalDataImpDrugsSpecTranspose.head()"
   ]
  },
  {
   "cell_type": "code",
   "execution_count": 123,
   "metadata": {
    "collapsed": true
   },
   "outputs": [],
   "source": [
    "FinalDataImpDrugsSpecDropped = FinalDataImpDrugsSpecTranspose.drop(labels = ['brand_name_rx_count' , 'generic_rx_count'] , axis = 1)"
   ]
  },
  {
   "cell_type": "code",
   "execution_count": 195,
   "metadata": {},
   "outputs": [
    {
     "data": {
      "text/html": [
       "<div>\n",
       "<style>\n",
       "    .dataframe thead tr:only-child th {\n",
       "        text-align: right;\n",
       "    }\n",
       "\n",
       "    .dataframe thead th {\n",
       "        text-align: left;\n",
       "    }\n",
       "\n",
       "    .dataframe tbody tr th {\n",
       "        vertical-align: top;\n",
       "    }\n",
       "</style>\n",
       "<table border=\"1\" class=\"dataframe\">\n",
       "  <thead>\n",
       "    <tr style=\"text-align: right;\">\n",
       "      <th></th>\n",
       "      <th>npi</th>\n",
       "      <th>gender</th>\n",
       "      <th>region</th>\n",
       "      <th>settlement_type</th>\n",
       "      <th>specialty</th>\n",
       "      <th>years_practicing</th>\n",
       "      <th>Product</th>\n",
       "      <th>Trx</th>\n",
       "      <th>branded_generic_ratio</th>\n",
       "    </tr>\n",
       "  </thead>\n",
       "  <tbody>\n",
       "    <tr>\n",
       "      <th>0</th>\n",
       "      <td>0</td>\n",
       "      <td>0</td>\n",
       "      <td>0</td>\n",
       "      <td>0</td>\n",
       "      <td>0</td>\n",
       "      <td>7</td>\n",
       "      <td>0</td>\n",
       "      <td>11.0</td>\n",
       "      <td>0.167906</td>\n",
       "    </tr>\n",
       "    <tr>\n",
       "      <th>1</th>\n",
       "      <td>1</td>\n",
       "      <td>0</td>\n",
       "      <td>1</td>\n",
       "      <td>1</td>\n",
       "      <td>1</td>\n",
       "      <td>7</td>\n",
       "      <td>0</td>\n",
       "      <td>110.0</td>\n",
       "      <td>0.197285</td>\n",
       "    </tr>\n",
       "    <tr>\n",
       "      <th>2</th>\n",
       "      <td>2</td>\n",
       "      <td>0</td>\n",
       "      <td>2</td>\n",
       "      <td>1</td>\n",
       "      <td>1</td>\n",
       "      <td>7</td>\n",
       "      <td>0</td>\n",
       "      <td>15.0</td>\n",
       "      <td>0.062174</td>\n",
       "    </tr>\n",
       "    <tr>\n",
       "      <th>3</th>\n",
       "      <td>3</td>\n",
       "      <td>1</td>\n",
       "      <td>3</td>\n",
       "      <td>0</td>\n",
       "      <td>2</td>\n",
       "      <td>1</td>\n",
       "      <td>0</td>\n",
       "      <td>107.0</td>\n",
       "      <td>0.144923</td>\n",
       "    </tr>\n",
       "    <tr>\n",
       "      <th>4</th>\n",
       "      <td>4</td>\n",
       "      <td>0</td>\n",
       "      <td>1</td>\n",
       "      <td>1</td>\n",
       "      <td>1</td>\n",
       "      <td>7</td>\n",
       "      <td>0</td>\n",
       "      <td>126.0</td>\n",
       "      <td>0.061471</td>\n",
       "    </tr>\n",
       "  </tbody>\n",
       "</table>\n",
       "</div>"
      ],
      "text/plain": [
       "   npi  gender  region  settlement_type  specialty  years_practicing  Product  \\\n",
       "0    0       0       0                0          0                 7        0   \n",
       "1    1       0       1                1          1                 7        0   \n",
       "2    2       0       2                1          1                 7        0   \n",
       "3    3       1       3                0          2                 1        0   \n",
       "4    4       0       1                1          1                 7        0   \n",
       "\n",
       "     Trx  branded_generic_ratio  \n",
       "0   11.0               0.167906  \n",
       "1  110.0               0.197285  \n",
       "2   15.0               0.062174  \n",
       "3  107.0               0.144923  \n",
       "4  126.0               0.061471  "
      ]
     },
     "execution_count": 195,
     "metadata": {},
     "output_type": "execute_result"
    }
   ],
   "source": [
    "FinalDataImpDrugsSpecDropped.head()"
   ]
  },
  {
   "cell_type": "code",
   "execution_count": 135,
   "metadata": {
    "collapsed": true
   },
   "outputs": [],
   "source": [
    "FinalDataImpDrugsSpecDropped.index = range(FinalDataImpDrugsSpecDropped.shape[0])"
   ]
  },
  {
   "cell_type": "code",
   "execution_count": 145,
   "metadata": {
    "collapsed": true
   },
   "outputs": [],
   "source": [
    "FinalDataImpDrugsSpecDropped.to_csv(\"FinalDataEmbedding.csv\")"
   ]
  },
  {
   "cell_type": "code",
   "execution_count": 142,
   "metadata": {
    "collapsed": true
   },
   "outputs": [],
   "source": [
    "FinalDataImpDrugsSpecDropped.rename(columns= {\"product\" : \"Product\"} , inplace = True)"
   ]
  },
  {
   "cell_type": "code",
   "execution_count": 159,
   "metadata": {
    "collapsed": true
   },
   "outputs": [],
   "source": [
    "FinalDataImpDrugsSpecDroppedCopy = FinalDataImpDrugsSpecDropped.copy()"
   ]
  },
  {
   "cell_type": "markdown",
   "metadata": {},
   "source": [
    "## Converting categorical variables to numbered indexes which will be used for embeddings"
   ]
  },
  {
   "cell_type": "code",
   "execution_count": 4,
   "metadata": {
    "collapsed": true
   },
   "outputs": [],
   "source": [
    "ProductList = FinalDataImpDrugsSpecDropped.Product.unique()\n",
    "GenderList = FinalDataImpDrugsSpecDropped.gender.unique()\n",
    "SpecialtyList = FinalDataImpDrugsSpecDropped.specialty.unique()\n",
    "RegionList = FinalDataImpDrugsSpecDropped.region.unique()\n",
    "SettlementList = FinalDataImpDrugsSpecDropped.settlement_type.unique()"
   ]
  },
  {
   "cell_type": "code",
   "execution_count": 5,
   "metadata": {
    "collapsed": true
   },
   "outputs": [],
   "source": [
    "ProductToId = {u:i for i,u in enumerate(ProductList)}\n",
    "GenderToId = {u:i for i,u in enumerate(GenderList)}\n",
    "SpecialtyToId = {u:i for i,u in enumerate(SpecialtyList)}\n",
    "RegionToId = {u:i for i,u in enumerate(RegionList)}\n",
    "SettlementToId = {u:i for i, u in enumerate(SettlementList)}"
   ]
  },
  {
   "cell_type": "code",
   "execution_count": 6,
   "metadata": {},
   "outputs": [
    {
     "name": "stdout",
     "output_type": "stream",
     "text": [
      "{'non-urban': 0, 'urban': 1}\n"
     ]
    }
   ],
   "source": [
    "print(SettlementToId)"
   ]
  },
  {
   "cell_type": "code",
   "execution_count": 7,
   "metadata": {
    "collapsed": true
   },
   "outputs": [],
   "source": [
    "FinalDataImpDrugsSpecDropped.Product = FinalDataImpDrugsSpecDropped.Product.apply(lambda x: ProductToId[x])\n",
    "FinalDataImpDrugsSpecDropped.gender = FinalDataImpDrugsSpecDropped.gender.apply(lambda x: GenderToId[x])\n",
    "FinalDataImpDrugsSpecDropped.specialty = FinalDataImpDrugsSpecDropped.specialty.apply(lambda x: SpecialtyToId[x])\n",
    "FinalDataImpDrugsSpecDropped.region = FinalDataImpDrugsSpecDropped.region.apply(lambda x: RegionToId[x])\n",
    "FinalDataImpDrugsSpecDropped.settlement_type = FinalDataImpDrugsSpecDropped.settlement_type.apply(lambda x: SettlementToId[x])"
   ]
  },
  {
   "cell_type": "code",
   "execution_count": 8,
   "metadata": {
    "collapsed": true
   },
   "outputs": [],
   "source": [
    "NPIList = FinalDataImpDrugsSpecDropped.npi.unique()\n",
    "NPIToId = {u:i for i,u in enumerate(NPIList)}\n",
    "FinalDataImpDrugsSpecDropped.npi = FinalDataImpDrugsSpecDropped.npi.apply(lambda x: NPIToId[x])"
   ]
  },
  {
   "cell_type": "code",
   "execution_count": 9,
   "metadata": {},
   "outputs": [
    {
     "data": {
      "text/html": [
       "<div>\n",
       "<style>\n",
       "    .dataframe thead tr:only-child th {\n",
       "        text-align: right;\n",
       "    }\n",
       "\n",
       "    .dataframe thead th {\n",
       "        text-align: left;\n",
       "    }\n",
       "\n",
       "    .dataframe tbody tr th {\n",
       "        vertical-align: top;\n",
       "    }\n",
       "</style>\n",
       "<table border=\"1\" class=\"dataframe\">\n",
       "  <thead>\n",
       "    <tr style=\"text-align: right;\">\n",
       "      <th></th>\n",
       "      <th>npi</th>\n",
       "      <th>gender</th>\n",
       "      <th>region</th>\n",
       "      <th>settlement_type</th>\n",
       "      <th>specialty</th>\n",
       "      <th>years_practicing</th>\n",
       "      <th>Product</th>\n",
       "      <th>Trx</th>\n",
       "      <th>branded_generic_ratio</th>\n",
       "    </tr>\n",
       "  </thead>\n",
       "  <tbody>\n",
       "    <tr>\n",
       "      <th>0</th>\n",
       "      <td>0</td>\n",
       "      <td>0</td>\n",
       "      <td>0</td>\n",
       "      <td>0</td>\n",
       "      <td>0</td>\n",
       "      <td>7</td>\n",
       "      <td>0</td>\n",
       "      <td>11.0</td>\n",
       "      <td>0.167906</td>\n",
       "    </tr>\n",
       "    <tr>\n",
       "      <th>1</th>\n",
       "      <td>1</td>\n",
       "      <td>0</td>\n",
       "      <td>1</td>\n",
       "      <td>1</td>\n",
       "      <td>1</td>\n",
       "      <td>7</td>\n",
       "      <td>0</td>\n",
       "      <td>110.0</td>\n",
       "      <td>0.197285</td>\n",
       "    </tr>\n",
       "    <tr>\n",
       "      <th>2</th>\n",
       "      <td>2</td>\n",
       "      <td>0</td>\n",
       "      <td>2</td>\n",
       "      <td>1</td>\n",
       "      <td>1</td>\n",
       "      <td>7</td>\n",
       "      <td>0</td>\n",
       "      <td>15.0</td>\n",
       "      <td>0.062174</td>\n",
       "    </tr>\n",
       "    <tr>\n",
       "      <th>3</th>\n",
       "      <td>3</td>\n",
       "      <td>1</td>\n",
       "      <td>3</td>\n",
       "      <td>0</td>\n",
       "      <td>2</td>\n",
       "      <td>1</td>\n",
       "      <td>0</td>\n",
       "      <td>107.0</td>\n",
       "      <td>0.144923</td>\n",
       "    </tr>\n",
       "    <tr>\n",
       "      <th>4</th>\n",
       "      <td>4</td>\n",
       "      <td>0</td>\n",
       "      <td>1</td>\n",
       "      <td>1</td>\n",
       "      <td>1</td>\n",
       "      <td>7</td>\n",
       "      <td>0</td>\n",
       "      <td>126.0</td>\n",
       "      <td>0.061471</td>\n",
       "    </tr>\n",
       "  </tbody>\n",
       "</table>\n",
       "</div>"
      ],
      "text/plain": [
       "   npi  gender  region  settlement_type  specialty  years_practicing  Product  \\\n",
       "0    0       0       0                0          0                 7        0   \n",
       "1    1       0       1                1          1                 7        0   \n",
       "2    2       0       2                1          1                 7        0   \n",
       "3    3       1       3                0          2                 1        0   \n",
       "4    4       0       1                1          1                 7        0   \n",
       "\n",
       "     Trx  branded_generic_ratio  \n",
       "0   11.0               0.167906  \n",
       "1  110.0               0.197285  \n",
       "2   15.0               0.062174  \n",
       "3  107.0               0.144923  \n",
       "4  126.0               0.061471  "
      ]
     },
     "execution_count": 9,
     "metadata": {},
     "output_type": "execute_result"
    }
   ],
   "source": [
    "FinalDataImpDrugsSpecDropped.head()"
   ]
  },
  {
   "cell_type": "markdown",
   "metadata": {},
   "source": [
    "## Scaling the Trx at product level to bring it to 0:1 range to avoid product bias"
   ]
  },
  {
   "cell_type": "code",
   "execution_count": 197,
   "metadata": {
    "collapsed": true
   },
   "outputs": [],
   "source": [
    "ProductMeans = FinalDataImpDrugsSpecDropped.groupby('Product')['Trx'].mean().to_dict()\n",
    "ProductMins = FinalDataImpDrugsSpecDropped.groupby('Product')['Trx'].min().to_dict()\n",
    "ProductMaxs = FinalDataImpDrugsSpecDropped.groupby('Product')['Trx'].max().to_dict()"
   ]
  },
  {
   "cell_type": "markdown",
   "metadata": {},
   "source": [
    "## Checking if any denominators will lead to zero"
   ]
  },
  {
   "cell_type": "code",
   "execution_count": 182,
   "metadata": {},
   "outputs": [
    {
     "data": {
      "text/plain": [
       "0"
      ]
     },
     "execution_count": 182,
     "metadata": {},
     "output_type": "execute_result"
    }
   ],
   "source": [
    "pd.Series([ProductMaxs[i] == ProductMins[i] for i in ProductMaxs]).sum()"
   ]
  },
  {
   "cell_type": "code",
   "execution_count": 201,
   "metadata": {
    "collapsed": true
   },
   "outputs": [],
   "source": [
    "FinalDataImpDrugsSpecDropped.Trx = FinalDataImpDrugsSpecDropped.apply(lambda x: (x.Trx - ProductMins[x.Product])/(ProductMaxs[x.Product] - ProductMins[x.Product]) , axis= 1)"
   ]
  },
  {
   "cell_type": "code",
   "execution_count": 202,
   "metadata": {},
   "outputs": [
    {
     "data": {
      "text/html": [
       "<div>\n",
       "<style>\n",
       "    .dataframe thead tr:only-child th {\n",
       "        text-align: right;\n",
       "    }\n",
       "\n",
       "    .dataframe thead th {\n",
       "        text-align: left;\n",
       "    }\n",
       "\n",
       "    .dataframe tbody tr th {\n",
       "        vertical-align: top;\n",
       "    }\n",
       "</style>\n",
       "<table border=\"1\" class=\"dataframe\">\n",
       "  <thead>\n",
       "    <tr style=\"text-align: right;\">\n",
       "      <th></th>\n",
       "      <th>npi</th>\n",
       "      <th>gender</th>\n",
       "      <th>region</th>\n",
       "      <th>settlement_type</th>\n",
       "      <th>specialty</th>\n",
       "      <th>years_practicing</th>\n",
       "      <th>Product</th>\n",
       "      <th>Trx</th>\n",
       "      <th>branded_generic_ratio</th>\n",
       "    </tr>\n",
       "  </thead>\n",
       "  <tbody>\n",
       "    <tr>\n",
       "      <th>0</th>\n",
       "      <td>0</td>\n",
       "      <td>0</td>\n",
       "      <td>0</td>\n",
       "      <td>0</td>\n",
       "      <td>0</td>\n",
       "      <td>7</td>\n",
       "      <td>0</td>\n",
       "      <td>0.000000</td>\n",
       "      <td>0.167906</td>\n",
       "    </tr>\n",
       "    <tr>\n",
       "      <th>1</th>\n",
       "      <td>1</td>\n",
       "      <td>0</td>\n",
       "      <td>1</td>\n",
       "      <td>1</td>\n",
       "      <td>1</td>\n",
       "      <td>7</td>\n",
       "      <td>0</td>\n",
       "      <td>0.046942</td>\n",
       "      <td>0.197285</td>\n",
       "    </tr>\n",
       "    <tr>\n",
       "      <th>2</th>\n",
       "      <td>2</td>\n",
       "      <td>0</td>\n",
       "      <td>2</td>\n",
       "      <td>1</td>\n",
       "      <td>1</td>\n",
       "      <td>7</td>\n",
       "      <td>0</td>\n",
       "      <td>0.001897</td>\n",
       "      <td>0.062174</td>\n",
       "    </tr>\n",
       "    <tr>\n",
       "      <th>3</th>\n",
       "      <td>3</td>\n",
       "      <td>1</td>\n",
       "      <td>3</td>\n",
       "      <td>0</td>\n",
       "      <td>2</td>\n",
       "      <td>1</td>\n",
       "      <td>0</td>\n",
       "      <td>0.045519</td>\n",
       "      <td>0.144923</td>\n",
       "    </tr>\n",
       "    <tr>\n",
       "      <th>4</th>\n",
       "      <td>4</td>\n",
       "      <td>0</td>\n",
       "      <td>1</td>\n",
       "      <td>1</td>\n",
       "      <td>1</td>\n",
       "      <td>7</td>\n",
       "      <td>0</td>\n",
       "      <td>0.054528</td>\n",
       "      <td>0.061471</td>\n",
       "    </tr>\n",
       "  </tbody>\n",
       "</table>\n",
       "</div>"
      ],
      "text/plain": [
       "   npi  gender  region  settlement_type  specialty  years_practicing  Product  \\\n",
       "0    0       0       0                0          0                 7        0   \n",
       "1    1       0       1                1          1                 7        0   \n",
       "2    2       0       2                1          1                 7        0   \n",
       "3    3       1       3                0          2                 1        0   \n",
       "4    4       0       1                1          1                 7        0   \n",
       "\n",
       "        Trx  branded_generic_ratio  \n",
       "0  0.000000               0.167906  \n",
       "1  0.046942               0.197285  \n",
       "2  0.001897               0.062174  \n",
       "3  0.045519               0.144923  \n",
       "4  0.054528               0.061471  "
      ]
     },
     "execution_count": 202,
     "metadata": {},
     "output_type": "execute_result"
    }
   ],
   "source": [
    "FinalDataImpDrugsSpecDropped.head()"
   ]
  },
  {
   "cell_type": "code",
   "execution_count": 203,
   "metadata": {},
   "outputs": [
    {
     "data": {
      "text/html": [
       "<div>\n",
       "<style>\n",
       "    .dataframe thead tr:only-child th {\n",
       "        text-align: right;\n",
       "    }\n",
       "\n",
       "    .dataframe thead th {\n",
       "        text-align: left;\n",
       "    }\n",
       "\n",
       "    .dataframe tbody tr th {\n",
       "        vertical-align: top;\n",
       "    }\n",
       "</style>\n",
       "<table border=\"1\" class=\"dataframe\">\n",
       "  <thead>\n",
       "    <tr style=\"text-align: right;\">\n",
       "      <th></th>\n",
       "      <th>npi</th>\n",
       "      <th>gender</th>\n",
       "      <th>region</th>\n",
       "      <th>settlement_type</th>\n",
       "      <th>specialty</th>\n",
       "      <th>years_practicing</th>\n",
       "      <th>Product</th>\n",
       "      <th>Trx</th>\n",
       "      <th>branded_generic_ratio</th>\n",
       "    </tr>\n",
       "  </thead>\n",
       "  <tbody>\n",
       "    <tr>\n",
       "      <th>0</th>\n",
       "      <td>1295763035</td>\n",
       "      <td>M</td>\n",
       "      <td>South</td>\n",
       "      <td>non-urban</td>\n",
       "      <td>Nephrology</td>\n",
       "      <td>7</td>\n",
       "      <td>ABILIFY</td>\n",
       "      <td>11.0</td>\n",
       "      <td>0.167906</td>\n",
       "    </tr>\n",
       "    <tr>\n",
       "      <th>1</th>\n",
       "      <td>1215979554</td>\n",
       "      <td>M</td>\n",
       "      <td>Midwest</td>\n",
       "      <td>urban</td>\n",
       "      <td>Psychiatry</td>\n",
       "      <td>7</td>\n",
       "      <td>ABILIFY</td>\n",
       "      <td>110.0</td>\n",
       "      <td>0.197285</td>\n",
       "    </tr>\n",
       "    <tr>\n",
       "      <th>2</th>\n",
       "      <td>1174564165</td>\n",
       "      <td>M</td>\n",
       "      <td>Northeast</td>\n",
       "      <td>urban</td>\n",
       "      <td>Psychiatry</td>\n",
       "      <td>7</td>\n",
       "      <td>ABILIFY</td>\n",
       "      <td>15.0</td>\n",
       "      <td>0.062174</td>\n",
       "    </tr>\n",
       "    <tr>\n",
       "      <th>3</th>\n",
       "      <td>1043561624</td>\n",
       "      <td>F</td>\n",
       "      <td>West</td>\n",
       "      <td>non-urban</td>\n",
       "      <td>Psych/Mental Health</td>\n",
       "      <td>1</td>\n",
       "      <td>ABILIFY</td>\n",
       "      <td>107.0</td>\n",
       "      <td>0.144923</td>\n",
       "    </tr>\n",
       "    <tr>\n",
       "      <th>4</th>\n",
       "      <td>1306880281</td>\n",
       "      <td>M</td>\n",
       "      <td>Midwest</td>\n",
       "      <td>urban</td>\n",
       "      <td>Psychiatry</td>\n",
       "      <td>7</td>\n",
       "      <td>ABILIFY</td>\n",
       "      <td>126.0</td>\n",
       "      <td>0.061471</td>\n",
       "    </tr>\n",
       "  </tbody>\n",
       "</table>\n",
       "</div>"
      ],
      "text/plain": [
       "          npi gender     region settlement_type            specialty  \\\n",
       "0  1295763035      M      South       non-urban           Nephrology   \n",
       "1  1215979554      M    Midwest           urban           Psychiatry   \n",
       "2  1174564165      M  Northeast           urban           Psychiatry   \n",
       "3  1043561624      F       West       non-urban  Psych/Mental Health   \n",
       "4  1306880281      M    Midwest           urban           Psychiatry   \n",
       "\n",
       "   years_practicing  Product    Trx  branded_generic_ratio  \n",
       "0                 7  ABILIFY   11.0               0.167906  \n",
       "1                 7  ABILIFY  110.0               0.197285  \n",
       "2                 7  ABILIFY   15.0               0.062174  \n",
       "3                 1  ABILIFY  107.0               0.144923  \n",
       "4                 7  ABILIFY  126.0               0.061471  "
      ]
     },
     "execution_count": 203,
     "metadata": {},
     "output_type": "execute_result"
    }
   ],
   "source": [
    "FinalDataImpDrugsSpecDroppedCopy.head()"
   ]
  },
  {
   "cell_type": "code",
   "execution_count": 204,
   "metadata": {},
   "outputs": [
    {
     "data": {
      "text/plain": [
       "11.0"
      ]
     },
     "execution_count": 204,
     "metadata": {},
     "output_type": "execute_result"
    }
   ],
   "source": [
    "ProductMins[0]"
   ]
  },
  {
   "cell_type": "code",
   "execution_count": 205,
   "metadata": {},
   "outputs": [
    {
     "data": {
      "text/html": [
       "<div>\n",
       "<style>\n",
       "    .dataframe thead tr:only-child th {\n",
       "        text-align: right;\n",
       "    }\n",
       "\n",
       "    .dataframe thead th {\n",
       "        text-align: left;\n",
       "    }\n",
       "\n",
       "    .dataframe tbody tr th {\n",
       "        vertical-align: top;\n",
       "    }\n",
       "</style>\n",
       "<table border=\"1\" class=\"dataframe\">\n",
       "  <thead>\n",
       "    <tr style=\"text-align: right;\">\n",
       "      <th></th>\n",
       "      <th>npi</th>\n",
       "      <th>gender</th>\n",
       "      <th>region</th>\n",
       "      <th>settlement_type</th>\n",
       "      <th>specialty</th>\n",
       "      <th>years_practicing</th>\n",
       "      <th>Product</th>\n",
       "      <th>Trx</th>\n",
       "      <th>branded_generic_ratio</th>\n",
       "    </tr>\n",
       "  </thead>\n",
       "  <tbody>\n",
       "    <tr>\n",
       "      <th>count</th>\n",
       "      <td>1.859771e+06</td>\n",
       "      <td>1.859771e+06</td>\n",
       "      <td>1.859771e+06</td>\n",
       "      <td>1.859771e+06</td>\n",
       "      <td>1.859771e+06</td>\n",
       "      <td>1.859771e+06</td>\n",
       "      <td>1.859771e+06</td>\n",
       "      <td>1.859771e+06</td>\n",
       "      <td>1.859771e+06</td>\n",
       "    </tr>\n",
       "    <tr>\n",
       "      <th>mean</th>\n",
       "      <td>1.347931e+04</td>\n",
       "      <td>3.910750e-01</td>\n",
       "      <td>1.166146e+00</td>\n",
       "      <td>4.022694e-01</td>\n",
       "      <td>6.144662e+00</td>\n",
       "      <td>6.635130e+00</td>\n",
       "      <td>1.075267e+02</td>\n",
       "      <td>3.082630e-02</td>\n",
       "      <td>2.369093e-01</td>\n",
       "    </tr>\n",
       "    <tr>\n",
       "      <th>std</th>\n",
       "      <td>7.994522e+03</td>\n",
       "      <td>4.879913e-01</td>\n",
       "      <td>1.142675e+00</td>\n",
       "      <td>4.903559e-01</td>\n",
       "      <td>3.454642e+00</td>\n",
       "      <td>1.483022e+00</td>\n",
       "      <td>6.357899e+01</td>\n",
       "      <td>5.101316e-02</td>\n",
       "      <td>2.113688e-01</td>\n",
       "    </tr>\n",
       "    <tr>\n",
       "      <th>min</th>\n",
       "      <td>0.000000e+00</td>\n",
       "      <td>0.000000e+00</td>\n",
       "      <td>0.000000e+00</td>\n",
       "      <td>0.000000e+00</td>\n",
       "      <td>0.000000e+00</td>\n",
       "      <td>1.000000e+00</td>\n",
       "      <td>0.000000e+00</td>\n",
       "      <td>0.000000e+00</td>\n",
       "      <td>0.000000e+00</td>\n",
       "    </tr>\n",
       "    <tr>\n",
       "      <th>25%</th>\n",
       "      <td>6.904000e+03</td>\n",
       "      <td>0.000000e+00</td>\n",
       "      <td>0.000000e+00</td>\n",
       "      <td>0.000000e+00</td>\n",
       "      <td>4.000000e+00</td>\n",
       "      <td>7.000000e+00</td>\n",
       "      <td>5.200000e+01</td>\n",
       "      <td>4.243281e-03</td>\n",
       "      <td>1.375000e-01</td>\n",
       "    </tr>\n",
       "    <tr>\n",
       "      <th>50%</th>\n",
       "      <td>1.297200e+04</td>\n",
       "      <td>0.000000e+00</td>\n",
       "      <td>1.000000e+00</td>\n",
       "      <td>0.000000e+00</td>\n",
       "      <td>6.000000e+00</td>\n",
       "      <td>7.000000e+00</td>\n",
       "      <td>1.110000e+02</td>\n",
       "      <td>1.371653e-02</td>\n",
       "      <td>1.832541e-01</td>\n",
       "    </tr>\n",
       "    <tr>\n",
       "      <th>75%</th>\n",
       "      <td>2.003200e+04</td>\n",
       "      <td>1.000000e+00</td>\n",
       "      <td>2.000000e+00</td>\n",
       "      <td>1.000000e+00</td>\n",
       "      <td>8.000000e+00</td>\n",
       "      <td>7.000000e+00</td>\n",
       "      <td>1.650000e+02</td>\n",
       "      <td>3.642384e-02</td>\n",
       "      <td>2.491121e-01</td>\n",
       "    </tr>\n",
       "    <tr>\n",
       "      <th>max</th>\n",
       "      <td>2.895200e+04</td>\n",
       "      <td>1.000000e+00</td>\n",
       "      <td>3.000000e+00</td>\n",
       "      <td>1.000000e+00</td>\n",
       "      <td>1.500000e+01</td>\n",
       "      <td>8.000000e+00</td>\n",
       "      <td>2.170000e+02</td>\n",
       "      <td>1.000000e+00</td>\n",
       "      <td>5.102293e+00</td>\n",
       "    </tr>\n",
       "  </tbody>\n",
       "</table>\n",
       "</div>"
      ],
      "text/plain": [
       "                npi        gender        region  settlement_type  \\\n",
       "count  1.859771e+06  1.859771e+06  1.859771e+06     1.859771e+06   \n",
       "mean   1.347931e+04  3.910750e-01  1.166146e+00     4.022694e-01   \n",
       "std    7.994522e+03  4.879913e-01  1.142675e+00     4.903559e-01   \n",
       "min    0.000000e+00  0.000000e+00  0.000000e+00     0.000000e+00   \n",
       "25%    6.904000e+03  0.000000e+00  0.000000e+00     0.000000e+00   \n",
       "50%    1.297200e+04  0.000000e+00  1.000000e+00     0.000000e+00   \n",
       "75%    2.003200e+04  1.000000e+00  2.000000e+00     1.000000e+00   \n",
       "max    2.895200e+04  1.000000e+00  3.000000e+00     1.000000e+00   \n",
       "\n",
       "          specialty  years_practicing       Product           Trx  \\\n",
       "count  1.859771e+06      1.859771e+06  1.859771e+06  1.859771e+06   \n",
       "mean   6.144662e+00      6.635130e+00  1.075267e+02  3.082630e-02   \n",
       "std    3.454642e+00      1.483022e+00  6.357899e+01  5.101316e-02   \n",
       "min    0.000000e+00      1.000000e+00  0.000000e+00  0.000000e+00   \n",
       "25%    4.000000e+00      7.000000e+00  5.200000e+01  4.243281e-03   \n",
       "50%    6.000000e+00      7.000000e+00  1.110000e+02  1.371653e-02   \n",
       "75%    8.000000e+00      7.000000e+00  1.650000e+02  3.642384e-02   \n",
       "max    1.500000e+01      8.000000e+00  2.170000e+02  1.000000e+00   \n",
       "\n",
       "       branded_generic_ratio  \n",
       "count           1.859771e+06  \n",
       "mean            2.369093e-01  \n",
       "std             2.113688e-01  \n",
       "min             0.000000e+00  \n",
       "25%             1.375000e-01  \n",
       "50%             1.832541e-01  \n",
       "75%             2.491121e-01  \n",
       "max             5.102293e+00  "
      ]
     },
     "execution_count": 205,
     "metadata": {},
     "output_type": "execute_result"
    }
   ],
   "source": [
    "FinalDataImpDrugsSpecDropped.describe()"
   ]
  },
  {
   "cell_type": "code",
   "execution_count": 206,
   "metadata": {
    "collapsed": true
   },
   "outputs": [],
   "source": [
    "FinalDataImpDrugsSpecDropped.to_csv(\"FinalDataEmbeddingNormalized.csv\")"
   ]
  },
  {
   "cell_type": "markdown",
   "metadata": {},
   "source": [
    "# Reading the non normalized data"
   ]
  },
  {
   "cell_type": "code",
   "execution_count": 2,
   "metadata": {
    "collapsed": true
   },
   "outputs": [],
   "source": [
    "FinalDataImpDrugsSpecDropped  = pd.read_csv(\"FinalDataEmbedding.csv\")"
   ]
  },
  {
   "cell_type": "code",
   "execution_count": 3,
   "metadata": {
    "collapsed": true
   },
   "outputs": [],
   "source": [
    "FinalDataImpDrugsSpecDropped.drop('Unnamed: 0' , axis=1 , inplace=True)"
   ]
  },
  {
   "cell_type": "markdown",
   "metadata": {},
   "source": [
    "# Data Preprocessing Over"
   ]
  },
  {
   "cell_type": "markdown",
   "metadata": {},
   "source": [
    "## Embedding and Neural Network starts"
   ]
  },
  {
   "cell_type": "code",
   "execution_count": 10,
   "metadata": {},
   "outputs": [
    {
     "name": "stderr",
     "output_type": "stream",
     "text": [
      "Using TensorFlow backend.\n"
     ]
    }
   ],
   "source": [
    "import utils\n",
    "from utils import *"
   ]
  },
  {
   "cell_type": "code",
   "execution_count": 11,
   "metadata": {},
   "outputs": [
    {
     "name": "stdout",
     "output_type": "stream",
     "text": [
      "npi 28953 ; gender 2 ; region 4 ; specialty 16 ; product 218 ; settlement 2\n"
     ]
    }
   ],
   "source": [
    "n_npi = FinalDataImpDrugsSpecDropped.npi.nunique()\n",
    "n_gender = FinalDataImpDrugsSpecDropped.gender.nunique()\n",
    "n_region = FinalDataImpDrugsSpecDropped.region.nunique()\n",
    "n_specialty = FinalDataImpDrugsSpecDropped.specialty.nunique()\n",
    "n_product = FinalDataImpDrugsSpecDropped.Product.nunique()\n",
    "n_settlement = FinalDataImpDrugsSpecDropped.settlement_type.nunique()\n",
    "\n",
    "print(\"npi %s ; gender %s ; region %s ; specialty %s ; product %s ; settlement %s\" %(n_npi, n_gender , n_region, n_specialty, n_product, n_settlement))"
   ]
  },
  {
   "cell_type": "code",
   "execution_count": 12,
   "metadata": {
    "collapsed": true
   },
   "outputs": [],
   "source": [
    "#defining embedding\n",
    "\n",
    "def embedding_input(name, n_in, n_out, reg):\n",
    "    inp = Input(shape=(1,), dtype='int64', name=name)\n",
    "    return inp, Embedding(n_in, n_out, input_length=1, W_regularizer=l2(reg))(inp)"
   ]
  },
  {
   "cell_type": "code",
   "execution_count": 13,
   "metadata": {},
   "outputs": [
    {
     "data": {
      "text/plain": [
       "0.0001"
      ]
     },
     "execution_count": 13,
     "metadata": {},
     "output_type": "execute_result"
    }
   ],
   "source": [
    "math.sqrt(n_npi)\n",
    "1e-4"
   ]
  },
  {
   "cell_type": "code",
   "execution_count": 14,
   "metadata": {},
   "outputs": [
    {
     "name": "stderr",
     "output_type": "stream",
     "text": [
      "C:\\Users\\darsh\\AppData\\Local\\Continuum\\Anaconda3\\lib\\site-packages\\ipykernel_launcher.py:5: UserWarning: Update your `Embedding` call to the Keras 2 API: `Embedding(28953, 250, input_length=1, embeddings_regularizer=<keras.reg...)`\n",
      "  \"\"\"\n",
      "C:\\Users\\darsh\\AppData\\Local\\Continuum\\Anaconda3\\lib\\site-packages\\ipykernel_launcher.py:5: UserWarning: Update your `Embedding` call to the Keras 2 API: `Embedding(218, 20, input_length=1, embeddings_regularizer=<keras.reg...)`\n",
      "  \"\"\"\n",
      "C:\\Users\\darsh\\AppData\\Local\\Continuum\\Anaconda3\\lib\\site-packages\\ipykernel_launcher.py:5: UserWarning: Update your `Embedding` call to the Keras 2 API: `Embedding(16, 5, input_length=1, embeddings_regularizer=<keras.reg...)`\n",
      "  \"\"\"\n",
      "C:\\Users\\darsh\\AppData\\Local\\Continuum\\Anaconda3\\lib\\site-packages\\ipykernel_launcher.py:5: UserWarning: Update your `Embedding` call to the Keras 2 API: `Embedding(4, 3, input_length=1, embeddings_regularizer=<keras.reg...)`\n",
      "  \"\"\"\n",
      "C:\\Users\\darsh\\AppData\\Local\\Continuum\\Anaconda3\\lib\\site-packages\\ipykernel_launcher.py:5: UserWarning: Update your `Embedding` call to the Keras 2 API: `Embedding(2, 2, input_length=1, embeddings_regularizer=<keras.reg...)`\n",
      "  \"\"\"\n"
     ]
    }
   ],
   "source": [
    "npi_in, npi_emb = embedding_input('npi_in', n_npi , 250 , 1e-5)\n",
    "product_in , product_emb = embedding_input('product_in', n_product, 20 , 1e-5)\n",
    "specialty_in , specialty_emb = embedding_input('specialty_in' , n_specialty , 5 , 1e-5)\n",
    "region_in , region_emb = embedding_input('region_in' , n_region , 3 , 1e-4)\n",
    "gender_in , gender_emb = embedding_input('gender_in' , n_gender , 2 , 1e-4)\n",
    "settlement_in , settlement_emb = embedding_input('settlement_in' , n_settlement, 2 , 1e-5)"
   ]
  },
  {
   "cell_type": "code",
   "execution_count": 15,
   "metadata": {
    "collapsed": true
   },
   "outputs": [],
   "source": [
    "# Taking Inputs for years_practicing and branded_generic_ratio\n",
    "\n",
    "years_practicing_inp = Input(shape = (1,1) , dtype = 'float32' , name = 'years_inp')\n",
    "branded_generic_inp = Input(shape = (1,1) , dtype = 'float32' , name = 'branded_inp')"
   ]
  },
  {
   "cell_type": "code",
   "execution_count": 16,
   "metadata": {},
   "outputs": [
    {
     "name": "stdout",
     "output_type": "stream",
     "text": [
      "(?, 1, 250)\n",
      "(?, 1, 20)\n",
      "(?, 1, 1)\n"
     ]
    }
   ],
   "source": [
    "print(npi_emb.shape)\n",
    "print(product_emb.shape)\n",
    "print(years_practicing_inp.shape)"
   ]
  },
  {
   "cell_type": "code",
   "execution_count": 17,
   "metadata": {},
   "outputs": [
    {
     "name": "stderr",
     "output_type": "stream",
     "text": [
      "C:\\Users\\darsh\\AppData\\Local\\Continuum\\Anaconda3\\lib\\site-packages\\ipykernel_launcher.py:2: UserWarning: The `merge` function is deprecated and will be removed after 08/2017. Use instead layers from `keras.layers.merge`, e.g. `add`, `concatenate`, etc.\n",
      "  \n",
      "C:\\Users\\darsh\\AppData\\Local\\Continuum\\Anaconda3\\lib\\site-packages\\keras\\legacy\\layers.py:458: UserWarning: The `Merge` layer is deprecated and will be removed after 08/2017. Use instead layers from `keras.layers.merge`, e.g. `add`, `concatenate`, etc.\n",
      "  name=name)\n"
     ]
    }
   ],
   "source": [
    "inp = merge([npi_emb , product_emb, specialty_emb , region_emb, gender_emb, settlement_emb , years_practicing_inp,\n",
    "          branded_generic_inp] , mode = 'concat')"
   ]
  },
  {
   "cell_type": "code",
   "execution_count": 18,
   "metadata": {
    "collapsed": true
   },
   "outputs": [],
   "source": [
    "from keras.layers import PReLU"
   ]
  },
  {
   "cell_type": "code",
   "execution_count": 49,
   "metadata": {},
   "outputs": [
    {
     "name": "stderr",
     "output_type": "stream",
     "text": [
      "C:\\Users\\darsh\\AppData\\Local\\Continuum\\Anaconda3\\lib\\site-packages\\ipykernel_launcher.py:28: UserWarning: The `merge` function is deprecated and will be removed after 08/2017. Use instead layers from `keras.layers.merge`, e.g. `add`, `concatenate`, etc.\n",
      "C:\\Users\\darsh\\AppData\\Local\\Continuum\\Anaconda3\\lib\\site-packages\\keras\\legacy\\layers.py:458: UserWarning: The `Merge` layer is deprecated and will be removed after 08/2017. Use instead layers from `keras.layers.merge`, e.g. `add`, `concatenate`, etc.\n",
      "  name=name)\n"
     ]
    }
   ],
   "source": [
    "inp1 = Flatten()(inp)\n",
    "inp1 = Dropout(0.1)(inp1)\n",
    "x = Dense(400  , name = 'L1')(inp1)\n",
    "x = PReLU(name = 'P1')(x)\n",
    "x = BatchNormalization(name = 'BN1')(x)\n",
    "inp2 = Dropout(0.1)(x)\n",
    "\n",
    "x = Dense(300, name = 'L2')(inp2)\n",
    "x = PReLU(name = 'P2')(x)\n",
    "x = BatchNormalization(name = 'BN2')(x)\n",
    "x = Dropout(0.2)(x)\n",
    "\n",
    "x = Dense(200 , name = 'L3')(x)\n",
    "x = PReLU(name = 'P3')(x)\n",
    "x = BatchNormalization(name = 'BN3')(x)\n",
    "x = Dropout(0.2)(x)\n",
    "\n",
    "x = Dense(100 , name = 'L4')(x)\n",
    "x = PReLU(name = 'P4')(x)\n",
    "x = BatchNormalization(name = 'BN4')(x)\n",
    "x = Dropout(0.2)(x)\n",
    "\n",
    "m = Dense(100 , name = 'm1')(inp2)\n",
    "m = PReLU(name = 'mP1')(m)\n",
    "m = BatchNormalization(name = 'mBN1')(x)\n",
    "m = Dropout(0.2)(m)\n",
    "\n",
    "x = merge([x, m] , mode = 'sum')\n",
    "\n",
    "x = Dense(50 , name = 'L5')(x)\n",
    "x = PReLU(name = 'P5')(x)\n",
    "x = Dropout(0.3)(x)\n",
    "x = Dense(1 , name = 'L6')(x)\n",
    "outputs = PReLU(name = 'P6')(x)"
   ]
  },
  {
   "cell_type": "code",
   "execution_count": 50,
   "metadata": {
    "collapsed": true
   },
   "outputs": [],
   "source": [
    "nn = Model([npi_in , product_in, specialty_in , region_in, gender_in, settlement_in , years_practicing_inp,\n",
    "            branded_generic_inp ] , outputs = outputs)"
   ]
  },
  {
   "cell_type": "code",
   "execution_count": 133,
   "metadata": {
    "collapsed": true
   },
   "outputs": [],
   "source": [
    "for layer in range(len(nn.layers)):\n",
    "    nn.layers[layer].trainable = True"
   ]
  },
  {
   "cell_type": "code",
   "execution_count": 128,
   "metadata": {},
   "outputs": [
    {
     "data": {
      "text/plain": [
       "True"
      ]
     },
     "execution_count": 128,
     "metadata": {},
     "output_type": "execute_result"
    }
   ],
   "source": [
    "nn.layers[9].trainable"
   ]
  },
  {
   "cell_type": "code",
   "execution_count": 51,
   "metadata": {
    "collapsed": true
   },
   "outputs": [],
   "source": [
    "optimizer = Adam()"
   ]
  },
  {
   "cell_type": "code",
   "execution_count": 52,
   "metadata": {
    "collapsed": true
   },
   "outputs": [],
   "source": [
    "nn.compile(optimizer=optimizer , loss = 'mse')"
   ]
  },
  {
   "cell_type": "code",
   "execution_count": 53,
   "metadata": {},
   "outputs": [
    {
     "name": "stdout",
     "output_type": "stream",
     "text": [
      "____________________________________________________________________________________________________\n",
      "Layer (type)                     Output Shape          Param #     Connected to                     \n",
      "====================================================================================================\n",
      "npi_in (InputLayer)              (None, 1)             0                                            \n",
      "____________________________________________________________________________________________________\n",
      "product_in (InputLayer)          (None, 1)             0                                            \n",
      "____________________________________________________________________________________________________\n",
      "specialty_in (InputLayer)        (None, 1)             0                                            \n",
      "____________________________________________________________________________________________________\n",
      "region_in (InputLayer)           (None, 1)             0                                            \n",
      "____________________________________________________________________________________________________\n",
      "gender_in (InputLayer)           (None, 1)             0                                            \n",
      "____________________________________________________________________________________________________\n",
      "settlement_in (InputLayer)       (None, 1)             0                                            \n",
      "____________________________________________________________________________________________________\n",
      "embedding_1 (Embedding)          (None, 1, 250)        7238250     npi_in[0][0]                     \n",
      "____________________________________________________________________________________________________\n",
      "embedding_2 (Embedding)          (None, 1, 20)         4360        product_in[0][0]                 \n",
      "____________________________________________________________________________________________________\n",
      "embedding_3 (Embedding)          (None, 1, 5)          80          specialty_in[0][0]               \n",
      "____________________________________________________________________________________________________\n",
      "embedding_4 (Embedding)          (None, 1, 3)          12          region_in[0][0]                  \n",
      "____________________________________________________________________________________________________\n",
      "embedding_5 (Embedding)          (None, 1, 2)          4           gender_in[0][0]                  \n",
      "____________________________________________________________________________________________________\n",
      "embedding_6 (Embedding)          (None, 1, 2)          4           settlement_in[0][0]              \n",
      "____________________________________________________________________________________________________\n",
      "years_inp (InputLayer)           (None, 1, 1)          0                                            \n",
      "____________________________________________________________________________________________________\n",
      "branded_inp (InputLayer)         (None, 1, 1)          0                                            \n",
      "____________________________________________________________________________________________________\n",
      "merge_1 (Merge)                  (None, 1, 284)        0           embedding_1[0][0]                \n",
      "                                                                   embedding_2[0][0]                \n",
      "                                                                   embedding_3[0][0]                \n",
      "                                                                   embedding_4[0][0]                \n",
      "                                                                   embedding_5[0][0]                \n",
      "                                                                   embedding_6[0][0]                \n",
      "                                                                   years_inp[0][0]                  \n",
      "                                                                   branded_inp[0][0]                \n",
      "____________________________________________________________________________________________________\n",
      "flatten_4 (Flatten)              (None, 284)           0           merge_1[0][0]                    \n",
      "____________________________________________________________________________________________________\n",
      "dropout_13 (Dropout)             (None, 284)           0           flatten_4[0][0]                  \n",
      "____________________________________________________________________________________________________\n",
      "L1 (Dense)                       (None, 400)           114000      dropout_13[0][0]                 \n",
      "____________________________________________________________________________________________________\n",
      "P1 (PReLU)                       (None, 400)           400         L1[0][0]                         \n",
      "____________________________________________________________________________________________________\n",
      "BN1 (BatchNormalization)         (None, 400)           1600        P1[0][0]                         \n",
      "____________________________________________________________________________________________________\n",
      "dropout_14 (Dropout)             (None, 400)           0           BN1[0][0]                        \n",
      "____________________________________________________________________________________________________\n",
      "L2 (Dense)                       (None, 300)           120300      dropout_14[0][0]                 \n",
      "____________________________________________________________________________________________________\n",
      "P2 (PReLU)                       (None, 300)           300         L2[0][0]                         \n",
      "____________________________________________________________________________________________________\n",
      "BN2 (BatchNormalization)         (None, 300)           1200        P2[0][0]                         \n",
      "____________________________________________________________________________________________________\n",
      "dropout_15 (Dropout)             (None, 300)           0           BN2[0][0]                        \n",
      "____________________________________________________________________________________________________\n",
      "L3 (Dense)                       (None, 200)           60200       dropout_15[0][0]                 \n",
      "____________________________________________________________________________________________________\n",
      "P3 (PReLU)                       (None, 200)           200         L3[0][0]                         \n",
      "____________________________________________________________________________________________________\n",
      "BN3 (BatchNormalization)         (None, 200)           800         P3[0][0]                         \n",
      "____________________________________________________________________________________________________\n",
      "dropout_16 (Dropout)             (None, 200)           0           BN3[0][0]                        \n",
      "____________________________________________________________________________________________________\n",
      "L4 (Dense)                       (None, 100)           20100       dropout_16[0][0]                 \n",
      "____________________________________________________________________________________________________\n",
      "P4 (PReLU)                       (None, 100)           100         L4[0][0]                         \n",
      "____________________________________________________________________________________________________\n",
      "BN4 (BatchNormalization)         (None, 100)           400         P4[0][0]                         \n",
      "____________________________________________________________________________________________________\n",
      "dropout_17 (Dropout)             (None, 100)           0           BN4[0][0]                        \n",
      "____________________________________________________________________________________________________\n",
      "mBN1 (BatchNormalization)        (None, 100)           400         dropout_17[0][0]                 \n",
      "____________________________________________________________________________________________________\n",
      "dropout_18 (Dropout)             (None, 100)           0           mBN1[0][0]                       \n",
      "____________________________________________________________________________________________________\n",
      "merge_5 (Merge)                  (None, 100)           0           dropout_17[0][0]                 \n",
      "                                                                   dropout_18[0][0]                 \n",
      "____________________________________________________________________________________________________\n",
      "L5 (Dense)                       (None, 50)            5050        merge_5[0][0]                    \n",
      "____________________________________________________________________________________________________\n",
      "P5 (PReLU)                       (None, 50)            50          L5[0][0]                         \n",
      "____________________________________________________________________________________________________\n",
      "dropout_19 (Dropout)             (None, 50)            0           P5[0][0]                         \n",
      "____________________________________________________________________________________________________\n",
      "L6 (Dense)                       (None, 1)             51          dropout_19[0][0]                 \n",
      "____________________________________________________________________________________________________\n",
      "P6 (PReLU)                       (None, 1)             1           L6[0][0]                         \n",
      "====================================================================================================\n",
      "Total params: 7,567,862\n",
      "Trainable params: 7,565,662\n",
      "Non-trainable params: 2,200\n",
      "____________________________________________________________________________________________________\n",
      "None\n"
     ]
    }
   ],
   "source": [
    "print(nn.summary())"
   ]
  },
  {
   "cell_type": "code",
   "execution_count": 54,
   "metadata": {
    "collapsed": true
   },
   "outputs": [],
   "source": [
    "alias = FinalDataImpDrugsSpecDropped.copy()"
   ]
  },
  {
   "cell_type": "code",
   "execution_count": 55,
   "metadata": {
    "collapsed": true
   },
   "outputs": [],
   "source": [
    "years_in = np.array(alias.years_practicing)[:, np.newaxis, np.newaxis]\n",
    "branded_in = np.array(alias.branded_generic_ratio)[:, np.newaxis, np.newaxis]"
   ]
  },
  {
   "cell_type": "code",
   "execution_count": 56,
   "metadata": {},
   "outputs": [
    {
     "data": {
      "text/plain": [
       "(1859771, 1, 1)"
      ]
     },
     "execution_count": 56,
     "metadata": {},
     "output_type": "execute_result"
    }
   ],
   "source": [
    "years_in.shape"
   ]
  },
  {
   "cell_type": "code",
   "execution_count": 103,
   "metadata": {},
   "outputs": [
    {
     "name": "stdout",
     "output_type": "stream",
     "text": [
      "Train on 1673793 samples, validate on 185978 samples\n",
      "Epoch 1/3\n",
      " 651264/1673793 [==========>...................] - ETA: 16s - loss: 7024.8712- E"
     ]
    },
    {
     "ename": "KeyboardInterrupt",
     "evalue": "",
     "output_type": "error",
     "traceback": [
      "\u001b[1;31m---------------------------------------------------------------------------\u001b[0m",
      "\u001b[1;31mKeyboardInterrupt\u001b[0m                         Traceback (most recent call last)",
      "\u001b[1;32m<ipython-input-103-29b99213c5a0>\u001b[0m in \u001b[0;36m<module>\u001b[1;34m()\u001b[0m\n\u001b[0;32m      3\u001b[0m         np.array(alias.gender) , np.array(alias.settlement_type) , years_in , branded_in] ,\n\u001b[0;32m      4\u001b[0m         \u001b[0mnp\u001b[0m\u001b[1;33m.\u001b[0m\u001b[0marray\u001b[0m\u001b[1;33m(\u001b[0m\u001b[0malias\u001b[0m\u001b[1;33m.\u001b[0m\u001b[0mTrx\u001b[0m\u001b[1;33m)\u001b[0m \u001b[1;33m,\u001b[0m \u001b[0mbatch_size\u001b[0m \u001b[1;33m=\u001b[0m \u001b[1;36m2048\u001b[0m \u001b[1;33m,\u001b[0m\u001b[1;33m\u001b[0m\u001b[0m\n\u001b[1;32m----> 5\u001b[1;33m         epochs = 3, validation_split = 0.1 , shuffle = True)\n\u001b[0m",
      "\u001b[1;32mC:\\Users\\darsh\\AppData\\Local\\Continuum\\Anaconda3\\lib\\site-packages\\keras\\engine\\training.py\u001b[0m in \u001b[0;36mfit\u001b[1;34m(self, x, y, batch_size, epochs, verbose, callbacks, validation_split, validation_data, shuffle, class_weight, sample_weight, initial_epoch, steps_per_epoch, validation_steps, **kwargs)\u001b[0m\n\u001b[0;32m   1596\u001b[0m                               \u001b[0minitial_epoch\u001b[0m\u001b[1;33m=\u001b[0m\u001b[0minitial_epoch\u001b[0m\u001b[1;33m,\u001b[0m\u001b[1;33m\u001b[0m\u001b[0m\n\u001b[0;32m   1597\u001b[0m                               \u001b[0msteps_per_epoch\u001b[0m\u001b[1;33m=\u001b[0m\u001b[0msteps_per_epoch\u001b[0m\u001b[1;33m,\u001b[0m\u001b[1;33m\u001b[0m\u001b[0m\n\u001b[1;32m-> 1598\u001b[1;33m                               validation_steps=validation_steps)\n\u001b[0m\u001b[0;32m   1599\u001b[0m \u001b[1;33m\u001b[0m\u001b[0m\n\u001b[0;32m   1600\u001b[0m     def evaluate(self, x, y,\n",
      "\u001b[1;32mC:\\Users\\darsh\\AppData\\Local\\Continuum\\Anaconda3\\lib\\site-packages\\keras\\engine\\training.py\u001b[0m in \u001b[0;36m_fit_loop\u001b[1;34m(self, f, ins, out_labels, batch_size, epochs, verbose, callbacks, val_f, val_ins, shuffle, callback_metrics, initial_epoch, steps_per_epoch, validation_steps)\u001b[0m\n\u001b[0;32m   1181\u001b[0m                     \u001b[0mbatch_logs\u001b[0m\u001b[1;33m[\u001b[0m\u001b[1;34m'size'\u001b[0m\u001b[1;33m]\u001b[0m \u001b[1;33m=\u001b[0m \u001b[0mlen\u001b[0m\u001b[1;33m(\u001b[0m\u001b[0mbatch_ids\u001b[0m\u001b[1;33m)\u001b[0m\u001b[1;33m\u001b[0m\u001b[0m\n\u001b[0;32m   1182\u001b[0m                     \u001b[0mcallbacks\u001b[0m\u001b[1;33m.\u001b[0m\u001b[0mon_batch_begin\u001b[0m\u001b[1;33m(\u001b[0m\u001b[0mbatch_index\u001b[0m\u001b[1;33m,\u001b[0m \u001b[0mbatch_logs\u001b[0m\u001b[1;33m)\u001b[0m\u001b[1;33m\u001b[0m\u001b[0m\n\u001b[1;32m-> 1183\u001b[1;33m                     \u001b[0mouts\u001b[0m \u001b[1;33m=\u001b[0m \u001b[0mf\u001b[0m\u001b[1;33m(\u001b[0m\u001b[0mins_batch\u001b[0m\u001b[1;33m)\u001b[0m\u001b[1;33m\u001b[0m\u001b[0m\n\u001b[0m\u001b[0;32m   1184\u001b[0m                     \u001b[1;32mif\u001b[0m \u001b[1;32mnot\u001b[0m \u001b[0misinstance\u001b[0m\u001b[1;33m(\u001b[0m\u001b[0mouts\u001b[0m\u001b[1;33m,\u001b[0m \u001b[0mlist\u001b[0m\u001b[1;33m)\u001b[0m\u001b[1;33m:\u001b[0m\u001b[1;33m\u001b[0m\u001b[0m\n\u001b[0;32m   1185\u001b[0m                         \u001b[0mouts\u001b[0m \u001b[1;33m=\u001b[0m \u001b[1;33m[\u001b[0m\u001b[0mouts\u001b[0m\u001b[1;33m]\u001b[0m\u001b[1;33m\u001b[0m\u001b[0m\n",
      "\u001b[1;32mC:\\Users\\darsh\\AppData\\Local\\Continuum\\Anaconda3\\lib\\site-packages\\keras\\backend\\tensorflow_backend.py\u001b[0m in \u001b[0;36m__call__\u001b[1;34m(self, inputs)\u001b[0m\n\u001b[0;32m   2271\u001b[0m         updated = session.run(self.outputs + [self.updates_op],\n\u001b[0;32m   2272\u001b[0m                               \u001b[0mfeed_dict\u001b[0m\u001b[1;33m=\u001b[0m\u001b[0mfeed_dict\u001b[0m\u001b[1;33m,\u001b[0m\u001b[1;33m\u001b[0m\u001b[0m\n\u001b[1;32m-> 2273\u001b[1;33m                               **self.session_kwargs)\n\u001b[0m\u001b[0;32m   2274\u001b[0m         \u001b[1;32mreturn\u001b[0m \u001b[0mupdated\u001b[0m\u001b[1;33m[\u001b[0m\u001b[1;33m:\u001b[0m\u001b[0mlen\u001b[0m\u001b[1;33m(\u001b[0m\u001b[0mself\u001b[0m\u001b[1;33m.\u001b[0m\u001b[0moutputs\u001b[0m\u001b[1;33m)\u001b[0m\u001b[1;33m]\u001b[0m\u001b[1;33m\u001b[0m\u001b[0m\n\u001b[0;32m   2275\u001b[0m \u001b[1;33m\u001b[0m\u001b[0m\n",
      "\u001b[1;32mC:\\Users\\darsh\\AppData\\Local\\Continuum\\Anaconda3\\lib\\site-packages\\tensorflow\\python\\client\\session.py\u001b[0m in \u001b[0;36mrun\u001b[1;34m(self, fetches, feed_dict, options, run_metadata)\u001b[0m\n\u001b[0;32m    893\u001b[0m     \u001b[1;32mtry\u001b[0m\u001b[1;33m:\u001b[0m\u001b[1;33m\u001b[0m\u001b[0m\n\u001b[0;32m    894\u001b[0m       result = self._run(None, fetches, feed_dict, options_ptr,\n\u001b[1;32m--> 895\u001b[1;33m                          run_metadata_ptr)\n\u001b[0m\u001b[0;32m    896\u001b[0m       \u001b[1;32mif\u001b[0m \u001b[0mrun_metadata\u001b[0m\u001b[1;33m:\u001b[0m\u001b[1;33m\u001b[0m\u001b[0m\n\u001b[0;32m    897\u001b[0m         \u001b[0mproto_data\u001b[0m \u001b[1;33m=\u001b[0m \u001b[0mtf_session\u001b[0m\u001b[1;33m.\u001b[0m\u001b[0mTF_GetBuffer\u001b[0m\u001b[1;33m(\u001b[0m\u001b[0mrun_metadata_ptr\u001b[0m\u001b[1;33m)\u001b[0m\u001b[1;33m\u001b[0m\u001b[0m\n",
      "\u001b[1;32mC:\\Users\\darsh\\AppData\\Local\\Continuum\\Anaconda3\\lib\\site-packages\\tensorflow\\python\\client\\session.py\u001b[0m in \u001b[0;36m_run\u001b[1;34m(self, handle, fetches, feed_dict, options, run_metadata)\u001b[0m\n\u001b[0;32m   1122\u001b[0m     \u001b[1;32mif\u001b[0m \u001b[0mfinal_fetches\u001b[0m \u001b[1;32mor\u001b[0m \u001b[0mfinal_targets\u001b[0m \u001b[1;32mor\u001b[0m \u001b[1;33m(\u001b[0m\u001b[0mhandle\u001b[0m \u001b[1;32mand\u001b[0m \u001b[0mfeed_dict_tensor\u001b[0m\u001b[1;33m)\u001b[0m\u001b[1;33m:\u001b[0m\u001b[1;33m\u001b[0m\u001b[0m\n\u001b[0;32m   1123\u001b[0m       results = self._do_run(handle, final_targets, final_fetches,\n\u001b[1;32m-> 1124\u001b[1;33m                              feed_dict_tensor, options, run_metadata)\n\u001b[0m\u001b[0;32m   1125\u001b[0m     \u001b[1;32melse\u001b[0m\u001b[1;33m:\u001b[0m\u001b[1;33m\u001b[0m\u001b[0m\n\u001b[0;32m   1126\u001b[0m       \u001b[0mresults\u001b[0m \u001b[1;33m=\u001b[0m \u001b[1;33m[\u001b[0m\u001b[1;33m]\u001b[0m\u001b[1;33m\u001b[0m\u001b[0m\n",
      "\u001b[1;32mC:\\Users\\darsh\\AppData\\Local\\Continuum\\Anaconda3\\lib\\site-packages\\tensorflow\\python\\client\\session.py\u001b[0m in \u001b[0;36m_do_run\u001b[1;34m(self, handle, target_list, fetch_list, feed_dict, options, run_metadata)\u001b[0m\n\u001b[0;32m   1319\u001b[0m     \u001b[1;32mif\u001b[0m \u001b[0mhandle\u001b[0m \u001b[1;32mis\u001b[0m \u001b[1;32mNone\u001b[0m\u001b[1;33m:\u001b[0m\u001b[1;33m\u001b[0m\u001b[0m\n\u001b[0;32m   1320\u001b[0m       return self._do_call(_run_fn, self._session, feeds, fetches, targets,\n\u001b[1;32m-> 1321\u001b[1;33m                            options, run_metadata)\n\u001b[0m\u001b[0;32m   1322\u001b[0m     \u001b[1;32melse\u001b[0m\u001b[1;33m:\u001b[0m\u001b[1;33m\u001b[0m\u001b[0m\n\u001b[0;32m   1323\u001b[0m       \u001b[1;32mreturn\u001b[0m \u001b[0mself\u001b[0m\u001b[1;33m.\u001b[0m\u001b[0m_do_call\u001b[0m\u001b[1;33m(\u001b[0m\u001b[0m_prun_fn\u001b[0m\u001b[1;33m,\u001b[0m \u001b[0mself\u001b[0m\u001b[1;33m.\u001b[0m\u001b[0m_session\u001b[0m\u001b[1;33m,\u001b[0m \u001b[0mhandle\u001b[0m\u001b[1;33m,\u001b[0m \u001b[0mfeeds\u001b[0m\u001b[1;33m,\u001b[0m \u001b[0mfetches\u001b[0m\u001b[1;33m)\u001b[0m\u001b[1;33m\u001b[0m\u001b[0m\n",
      "\u001b[1;32mC:\\Users\\darsh\\AppData\\Local\\Continuum\\Anaconda3\\lib\\site-packages\\tensorflow\\python\\client\\session.py\u001b[0m in \u001b[0;36m_do_call\u001b[1;34m(self, fn, *args)\u001b[0m\n\u001b[0;32m   1325\u001b[0m   \u001b[1;32mdef\u001b[0m \u001b[0m_do_call\u001b[0m\u001b[1;33m(\u001b[0m\u001b[0mself\u001b[0m\u001b[1;33m,\u001b[0m \u001b[0mfn\u001b[0m\u001b[1;33m,\u001b[0m \u001b[1;33m*\u001b[0m\u001b[0margs\u001b[0m\u001b[1;33m)\u001b[0m\u001b[1;33m:\u001b[0m\u001b[1;33m\u001b[0m\u001b[0m\n\u001b[0;32m   1326\u001b[0m     \u001b[1;32mtry\u001b[0m\u001b[1;33m:\u001b[0m\u001b[1;33m\u001b[0m\u001b[0m\n\u001b[1;32m-> 1327\u001b[1;33m       \u001b[1;32mreturn\u001b[0m \u001b[0mfn\u001b[0m\u001b[1;33m(\u001b[0m\u001b[1;33m*\u001b[0m\u001b[0margs\u001b[0m\u001b[1;33m)\u001b[0m\u001b[1;33m\u001b[0m\u001b[0m\n\u001b[0m\u001b[0;32m   1328\u001b[0m     \u001b[1;32mexcept\u001b[0m \u001b[0merrors\u001b[0m\u001b[1;33m.\u001b[0m\u001b[0mOpError\u001b[0m \u001b[1;32mas\u001b[0m \u001b[0me\u001b[0m\u001b[1;33m:\u001b[0m\u001b[1;33m\u001b[0m\u001b[0m\n\u001b[0;32m   1329\u001b[0m       \u001b[0mmessage\u001b[0m \u001b[1;33m=\u001b[0m \u001b[0mcompat\u001b[0m\u001b[1;33m.\u001b[0m\u001b[0mas_text\u001b[0m\u001b[1;33m(\u001b[0m\u001b[0me\u001b[0m\u001b[1;33m.\u001b[0m\u001b[0mmessage\u001b[0m\u001b[1;33m)\u001b[0m\u001b[1;33m\u001b[0m\u001b[0m\n",
      "\u001b[1;32mC:\\Users\\darsh\\AppData\\Local\\Continuum\\Anaconda3\\lib\\site-packages\\tensorflow\\python\\client\\session.py\u001b[0m in \u001b[0;36m_run_fn\u001b[1;34m(session, feed_dict, fetch_list, target_list, options, run_metadata)\u001b[0m\n\u001b[0;32m   1304\u001b[0m           return tf_session.TF_Run(session, options,\n\u001b[0;32m   1305\u001b[0m                                    \u001b[0mfeed_dict\u001b[0m\u001b[1;33m,\u001b[0m \u001b[0mfetch_list\u001b[0m\u001b[1;33m,\u001b[0m \u001b[0mtarget_list\u001b[0m\u001b[1;33m,\u001b[0m\u001b[1;33m\u001b[0m\u001b[0m\n\u001b[1;32m-> 1306\u001b[1;33m                                    status, run_metadata)\n\u001b[0m\u001b[0;32m   1307\u001b[0m \u001b[1;33m\u001b[0m\u001b[0m\n\u001b[0;32m   1308\u001b[0m     \u001b[1;32mdef\u001b[0m \u001b[0m_prun_fn\u001b[0m\u001b[1;33m(\u001b[0m\u001b[0msession\u001b[0m\u001b[1;33m,\u001b[0m \u001b[0mhandle\u001b[0m\u001b[1;33m,\u001b[0m \u001b[0mfeed_dict\u001b[0m\u001b[1;33m,\u001b[0m \u001b[0mfetch_list\u001b[0m\u001b[1;33m)\u001b[0m\u001b[1;33m:\u001b[0m\u001b[1;33m\u001b[0m\u001b[0m\n",
      "\u001b[1;31mKeyboardInterrupt\u001b[0m: "
     ]
    }
   ],
   "source": [
    "nn.optimizer.lr = 1e-7\n",
    "nn.fit([np.array(alias.npi) , np.array(alias.Product) , np.array(alias.specialty), np.array(alias.region), \n",
    "        np.array(alias.gender) , np.array(alias.settlement_type) , years_in , branded_in] ,\n",
    "        np.array(alias.Trx) , batch_size = 2048 , \n",
    "        epochs = 3, validation_split = 0.1 , shuffle = True)"
   ]
  },
  {
   "cell_type": "code",
   "execution_count": 58,
   "metadata": {},
   "outputs": [
    {
     "name": "stdout",
     "output_type": "stream",
     "text": [
      "Train on 1673793 samples, validate on 185978 samples\n",
      "Epoch 1/20\n",
      "1673793/1673793 [==============================] - 46s - loss: 9396.2540 - val_loss: 7733.1820\n",
      "Epoch 2/20\n",
      "1673793/1673793 [==============================] - 46s - loss: 8250.6043 - val_loss: 7641.2823\n",
      "Epoch 3/20\n",
      "1673793/1673793 [==============================] - 46s - loss: 7667.6172 - val_loss: 7560.7038\n",
      "Epoch 4/20\n",
      " 348160/1673793 [=====>........................] - ETA: 36s - loss: 7409.3559"
     ]
    },
    {
     "ename": "KeyboardInterrupt",
     "evalue": "",
     "output_type": "error",
     "traceback": [
      "\u001b[1;31m---------------------------------------------------------------------------\u001b[0m",
      "\u001b[1;31mKeyboardInterrupt\u001b[0m                         Traceback (most recent call last)",
      "\u001b[1;32m<ipython-input-58-0a37fe46460a>\u001b[0m in \u001b[0;36m<module>\u001b[1;34m()\u001b[0m\n\u001b[0;32m      3\u001b[0m         np.array(alias.gender) , np.array(alias.settlement_type) , years_in , branded_in] ,\n\u001b[0;32m      4\u001b[0m         \u001b[0mnp\u001b[0m\u001b[1;33m.\u001b[0m\u001b[0marray\u001b[0m\u001b[1;33m(\u001b[0m\u001b[0malias\u001b[0m\u001b[1;33m.\u001b[0m\u001b[0mTrx\u001b[0m\u001b[1;33m)\u001b[0m \u001b[1;33m,\u001b[0m \u001b[0mbatch_size\u001b[0m \u001b[1;33m=\u001b[0m \u001b[1;36m1024\u001b[0m \u001b[1;33m,\u001b[0m\u001b[1;33m\u001b[0m\u001b[0m\n\u001b[1;32m----> 5\u001b[1;33m         epochs = 20, validation_split = 0.1, shuffle = True)\n\u001b[0m",
      "\u001b[1;32mC:\\Users\\darsh\\AppData\\Local\\Continuum\\Anaconda3\\lib\\site-packages\\keras\\engine\\training.py\u001b[0m in \u001b[0;36mfit\u001b[1;34m(self, x, y, batch_size, epochs, verbose, callbacks, validation_split, validation_data, shuffle, class_weight, sample_weight, initial_epoch, steps_per_epoch, validation_steps, **kwargs)\u001b[0m\n\u001b[0;32m   1596\u001b[0m                               \u001b[0minitial_epoch\u001b[0m\u001b[1;33m=\u001b[0m\u001b[0minitial_epoch\u001b[0m\u001b[1;33m,\u001b[0m\u001b[1;33m\u001b[0m\u001b[0m\n\u001b[0;32m   1597\u001b[0m                               \u001b[0msteps_per_epoch\u001b[0m\u001b[1;33m=\u001b[0m\u001b[0msteps_per_epoch\u001b[0m\u001b[1;33m,\u001b[0m\u001b[1;33m\u001b[0m\u001b[0m\n\u001b[1;32m-> 1598\u001b[1;33m                               validation_steps=validation_steps)\n\u001b[0m\u001b[0;32m   1599\u001b[0m \u001b[1;33m\u001b[0m\u001b[0m\n\u001b[0;32m   1600\u001b[0m     def evaluate(self, x, y,\n",
      "\u001b[1;32mC:\\Users\\darsh\\AppData\\Local\\Continuum\\Anaconda3\\lib\\site-packages\\keras\\engine\\training.py\u001b[0m in \u001b[0;36m_fit_loop\u001b[1;34m(self, f, ins, out_labels, batch_size, epochs, verbose, callbacks, val_f, val_ins, shuffle, callback_metrics, initial_epoch, steps_per_epoch, validation_steps)\u001b[0m\n\u001b[0;32m   1181\u001b[0m                     \u001b[0mbatch_logs\u001b[0m\u001b[1;33m[\u001b[0m\u001b[1;34m'size'\u001b[0m\u001b[1;33m]\u001b[0m \u001b[1;33m=\u001b[0m \u001b[0mlen\u001b[0m\u001b[1;33m(\u001b[0m\u001b[0mbatch_ids\u001b[0m\u001b[1;33m)\u001b[0m\u001b[1;33m\u001b[0m\u001b[0m\n\u001b[0;32m   1182\u001b[0m                     \u001b[0mcallbacks\u001b[0m\u001b[1;33m.\u001b[0m\u001b[0mon_batch_begin\u001b[0m\u001b[1;33m(\u001b[0m\u001b[0mbatch_index\u001b[0m\u001b[1;33m,\u001b[0m \u001b[0mbatch_logs\u001b[0m\u001b[1;33m)\u001b[0m\u001b[1;33m\u001b[0m\u001b[0m\n\u001b[1;32m-> 1183\u001b[1;33m                     \u001b[0mouts\u001b[0m \u001b[1;33m=\u001b[0m \u001b[0mf\u001b[0m\u001b[1;33m(\u001b[0m\u001b[0mins_batch\u001b[0m\u001b[1;33m)\u001b[0m\u001b[1;33m\u001b[0m\u001b[0m\n\u001b[0m\u001b[0;32m   1184\u001b[0m                     \u001b[1;32mif\u001b[0m \u001b[1;32mnot\u001b[0m \u001b[0misinstance\u001b[0m\u001b[1;33m(\u001b[0m\u001b[0mouts\u001b[0m\u001b[1;33m,\u001b[0m \u001b[0mlist\u001b[0m\u001b[1;33m)\u001b[0m\u001b[1;33m:\u001b[0m\u001b[1;33m\u001b[0m\u001b[0m\n\u001b[0;32m   1185\u001b[0m                         \u001b[0mouts\u001b[0m \u001b[1;33m=\u001b[0m \u001b[1;33m[\u001b[0m\u001b[0mouts\u001b[0m\u001b[1;33m]\u001b[0m\u001b[1;33m\u001b[0m\u001b[0m\n",
      "\u001b[1;32mC:\\Users\\darsh\\AppData\\Local\\Continuum\\Anaconda3\\lib\\site-packages\\keras\\backend\\tensorflow_backend.py\u001b[0m in \u001b[0;36m__call__\u001b[1;34m(self, inputs)\u001b[0m\n\u001b[0;32m   2271\u001b[0m         updated = session.run(self.outputs + [self.updates_op],\n\u001b[0;32m   2272\u001b[0m                               \u001b[0mfeed_dict\u001b[0m\u001b[1;33m=\u001b[0m\u001b[0mfeed_dict\u001b[0m\u001b[1;33m,\u001b[0m\u001b[1;33m\u001b[0m\u001b[0m\n\u001b[1;32m-> 2273\u001b[1;33m                               **self.session_kwargs)\n\u001b[0m\u001b[0;32m   2274\u001b[0m         \u001b[1;32mreturn\u001b[0m \u001b[0mupdated\u001b[0m\u001b[1;33m[\u001b[0m\u001b[1;33m:\u001b[0m\u001b[0mlen\u001b[0m\u001b[1;33m(\u001b[0m\u001b[0mself\u001b[0m\u001b[1;33m.\u001b[0m\u001b[0moutputs\u001b[0m\u001b[1;33m)\u001b[0m\u001b[1;33m]\u001b[0m\u001b[1;33m\u001b[0m\u001b[0m\n\u001b[0;32m   2275\u001b[0m \u001b[1;33m\u001b[0m\u001b[0m\n",
      "\u001b[1;32mC:\\Users\\darsh\\AppData\\Local\\Continuum\\Anaconda3\\lib\\site-packages\\tensorflow\\python\\client\\session.py\u001b[0m in \u001b[0;36mrun\u001b[1;34m(self, fetches, feed_dict, options, run_metadata)\u001b[0m\n\u001b[0;32m    893\u001b[0m     \u001b[1;32mtry\u001b[0m\u001b[1;33m:\u001b[0m\u001b[1;33m\u001b[0m\u001b[0m\n\u001b[0;32m    894\u001b[0m       result = self._run(None, fetches, feed_dict, options_ptr,\n\u001b[1;32m--> 895\u001b[1;33m                          run_metadata_ptr)\n\u001b[0m\u001b[0;32m    896\u001b[0m       \u001b[1;32mif\u001b[0m \u001b[0mrun_metadata\u001b[0m\u001b[1;33m:\u001b[0m\u001b[1;33m\u001b[0m\u001b[0m\n\u001b[0;32m    897\u001b[0m         \u001b[0mproto_data\u001b[0m \u001b[1;33m=\u001b[0m \u001b[0mtf_session\u001b[0m\u001b[1;33m.\u001b[0m\u001b[0mTF_GetBuffer\u001b[0m\u001b[1;33m(\u001b[0m\u001b[0mrun_metadata_ptr\u001b[0m\u001b[1;33m)\u001b[0m\u001b[1;33m\u001b[0m\u001b[0m\n",
      "\u001b[1;32mC:\\Users\\darsh\\AppData\\Local\\Continuum\\Anaconda3\\lib\\site-packages\\tensorflow\\python\\client\\session.py\u001b[0m in \u001b[0;36m_run\u001b[1;34m(self, handle, fetches, feed_dict, options, run_metadata)\u001b[0m\n\u001b[0;32m   1122\u001b[0m     \u001b[1;32mif\u001b[0m \u001b[0mfinal_fetches\u001b[0m \u001b[1;32mor\u001b[0m \u001b[0mfinal_targets\u001b[0m \u001b[1;32mor\u001b[0m \u001b[1;33m(\u001b[0m\u001b[0mhandle\u001b[0m \u001b[1;32mand\u001b[0m \u001b[0mfeed_dict_tensor\u001b[0m\u001b[1;33m)\u001b[0m\u001b[1;33m:\u001b[0m\u001b[1;33m\u001b[0m\u001b[0m\n\u001b[0;32m   1123\u001b[0m       results = self._do_run(handle, final_targets, final_fetches,\n\u001b[1;32m-> 1124\u001b[1;33m                              feed_dict_tensor, options, run_metadata)\n\u001b[0m\u001b[0;32m   1125\u001b[0m     \u001b[1;32melse\u001b[0m\u001b[1;33m:\u001b[0m\u001b[1;33m\u001b[0m\u001b[0m\n\u001b[0;32m   1126\u001b[0m       \u001b[0mresults\u001b[0m \u001b[1;33m=\u001b[0m \u001b[1;33m[\u001b[0m\u001b[1;33m]\u001b[0m\u001b[1;33m\u001b[0m\u001b[0m\n",
      "\u001b[1;32mC:\\Users\\darsh\\AppData\\Local\\Continuum\\Anaconda3\\lib\\site-packages\\tensorflow\\python\\client\\session.py\u001b[0m in \u001b[0;36m_do_run\u001b[1;34m(self, handle, target_list, fetch_list, feed_dict, options, run_metadata)\u001b[0m\n\u001b[0;32m   1319\u001b[0m     \u001b[1;32mif\u001b[0m \u001b[0mhandle\u001b[0m \u001b[1;32mis\u001b[0m \u001b[1;32mNone\u001b[0m\u001b[1;33m:\u001b[0m\u001b[1;33m\u001b[0m\u001b[0m\n\u001b[0;32m   1320\u001b[0m       return self._do_call(_run_fn, self._session, feeds, fetches, targets,\n\u001b[1;32m-> 1321\u001b[1;33m                            options, run_metadata)\n\u001b[0m\u001b[0;32m   1322\u001b[0m     \u001b[1;32melse\u001b[0m\u001b[1;33m:\u001b[0m\u001b[1;33m\u001b[0m\u001b[0m\n\u001b[0;32m   1323\u001b[0m       \u001b[1;32mreturn\u001b[0m \u001b[0mself\u001b[0m\u001b[1;33m.\u001b[0m\u001b[0m_do_call\u001b[0m\u001b[1;33m(\u001b[0m\u001b[0m_prun_fn\u001b[0m\u001b[1;33m,\u001b[0m \u001b[0mself\u001b[0m\u001b[1;33m.\u001b[0m\u001b[0m_session\u001b[0m\u001b[1;33m,\u001b[0m \u001b[0mhandle\u001b[0m\u001b[1;33m,\u001b[0m \u001b[0mfeeds\u001b[0m\u001b[1;33m,\u001b[0m \u001b[0mfetches\u001b[0m\u001b[1;33m)\u001b[0m\u001b[1;33m\u001b[0m\u001b[0m\n",
      "\u001b[1;32mC:\\Users\\darsh\\AppData\\Local\\Continuum\\Anaconda3\\lib\\site-packages\\tensorflow\\python\\client\\session.py\u001b[0m in \u001b[0;36m_do_call\u001b[1;34m(self, fn, *args)\u001b[0m\n\u001b[0;32m   1325\u001b[0m   \u001b[1;32mdef\u001b[0m \u001b[0m_do_call\u001b[0m\u001b[1;33m(\u001b[0m\u001b[0mself\u001b[0m\u001b[1;33m,\u001b[0m \u001b[0mfn\u001b[0m\u001b[1;33m,\u001b[0m \u001b[1;33m*\u001b[0m\u001b[0margs\u001b[0m\u001b[1;33m)\u001b[0m\u001b[1;33m:\u001b[0m\u001b[1;33m\u001b[0m\u001b[0m\n\u001b[0;32m   1326\u001b[0m     \u001b[1;32mtry\u001b[0m\u001b[1;33m:\u001b[0m\u001b[1;33m\u001b[0m\u001b[0m\n\u001b[1;32m-> 1327\u001b[1;33m       \u001b[1;32mreturn\u001b[0m \u001b[0mfn\u001b[0m\u001b[1;33m(\u001b[0m\u001b[1;33m*\u001b[0m\u001b[0margs\u001b[0m\u001b[1;33m)\u001b[0m\u001b[1;33m\u001b[0m\u001b[0m\n\u001b[0m\u001b[0;32m   1328\u001b[0m     \u001b[1;32mexcept\u001b[0m \u001b[0merrors\u001b[0m\u001b[1;33m.\u001b[0m\u001b[0mOpError\u001b[0m \u001b[1;32mas\u001b[0m \u001b[0me\u001b[0m\u001b[1;33m:\u001b[0m\u001b[1;33m\u001b[0m\u001b[0m\n\u001b[0;32m   1329\u001b[0m       \u001b[0mmessage\u001b[0m \u001b[1;33m=\u001b[0m \u001b[0mcompat\u001b[0m\u001b[1;33m.\u001b[0m\u001b[0mas_text\u001b[0m\u001b[1;33m(\u001b[0m\u001b[0me\u001b[0m\u001b[1;33m.\u001b[0m\u001b[0mmessage\u001b[0m\u001b[1;33m)\u001b[0m\u001b[1;33m\u001b[0m\u001b[0m\n",
      "\u001b[1;32mC:\\Users\\darsh\\AppData\\Local\\Continuum\\Anaconda3\\lib\\site-packages\\tensorflow\\python\\client\\session.py\u001b[0m in \u001b[0;36m_run_fn\u001b[1;34m(session, feed_dict, fetch_list, target_list, options, run_metadata)\u001b[0m\n\u001b[0;32m   1304\u001b[0m           return tf_session.TF_Run(session, options,\n\u001b[0;32m   1305\u001b[0m                                    \u001b[0mfeed_dict\u001b[0m\u001b[1;33m,\u001b[0m \u001b[0mfetch_list\u001b[0m\u001b[1;33m,\u001b[0m \u001b[0mtarget_list\u001b[0m\u001b[1;33m,\u001b[0m\u001b[1;33m\u001b[0m\u001b[0m\n\u001b[1;32m-> 1306\u001b[1;33m                                    status, run_metadata)\n\u001b[0m\u001b[0;32m   1307\u001b[0m \u001b[1;33m\u001b[0m\u001b[0m\n\u001b[0;32m   1308\u001b[0m     \u001b[1;32mdef\u001b[0m \u001b[0m_prun_fn\u001b[0m\u001b[1;33m(\u001b[0m\u001b[0msession\u001b[0m\u001b[1;33m,\u001b[0m \u001b[0mhandle\u001b[0m\u001b[1;33m,\u001b[0m \u001b[0mfeed_dict\u001b[0m\u001b[1;33m,\u001b[0m \u001b[0mfetch_list\u001b[0m\u001b[1;33m)\u001b[0m\u001b[1;33m:\u001b[0m\u001b[1;33m\u001b[0m\u001b[0m\n",
      "\u001b[1;31mKeyboardInterrupt\u001b[0m: "
     ]
    }
   ],
   "source": [
    "nn.optimizer.lr = 1e-3\n",
    "nn.fit([np.array(alias.npi) , np.array(alias.Product) , np.array(alias.specialty), np.array(alias.region), \n",
    "        np.array(alias.gender) , np.array(alias.settlement_type) , years_in , branded_in] ,\n",
    "        np.array(alias.Trx) , batch_size = 1024 , \n",
    "        epochs = 20, validation_split = 0.1, shuffle = True)"
   ]
  },
  {
   "cell_type": "code",
   "execution_count": 30,
   "metadata": {},
   "outputs": [
    {
     "name": "stdout",
     "output_type": "stream",
     "text": [
      "Train on 1673793 samples, validate on 185978 samples\n",
      "Epoch 1/3\n",
      "1673793/1673793 [==============================] - 34s - loss: 8284.0753 - val_loss: 7953.0469\n",
      "Epoch 2/3\n",
      "1673793/1673793 [==============================] - 34s - loss: 8078.5684 - val_loss: 7821.0304\n",
      "Epoch 3/3\n",
      "1673793/1673793 [==============================] - 34s - loss: 7875.2772 - val_loss: 7800.7556\n"
     ]
    },
    {
     "data": {
      "text/plain": [
       "<keras.callbacks.History at 0x1dde78f9d68>"
      ]
     },
     "execution_count": 30,
     "metadata": {},
     "output_type": "execute_result"
    }
   ],
   "source": [
    "nn.optimizer.lr = 1e-2\n",
    "nn.fit([np.array(alias.npi) , np.array(alias.Product) , np.array(alias.specialty), np.array(alias.region), \n",
    "        np.array(alias.gender) , np.array(alias.settlement_type) , years_in , branded_in] ,\n",
    "        np.array(alias.Trx) , batch_size = 1024 , \n",
    "        epochs = 3, validation_split = 0.1, shuffle = True)"
   ]
  },
  {
   "cell_type": "code",
   "execution_count": 46,
   "metadata": {},
   "outputs": [
    {
     "name": "stdout",
     "output_type": "stream",
     "text": [
      "Train on 1673793 samples, validate on 185978 samples\n",
      "Epoch 1/1\n",
      "1673793/1673793 [==============================] - 342s - loss: 15310.8040 - val_loss: 11075.6446\n"
     ]
    },
    {
     "data": {
      "text/plain": [
       "<keras.callbacks.History at 0x1ca5c395c88>"
      ]
     },
     "execution_count": 46,
     "metadata": {},
     "output_type": "execute_result"
    }
   ],
   "source": [
    "nn.optimizer.lr = 1e-4\n",
    "nn.fit([np.array(alias.npi) , np.array(alias.Product) , np.array(alias.specialty), np.array(alias.region), \n",
    "        np.array(alias.gender) , np.array(alias.settlement_type) , years_in , branded_in] ,\n",
    "        np.array(alias.Trx) , batch_size = 128 , \n",
    "        epochs = 1, validation_split = 0.1 , shuffle = True)"
   ]
  },
  {
   "cell_type": "code",
   "execution_count": 81,
   "metadata": {},
   "outputs": [
    {
     "name": "stdout",
     "output_type": "stream",
     "text": [
      "Train on 1673793 samples, validate on 185978 samples\n",
      "Epoch 1/3\n",
      "1673793/1673793 [==============================] - 24s - loss: 15151.4703 - val_loss: 10958.6174\n",
      "Epoch 2/3\n",
      "1673793/1673793 [==============================] - 24s - loss: 15147.3135 - val_loss: 10955.8688\n",
      "Epoch 3/3\n",
      " 372736/1673793 [=====>........................] - ETA: 18s - loss: 15546.6891"
     ]
    },
    {
     "ename": "KeyboardInterrupt",
     "evalue": "",
     "output_type": "error",
     "traceback": [
      "\u001b[1;31m---------------------------------------------------------------------------\u001b[0m",
      "\u001b[1;31mKeyboardInterrupt\u001b[0m                         Traceback (most recent call last)",
      "\u001b[1;32m<ipython-input-81-254c848a9b04>\u001b[0m in \u001b[0;36m<module>\u001b[1;34m()\u001b[0m\n\u001b[0;32m      3\u001b[0m         np.array(alias.gender) , np.array(alias.settlement_type) , years_in , branded_in] ,\n\u001b[0;32m      4\u001b[0m         \u001b[0mnp\u001b[0m\u001b[1;33m.\u001b[0m\u001b[0marray\u001b[0m\u001b[1;33m(\u001b[0m\u001b[0malias\u001b[0m\u001b[1;33m.\u001b[0m\u001b[0mTrx\u001b[0m\u001b[1;33m)\u001b[0m \u001b[1;33m,\u001b[0m \u001b[0mbatch_size\u001b[0m \u001b[1;33m=\u001b[0m \u001b[1;36m1024\u001b[0m \u001b[1;33m,\u001b[0m\u001b[1;33m\u001b[0m\u001b[0m\n\u001b[1;32m----> 5\u001b[1;33m         epochs = 3, validation_split = 0.1 , shuffle = True)\n\u001b[0m\u001b[0;32m      6\u001b[0m \u001b[1;33m\u001b[0m\u001b[0m\n\u001b[0;32m      7\u001b[0m \u001b[0mnn\u001b[0m\u001b[1;33m.\u001b[0m\u001b[0moptimizer\u001b[0m\u001b[1;33m.\u001b[0m\u001b[0mlr\u001b[0m \u001b[1;33m=\u001b[0m \u001b[1;36m1e-4\u001b[0m\u001b[1;33m\u001b[0m\u001b[0m\n",
      "\u001b[1;32mC:\\Users\\darsh\\AppData\\Local\\Continuum\\Anaconda3\\lib\\site-packages\\keras\\engine\\training.py\u001b[0m in \u001b[0;36mfit\u001b[1;34m(self, x, y, batch_size, epochs, verbose, callbacks, validation_split, validation_data, shuffle, class_weight, sample_weight, initial_epoch, steps_per_epoch, validation_steps, **kwargs)\u001b[0m\n\u001b[0;32m   1596\u001b[0m                               \u001b[0minitial_epoch\u001b[0m\u001b[1;33m=\u001b[0m\u001b[0minitial_epoch\u001b[0m\u001b[1;33m,\u001b[0m\u001b[1;33m\u001b[0m\u001b[0m\n\u001b[0;32m   1597\u001b[0m                               \u001b[0msteps_per_epoch\u001b[0m\u001b[1;33m=\u001b[0m\u001b[0msteps_per_epoch\u001b[0m\u001b[1;33m,\u001b[0m\u001b[1;33m\u001b[0m\u001b[0m\n\u001b[1;32m-> 1598\u001b[1;33m                               validation_steps=validation_steps)\n\u001b[0m\u001b[0;32m   1599\u001b[0m \u001b[1;33m\u001b[0m\u001b[0m\n\u001b[0;32m   1600\u001b[0m     def evaluate(self, x, y,\n",
      "\u001b[1;32mC:\\Users\\darsh\\AppData\\Local\\Continuum\\Anaconda3\\lib\\site-packages\\keras\\engine\\training.py\u001b[0m in \u001b[0;36m_fit_loop\u001b[1;34m(self, f, ins, out_labels, batch_size, epochs, verbose, callbacks, val_f, val_ins, shuffle, callback_metrics, initial_epoch, steps_per_epoch, validation_steps)\u001b[0m\n\u001b[0;32m   1181\u001b[0m                     \u001b[0mbatch_logs\u001b[0m\u001b[1;33m[\u001b[0m\u001b[1;34m'size'\u001b[0m\u001b[1;33m]\u001b[0m \u001b[1;33m=\u001b[0m \u001b[0mlen\u001b[0m\u001b[1;33m(\u001b[0m\u001b[0mbatch_ids\u001b[0m\u001b[1;33m)\u001b[0m\u001b[1;33m\u001b[0m\u001b[0m\n\u001b[0;32m   1182\u001b[0m                     \u001b[0mcallbacks\u001b[0m\u001b[1;33m.\u001b[0m\u001b[0mon_batch_begin\u001b[0m\u001b[1;33m(\u001b[0m\u001b[0mbatch_index\u001b[0m\u001b[1;33m,\u001b[0m \u001b[0mbatch_logs\u001b[0m\u001b[1;33m)\u001b[0m\u001b[1;33m\u001b[0m\u001b[0m\n\u001b[1;32m-> 1183\u001b[1;33m                     \u001b[0mouts\u001b[0m \u001b[1;33m=\u001b[0m \u001b[0mf\u001b[0m\u001b[1;33m(\u001b[0m\u001b[0mins_batch\u001b[0m\u001b[1;33m)\u001b[0m\u001b[1;33m\u001b[0m\u001b[0m\n\u001b[0m\u001b[0;32m   1184\u001b[0m                     \u001b[1;32mif\u001b[0m \u001b[1;32mnot\u001b[0m \u001b[0misinstance\u001b[0m\u001b[1;33m(\u001b[0m\u001b[0mouts\u001b[0m\u001b[1;33m,\u001b[0m \u001b[0mlist\u001b[0m\u001b[1;33m)\u001b[0m\u001b[1;33m:\u001b[0m\u001b[1;33m\u001b[0m\u001b[0m\n\u001b[0;32m   1185\u001b[0m                         \u001b[0mouts\u001b[0m \u001b[1;33m=\u001b[0m \u001b[1;33m[\u001b[0m\u001b[0mouts\u001b[0m\u001b[1;33m]\u001b[0m\u001b[1;33m\u001b[0m\u001b[0m\n",
      "\u001b[1;32mC:\\Users\\darsh\\AppData\\Local\\Continuum\\Anaconda3\\lib\\site-packages\\keras\\backend\\tensorflow_backend.py\u001b[0m in \u001b[0;36m__call__\u001b[1;34m(self, inputs)\u001b[0m\n\u001b[0;32m   2271\u001b[0m         updated = session.run(self.outputs + [self.updates_op],\n\u001b[0;32m   2272\u001b[0m                               \u001b[0mfeed_dict\u001b[0m\u001b[1;33m=\u001b[0m\u001b[0mfeed_dict\u001b[0m\u001b[1;33m,\u001b[0m\u001b[1;33m\u001b[0m\u001b[0m\n\u001b[1;32m-> 2273\u001b[1;33m                               **self.session_kwargs)\n\u001b[0m\u001b[0;32m   2274\u001b[0m         \u001b[1;32mreturn\u001b[0m \u001b[0mupdated\u001b[0m\u001b[1;33m[\u001b[0m\u001b[1;33m:\u001b[0m\u001b[0mlen\u001b[0m\u001b[1;33m(\u001b[0m\u001b[0mself\u001b[0m\u001b[1;33m.\u001b[0m\u001b[0moutputs\u001b[0m\u001b[1;33m)\u001b[0m\u001b[1;33m]\u001b[0m\u001b[1;33m\u001b[0m\u001b[0m\n\u001b[0;32m   2275\u001b[0m \u001b[1;33m\u001b[0m\u001b[0m\n",
      "\u001b[1;32mC:\\Users\\darsh\\AppData\\Local\\Continuum\\Anaconda3\\lib\\site-packages\\tensorflow\\python\\client\\session.py\u001b[0m in \u001b[0;36mrun\u001b[1;34m(self, fetches, feed_dict, options, run_metadata)\u001b[0m\n\u001b[0;32m    893\u001b[0m     \u001b[1;32mtry\u001b[0m\u001b[1;33m:\u001b[0m\u001b[1;33m\u001b[0m\u001b[0m\n\u001b[0;32m    894\u001b[0m       result = self._run(None, fetches, feed_dict, options_ptr,\n\u001b[1;32m--> 895\u001b[1;33m                          run_metadata_ptr)\n\u001b[0m\u001b[0;32m    896\u001b[0m       \u001b[1;32mif\u001b[0m \u001b[0mrun_metadata\u001b[0m\u001b[1;33m:\u001b[0m\u001b[1;33m\u001b[0m\u001b[0m\n\u001b[0;32m    897\u001b[0m         \u001b[0mproto_data\u001b[0m \u001b[1;33m=\u001b[0m \u001b[0mtf_session\u001b[0m\u001b[1;33m.\u001b[0m\u001b[0mTF_GetBuffer\u001b[0m\u001b[1;33m(\u001b[0m\u001b[0mrun_metadata_ptr\u001b[0m\u001b[1;33m)\u001b[0m\u001b[1;33m\u001b[0m\u001b[0m\n",
      "\u001b[1;32mC:\\Users\\darsh\\AppData\\Local\\Continuum\\Anaconda3\\lib\\site-packages\\tensorflow\\python\\client\\session.py\u001b[0m in \u001b[0;36m_run\u001b[1;34m(self, handle, fetches, feed_dict, options, run_metadata)\u001b[0m\n\u001b[0;32m   1122\u001b[0m     \u001b[1;32mif\u001b[0m \u001b[0mfinal_fetches\u001b[0m \u001b[1;32mor\u001b[0m \u001b[0mfinal_targets\u001b[0m \u001b[1;32mor\u001b[0m \u001b[1;33m(\u001b[0m\u001b[0mhandle\u001b[0m \u001b[1;32mand\u001b[0m \u001b[0mfeed_dict_tensor\u001b[0m\u001b[1;33m)\u001b[0m\u001b[1;33m:\u001b[0m\u001b[1;33m\u001b[0m\u001b[0m\n\u001b[0;32m   1123\u001b[0m       results = self._do_run(handle, final_targets, final_fetches,\n\u001b[1;32m-> 1124\u001b[1;33m                              feed_dict_tensor, options, run_metadata)\n\u001b[0m\u001b[0;32m   1125\u001b[0m     \u001b[1;32melse\u001b[0m\u001b[1;33m:\u001b[0m\u001b[1;33m\u001b[0m\u001b[0m\n\u001b[0;32m   1126\u001b[0m       \u001b[0mresults\u001b[0m \u001b[1;33m=\u001b[0m \u001b[1;33m[\u001b[0m\u001b[1;33m]\u001b[0m\u001b[1;33m\u001b[0m\u001b[0m\n",
      "\u001b[1;32mC:\\Users\\darsh\\AppData\\Local\\Continuum\\Anaconda3\\lib\\site-packages\\tensorflow\\python\\client\\session.py\u001b[0m in \u001b[0;36m_do_run\u001b[1;34m(self, handle, target_list, fetch_list, feed_dict, options, run_metadata)\u001b[0m\n\u001b[0;32m   1319\u001b[0m     \u001b[1;32mif\u001b[0m \u001b[0mhandle\u001b[0m \u001b[1;32mis\u001b[0m \u001b[1;32mNone\u001b[0m\u001b[1;33m:\u001b[0m\u001b[1;33m\u001b[0m\u001b[0m\n\u001b[0;32m   1320\u001b[0m       return self._do_call(_run_fn, self._session, feeds, fetches, targets,\n\u001b[1;32m-> 1321\u001b[1;33m                            options, run_metadata)\n\u001b[0m\u001b[0;32m   1322\u001b[0m     \u001b[1;32melse\u001b[0m\u001b[1;33m:\u001b[0m\u001b[1;33m\u001b[0m\u001b[0m\n\u001b[0;32m   1323\u001b[0m       \u001b[1;32mreturn\u001b[0m \u001b[0mself\u001b[0m\u001b[1;33m.\u001b[0m\u001b[0m_do_call\u001b[0m\u001b[1;33m(\u001b[0m\u001b[0m_prun_fn\u001b[0m\u001b[1;33m,\u001b[0m \u001b[0mself\u001b[0m\u001b[1;33m.\u001b[0m\u001b[0m_session\u001b[0m\u001b[1;33m,\u001b[0m \u001b[0mhandle\u001b[0m\u001b[1;33m,\u001b[0m \u001b[0mfeeds\u001b[0m\u001b[1;33m,\u001b[0m \u001b[0mfetches\u001b[0m\u001b[1;33m)\u001b[0m\u001b[1;33m\u001b[0m\u001b[0m\n",
      "\u001b[1;32mC:\\Users\\darsh\\AppData\\Local\\Continuum\\Anaconda3\\lib\\site-packages\\tensorflow\\python\\client\\session.py\u001b[0m in \u001b[0;36m_do_call\u001b[1;34m(self, fn, *args)\u001b[0m\n\u001b[0;32m   1325\u001b[0m   \u001b[1;32mdef\u001b[0m \u001b[0m_do_call\u001b[0m\u001b[1;33m(\u001b[0m\u001b[0mself\u001b[0m\u001b[1;33m,\u001b[0m \u001b[0mfn\u001b[0m\u001b[1;33m,\u001b[0m \u001b[1;33m*\u001b[0m\u001b[0margs\u001b[0m\u001b[1;33m)\u001b[0m\u001b[1;33m:\u001b[0m\u001b[1;33m\u001b[0m\u001b[0m\n\u001b[0;32m   1326\u001b[0m     \u001b[1;32mtry\u001b[0m\u001b[1;33m:\u001b[0m\u001b[1;33m\u001b[0m\u001b[0m\n\u001b[1;32m-> 1327\u001b[1;33m       \u001b[1;32mreturn\u001b[0m \u001b[0mfn\u001b[0m\u001b[1;33m(\u001b[0m\u001b[1;33m*\u001b[0m\u001b[0margs\u001b[0m\u001b[1;33m)\u001b[0m\u001b[1;33m\u001b[0m\u001b[0m\n\u001b[0m\u001b[0;32m   1328\u001b[0m     \u001b[1;32mexcept\u001b[0m \u001b[0merrors\u001b[0m\u001b[1;33m.\u001b[0m\u001b[0mOpError\u001b[0m \u001b[1;32mas\u001b[0m \u001b[0me\u001b[0m\u001b[1;33m:\u001b[0m\u001b[1;33m\u001b[0m\u001b[0m\n\u001b[0;32m   1329\u001b[0m       \u001b[0mmessage\u001b[0m \u001b[1;33m=\u001b[0m \u001b[0mcompat\u001b[0m\u001b[1;33m.\u001b[0m\u001b[0mas_text\u001b[0m\u001b[1;33m(\u001b[0m\u001b[0me\u001b[0m\u001b[1;33m.\u001b[0m\u001b[0mmessage\u001b[0m\u001b[1;33m)\u001b[0m\u001b[1;33m\u001b[0m\u001b[0m\n",
      "\u001b[1;32mC:\\Users\\darsh\\AppData\\Local\\Continuum\\Anaconda3\\lib\\site-packages\\tensorflow\\python\\client\\session.py\u001b[0m in \u001b[0;36m_run_fn\u001b[1;34m(session, feed_dict, fetch_list, target_list, options, run_metadata)\u001b[0m\n\u001b[0;32m   1304\u001b[0m           return tf_session.TF_Run(session, options,\n\u001b[0;32m   1305\u001b[0m                                    \u001b[0mfeed_dict\u001b[0m\u001b[1;33m,\u001b[0m \u001b[0mfetch_list\u001b[0m\u001b[1;33m,\u001b[0m \u001b[0mtarget_list\u001b[0m\u001b[1;33m,\u001b[0m\u001b[1;33m\u001b[0m\u001b[0m\n\u001b[1;32m-> 1306\u001b[1;33m                                    status, run_metadata)\n\u001b[0m\u001b[0;32m   1307\u001b[0m \u001b[1;33m\u001b[0m\u001b[0m\n\u001b[0;32m   1308\u001b[0m     \u001b[1;32mdef\u001b[0m \u001b[0m_prun_fn\u001b[0m\u001b[1;33m(\u001b[0m\u001b[0msession\u001b[0m\u001b[1;33m,\u001b[0m \u001b[0mhandle\u001b[0m\u001b[1;33m,\u001b[0m \u001b[0mfeed_dict\u001b[0m\u001b[1;33m,\u001b[0m \u001b[0mfetch_list\u001b[0m\u001b[1;33m)\u001b[0m\u001b[1;33m:\u001b[0m\u001b[1;33m\u001b[0m\u001b[0m\n",
      "\u001b[1;31mKeyboardInterrupt\u001b[0m: "
     ]
    }
   ],
   "source": [
    "nn.optimizer.lr = 1e-4\n",
    "nn.fit([np.array(alias.npi) , np.array(alias.Product) , np.array(alias.specialty), np.array(alias.region), \n",
    "        np.array(alias.gender) , np.array(alias.settlement_type) , years_in , branded_in] ,\n",
    "        np.array(alias.Trx) , batch_size = 1024 , \n",
    "        epochs = 3, validation_split = 0.1 , shuffle = True)\n",
    "\n",
    "nn.optimizer.lr = 1e-4\n",
    "nn.fit([np.array(alias.npi) , np.array(alias.Product) , np.array(alias.specialty), np.array(alias.region), \n",
    "        np.array(alias.gender) , np.array(alias.settlement_type) , years_in , branded_in] ,\n",
    "        np.array(alias.Trx) , batch_size = 1024 , \n",
    "        epochs = 3, validation_split = 0.1 , shuffle = True)"
   ]
  },
  {
   "cell_type": "code",
   "execution_count": 376,
   "metadata": {},
   "outputs": [
    {
     "name": "stdout",
     "output_type": "stream",
     "text": [
      "Train on 1673793 samples, validate on 185978 samples\n",
      "Epoch 1/10\n",
      "1673793/1673793 [==============================] - 30s - loss: 1.2841 - val_loss: 0.4371\n",
      "Epoch 2/10\n",
      "1673793/1673793 [==============================] - 30s - loss: 1.1759 - val_loss: 0.3793\n",
      "Epoch 3/10\n",
      "1673793/1673793 [==============================] - 30s - loss: 1.0803 - val_loss: 0.3268\n",
      "Epoch 4/10\n",
      "1673793/1673793 [==============================] - 30s - loss: 0.9891 - val_loss: 0.2830\n",
      "Epoch 5/10\n",
      "1673793/1673793 [==============================] - 30s - loss: 0.9070 - val_loss: 0.2429\n",
      "Epoch 6/10\n",
      "1673793/1673793 [==============================] - 30s - loss: 0.8317 - val_loss: 0.2082\n",
      "Epoch 7/10\n",
      "1673793/1673793 [==============================] - 30s - loss: 0.7632 - val_loss: 0.1781\n",
      "Epoch 8/10\n",
      "1673793/1673793 [==============================] - 30s - loss: 0.7001 - val_loss: 0.1524\n",
      "Epoch 9/10\n",
      "1673793/1673793 [==============================] - 30s - loss: 0.6418 - val_loss: 0.1302\n",
      "Epoch 10/10\n",
      "1673793/1673793 [==============================] - 30s - loss: 0.5876 - val_loss: 0.1118\n"
     ]
    },
    {
     "data": {
      "text/plain": [
       "<keras.callbacks.History at 0x277c5581b70>"
      ]
     },
     "execution_count": 376,
     "metadata": {},
     "output_type": "execute_result"
    }
   ],
   "source": [
    "nn.optimizer.lr = 1e-3\n",
    "nn.fit([np.array(alias.npi) , np.array(alias.Product) , np.array(alias.specialty), np.array(alias.region), \n",
    "        np.array(alias.gender) , np.array(alias.settlement_type) , years_in , branded_in] ,\n",
    "        np.array(alias.Trx) , batch_size = 1024 , \n",
    "        epochs = 10, validation_split = 0.1)"
   ]
  },
  {
   "cell_type": "code",
   "execution_count": 377,
   "metadata": {},
   "outputs": [
    {
     "name": "stdout",
     "output_type": "stream",
     "text": [
      "Train on 1673793 samples, validate on 185978 samples\n",
      "Epoch 1/5\n",
      "1673793/1673793 [==============================] - 59s - loss: 0.5193 - val_loss: 0.0847\n",
      "Epoch 2/5\n",
      "1673793/1673793 [==============================] - 59s - loss: 0.4410 - val_loss: 0.0653\n",
      "Epoch 3/5\n",
      "1673793/1673793 [==============================] - 58s - loss: 0.3729 - val_loss: 0.0518\n",
      "Epoch 4/5\n",
      "1673793/1673793 [==============================] - 58s - loss: 0.3150 - val_loss: 0.0428\n",
      "Epoch 5/5\n",
      "1673793/1673793 [==============================] - 58s - loss: 0.2648 - val_loss: 0.0366\n"
     ]
    },
    {
     "data": {
      "text/plain": [
       "<keras.callbacks.History at 0x277caa4a630>"
      ]
     },
     "execution_count": 377,
     "metadata": {},
     "output_type": "execute_result"
    }
   ],
   "source": [
    "nn.optimizer.lr = 1e-3\n",
    "nn.fit([np.array(alias.npi) , np.array(alias.Product) , np.array(alias.specialty), np.array(alias.region), \n",
    "        np.array(alias.gender) , np.array(alias.settlement_type) , years_in , branded_in] ,\n",
    "        np.array(alias.Trx) , batch_size = 512 , \n",
    "        epochs = 5, validation_split = 0.1)"
   ]
  },
  {
   "cell_type": "code",
   "execution_count": 378,
   "metadata": {},
   "outputs": [
    {
     "name": "stdout",
     "output_type": "stream",
     "text": [
      "Train on 1673793 samples, validate on 185978 samples\n",
      "Epoch 1/2\n",
      "1673793/1673793 [==============================] - 59s - loss: 0.2227 - val_loss: 0.0326\n",
      "Epoch 2/2\n",
      "1673793/1673793 [==============================] - 58s - loss: 0.1863 - val_loss: 0.0301\n"
     ]
    },
    {
     "data": {
      "text/plain": [
       "<keras.callbacks.History at 0x277c104cba8>"
      ]
     },
     "execution_count": 378,
     "metadata": {},
     "output_type": "execute_result"
    }
   ],
   "source": [
    "nn.optimizer.lr = 1e-4\n",
    "nn.fit([np.array(alias.npi) , np.array(alias.Product) , np.array(alias.specialty), np.array(alias.region), \n",
    "        np.array(alias.gender) , np.array(alias.settlement_type) , years_in , branded_in] ,\n",
    "        np.array(alias.Trx) , batch_size = 512 , \n",
    "        epochs = 2, validation_split = 0.1)"
   ]
  },
  {
   "cell_type": "code",
   "execution_count": 379,
   "metadata": {},
   "outputs": [
    {
     "name": "stdout",
     "output_type": "stream",
     "text": [
      "Train on 1673793 samples, validate on 185978 samples\n",
      "Epoch 1/2\n",
      "1673793/1673793 [==============================] - 58s - loss: 0.1563 - val_loss: 0.0288\n",
      "Epoch 2/2\n",
      "1673793/1673793 [==============================] - 59s - loss: 0.1309 - val_loss: 0.0280\n"
     ]
    },
    {
     "data": {
      "text/plain": [
       "<keras.callbacks.History at 0x277cab1c978>"
      ]
     },
     "execution_count": 379,
     "metadata": {},
     "output_type": "execute_result"
    }
   ],
   "source": [
    "nn.optimizer.lr = 1e-5\n",
    "nn.fit([np.array(alias.npi) , np.array(alias.Product) , np.array(alias.specialty), np.array(alias.region), \n",
    "        np.array(alias.gender) , np.array(alias.settlement_type) , years_in , branded_in] ,\n",
    "        np.array(alias.Trx) , batch_size = 512 , \n",
    "        epochs = 2, validation_split = 0.1)"
   ]
  },
  {
   "cell_type": "code",
   "execution_count": 380,
   "metadata": {},
   "outputs": [
    {
     "name": "stdout",
     "output_type": "stream",
     "text": [
      "Train on 1673793 samples, validate on 185978 samples\n",
      "Epoch 1/2\n",
      "1673793/1673793 [==============================] - 30s - loss: 0.1137 - val_loss: 0.0277\n",
      "Epoch 2/2\n",
      "1673793/1673793 [==============================] - 30s - loss: 0.1036 - val_loss: 0.0275\n"
     ]
    },
    {
     "data": {
      "text/plain": [
       "<keras.callbacks.History at 0x277c0ef6630>"
      ]
     },
     "execution_count": 380,
     "metadata": {},
     "output_type": "execute_result"
    }
   ],
   "source": [
    "nn.optimizer.lr = 1e-5\n",
    "nn.fit([np.array(alias.npi) , np.array(alias.Product) , np.array(alias.specialty), np.array(alias.region), \n",
    "        np.array(alias.gender) , np.array(alias.settlement_type) , years_in , branded_in] ,\n",
    "        np.array(alias.Trx) , batch_size = 1024 , \n",
    "        epochs = 2, validation_split = 0.1)"
   ]
  },
  {
   "cell_type": "code",
   "execution_count": 381,
   "metadata": {},
   "outputs": [
    {
     "name": "stdout",
     "output_type": "stream",
     "text": [
      "Train on 1673793 samples, validate on 185978 samples\n",
      "Epoch 1/2\n",
      "1673793/1673793 [==============================] - 30s - loss: 0.0946 - val_loss: 0.0274\n",
      "Epoch 2/2\n",
      "1673793/1673793 [==============================] - 30s - loss: 0.0862 - val_loss: 0.0273\n"
     ]
    },
    {
     "data": {
      "text/plain": [
       "<keras.callbacks.History at 0x277bf792390>"
      ]
     },
     "execution_count": 381,
     "metadata": {},
     "output_type": "execute_result"
    }
   ],
   "source": [
    "nn.optimizer.lr = 1e-6\n",
    "nn.fit([np.array(alias.npi) , np.array(alias.Product) , np.array(alias.specialty), np.array(alias.region), \n",
    "        np.array(alias.gender) , np.array(alias.settlement_type) , years_in , branded_in] ,\n",
    "        np.array(alias.Trx) , batch_size = 1024 , \n",
    "        epochs = 2, validation_split = 0.1)"
   ]
  },
  {
   "cell_type": "code",
   "execution_count": 382,
   "metadata": {},
   "outputs": [
    {
     "name": "stdout",
     "output_type": "stream",
     "text": [
      "Train on 1673793 samples, validate on 185978 samples\n",
      "Epoch 1/6\n",
      "1673793/1673793 [==============================] - 30s - loss: 0.0785 - val_loss: 0.0272\n",
      "Epoch 2/6\n",
      "1673793/1673793 [==============================] - 30s - loss: 0.0720 - val_loss: 0.0272\n",
      "Epoch 3/6\n",
      "1673793/1673793 [==============================] - 30s - loss: 0.0663 - val_loss: 0.0272\n",
      "Epoch 4/6\n",
      "1673793/1673793 [==============================] - 30s - loss: 0.0611 - val_loss: 0.0272\n",
      "Epoch 5/6\n",
      "1673793/1673793 [==============================] - 30s - loss: 0.0563 - val_loss: 0.0271\n",
      "Epoch 6/6\n",
      "1673793/1673793 [==============================] - 30s - loss: 0.0525 - val_loss: 0.0271\n"
     ]
    },
    {
     "data": {
      "text/plain": [
       "<keras.callbacks.History at 0x277c4a4def0>"
      ]
     },
     "execution_count": 382,
     "metadata": {},
     "output_type": "execute_result"
    }
   ],
   "source": [
    "nn.optimizer.lr = 1e-6\n",
    "nn.fit([np.array(alias.npi) , np.array(alias.Product) , np.array(alias.specialty), np.array(alias.region), \n",
    "        np.array(alias.gender) , np.array(alias.settlement_type) , years_in , branded_in] ,\n",
    "        np.array(alias.Trx) , batch_size = 1024 , \n",
    "        epochs = 6, validation_split = 0.1)"
   ]
  },
  {
   "cell_type": "code",
   "execution_count": 384,
   "metadata": {},
   "outputs": [
    {
     "name": "stdout",
     "output_type": "stream",
     "text": [
      "Train on 1673793 samples, validate on 185978 samples\n",
      "Epoch 1/2\n",
      "1673793/1673793 [==============================] - 30s - loss: 0.0459 - val_loss: 0.0271\n",
      "Epoch 2/2\n",
      "1673793/1673793 [==============================] - 30s - loss: 0.0434 - val_loss: 0.0271\n"
     ]
    },
    {
     "data": {
      "text/plain": [
       "<keras.callbacks.History at 0x277bf779b38>"
      ]
     },
     "execution_count": 384,
     "metadata": {},
     "output_type": "execute_result"
    }
   ],
   "source": [
    "nn.optimizer.lr = 1e-7\n",
    "nn.fit([np.array(alias.npi) , np.array(alias.Product) , np.array(alias.specialty), np.array(alias.region), \n",
    "        np.array(alias.gender) , np.array(alias.settlement_type) , years_in , branded_in] ,\n",
    "        np.array(alias.Trx) , batch_size = 1024 , \n",
    "        epochs = 2, validation_split = 0.1, shuffle = True)"
   ]
  },
  {
   "cell_type": "markdown",
   "metadata": {},
   "source": [
    "## Saving Embeddings"
   ]
  },
  {
   "cell_type": "code",
   "execution_count": 467,
   "metadata": {
    "collapsed": true
   },
   "outputs": [],
   "source": [
    "b  = nn.layers[6].get_weights()"
   ]
  },
  {
   "cell_type": "code",
   "execution_count": 468,
   "metadata": {
    "collapsed": true
   },
   "outputs": [],
   "source": [
    "b =  pd.DataFrame(np.array([x for x in b])[0])"
   ]
  },
  {
   "cell_type": "code",
   "execution_count": 471,
   "metadata": {
    "collapsed": true
   },
   "outputs": [],
   "source": [
    "b.to_csv(\"npi_embedding.csv\")"
   ]
  },
  {
   "cell_type": "code",
   "execution_count": 472,
   "metadata": {},
   "outputs": [
    {
     "name": "stdout",
     "output_type": "stream",
     "text": [
      "(218, 15)\n"
     ]
    }
   ],
   "source": [
    "a = nn.layers[7].get_weights()\n",
    "a = pd.DataFrame(np.array([x for x in a])[0])\n",
    "print(a.shape)"
   ]
  },
  {
   "cell_type": "code",
   "execution_count": 473,
   "metadata": {
    "collapsed": true
   },
   "outputs": [],
   "source": [
    "a.to_csv(\"product_embedding.csv\")"
   ]
  },
  {
   "cell_type": "code",
   "execution_count": 474,
   "metadata": {},
   "outputs": [
    {
     "name": "stdout",
     "output_type": "stream",
     "text": [
      "(16, 5)\n"
     ]
    }
   ],
   "source": [
    "c = nn.layers[8].get_weights()\n",
    "c = pd.DataFrame(np.array([x for x in c])[0])\n",
    "print(c.shape)"
   ]
  },
  {
   "cell_type": "code",
   "execution_count": 475,
   "metadata": {
    "collapsed": true
   },
   "outputs": [],
   "source": [
    "c.to_csv(\"speialty_embedding.csv\")"
   ]
  },
  {
   "cell_type": "markdown",
   "metadata": {},
   "source": [
    "# Analyzing Specialty embedding"
   ]
  },
  {
   "cell_type": "code",
   "execution_count": 490,
   "metadata": {},
   "outputs": [
    {
     "name": "stdout",
     "output_type": "stream",
     "text": [
      "dict_keys(['Nephrology', 'Psychiatry', 'Psych/Mental Health', 'Pulmonary Disease', 'Geriatric Medicine', 'Neurology', 'Family', 'Cardiovascular Disease', 'Adult Health', 'Infectious Disease', 'Medical', 'Endocrinology, Diabetes & Metabolism', 'Rheumatology', 'Gastroenterology', 'Hematology & Oncology', 'Interventional Cardiology'])\n",
      "dict_values([0, 1, 2, 3, 4, 5, 6, 7, 8, 9, 10, 11, 12, 13, 14, 15])\n"
     ]
    }
   ],
   "source": [
    "print(SpecialtyToId.keys())\n",
    "print(SpecialtyToId.values())"
   ]
  },
  {
   "cell_type": "code",
   "execution_count": 496,
   "metadata": {
    "collapsed": true
   },
   "outputs": [],
   "source": [
    "from sklearn.metrics.pairwise import cosine_similarity"
   ]
  },
  {
   "cell_type": "code",
   "execution_count": 498,
   "metadata": {},
   "outputs": [
    {
     "data": {
      "text/html": [
       "<div>\n",
       "<style>\n",
       "    .dataframe thead tr:only-child th {\n",
       "        text-align: right;\n",
       "    }\n",
       "\n",
       "    .dataframe thead th {\n",
       "        text-align: left;\n",
       "    }\n",
       "\n",
       "    .dataframe tbody tr th {\n",
       "        vertical-align: top;\n",
       "    }\n",
       "</style>\n",
       "<table border=\"1\" class=\"dataframe\">\n",
       "  <thead>\n",
       "    <tr style=\"text-align: right;\">\n",
       "      <th></th>\n",
       "      <th>0</th>\n",
       "      <th>1</th>\n",
       "      <th>2</th>\n",
       "      <th>3</th>\n",
       "      <th>4</th>\n",
       "    </tr>\n",
       "  </thead>\n",
       "  <tbody>\n",
       "    <tr>\n",
       "      <th>0</th>\n",
       "      <td>-0.023952</td>\n",
       "      <td>0.032465</td>\n",
       "      <td>-0.034620</td>\n",
       "      <td>-0.036238</td>\n",
       "      <td>0.025871</td>\n",
       "    </tr>\n",
       "    <tr>\n",
       "      <th>1</th>\n",
       "      <td>0.011096</td>\n",
       "      <td>0.013319</td>\n",
       "      <td>-0.029968</td>\n",
       "      <td>0.005135</td>\n",
       "      <td>-0.014974</td>\n",
       "    </tr>\n",
       "    <tr>\n",
       "      <th>2</th>\n",
       "      <td>0.001650</td>\n",
       "      <td>-0.015646</td>\n",
       "      <td>0.028797</td>\n",
       "      <td>0.034755</td>\n",
       "      <td>-0.010728</td>\n",
       "    </tr>\n",
       "    <tr>\n",
       "      <th>3</th>\n",
       "      <td>-0.007587</td>\n",
       "      <td>-0.034948</td>\n",
       "      <td>-0.030497</td>\n",
       "      <td>-0.031439</td>\n",
       "      <td>0.029648</td>\n",
       "    </tr>\n",
       "    <tr>\n",
       "      <th>4</th>\n",
       "      <td>0.004806</td>\n",
       "      <td>-0.031026</td>\n",
       "      <td>0.012698</td>\n",
       "      <td>0.021837</td>\n",
       "      <td>-0.036891</td>\n",
       "    </tr>\n",
       "    <tr>\n",
       "      <th>5</th>\n",
       "      <td>-0.026934</td>\n",
       "      <td>0.016364</td>\n",
       "      <td>0.023535</td>\n",
       "      <td>-0.006171</td>\n",
       "      <td>-0.024633</td>\n",
       "    </tr>\n",
       "    <tr>\n",
       "      <th>6</th>\n",
       "      <td>-0.001632</td>\n",
       "      <td>-0.038127</td>\n",
       "      <td>-0.024304</td>\n",
       "      <td>-0.002730</td>\n",
       "      <td>-0.010987</td>\n",
       "    </tr>\n",
       "    <tr>\n",
       "      <th>7</th>\n",
       "      <td>0.006493</td>\n",
       "      <td>0.029331</td>\n",
       "      <td>-0.003259</td>\n",
       "      <td>0.014840</td>\n",
       "      <td>-0.042875</td>\n",
       "    </tr>\n",
       "    <tr>\n",
       "      <th>8</th>\n",
       "      <td>0.011975</td>\n",
       "      <td>0.013624</td>\n",
       "      <td>0.026671</td>\n",
       "      <td>0.018572</td>\n",
       "      <td>-0.041152</td>\n",
       "    </tr>\n",
       "    <tr>\n",
       "      <th>9</th>\n",
       "      <td>-0.007781</td>\n",
       "      <td>-0.006645</td>\n",
       "      <td>-0.010851</td>\n",
       "      <td>0.016471</td>\n",
       "      <td>0.013837</td>\n",
       "    </tr>\n",
       "    <tr>\n",
       "      <th>10</th>\n",
       "      <td>0.023971</td>\n",
       "      <td>-0.036484</td>\n",
       "      <td>0.018687</td>\n",
       "      <td>0.022914</td>\n",
       "      <td>-0.031499</td>\n",
       "    </tr>\n",
       "    <tr>\n",
       "      <th>11</th>\n",
       "      <td>0.008478</td>\n",
       "      <td>0.029119</td>\n",
       "      <td>-0.051926</td>\n",
       "      <td>-0.055007</td>\n",
       "      <td>-0.021079</td>\n",
       "    </tr>\n",
       "    <tr>\n",
       "      <th>12</th>\n",
       "      <td>-0.000978</td>\n",
       "      <td>0.031682</td>\n",
       "      <td>-0.003312</td>\n",
       "      <td>0.026359</td>\n",
       "      <td>-0.031782</td>\n",
       "    </tr>\n",
       "    <tr>\n",
       "      <th>13</th>\n",
       "      <td>-0.023768</td>\n",
       "      <td>-0.044357</td>\n",
       "      <td>0.034284</td>\n",
       "      <td>-0.022287</td>\n",
       "      <td>-0.024593</td>\n",
       "    </tr>\n",
       "    <tr>\n",
       "      <th>14</th>\n",
       "      <td>-0.038757</td>\n",
       "      <td>-0.003309</td>\n",
       "      <td>-0.050560</td>\n",
       "      <td>-0.025671</td>\n",
       "      <td>-0.036594</td>\n",
       "    </tr>\n",
       "    <tr>\n",
       "      <th>15</th>\n",
       "      <td>-0.017629</td>\n",
       "      <td>0.021632</td>\n",
       "      <td>0.014662</td>\n",
       "      <td>0.031803</td>\n",
       "      <td>0.010495</td>\n",
       "    </tr>\n",
       "  </tbody>\n",
       "</table>\n",
       "</div>"
      ],
      "text/plain": [
       "           0         1         2         3         4\n",
       "0  -0.023952  0.032465 -0.034620 -0.036238  0.025871\n",
       "1   0.011096  0.013319 -0.029968  0.005135 -0.014974\n",
       "2   0.001650 -0.015646  0.028797  0.034755 -0.010728\n",
       "3  -0.007587 -0.034948 -0.030497 -0.031439  0.029648\n",
       "4   0.004806 -0.031026  0.012698  0.021837 -0.036891\n",
       "5  -0.026934  0.016364  0.023535 -0.006171 -0.024633\n",
       "6  -0.001632 -0.038127 -0.024304 -0.002730 -0.010987\n",
       "7   0.006493  0.029331 -0.003259  0.014840 -0.042875\n",
       "8   0.011975  0.013624  0.026671  0.018572 -0.041152\n",
       "9  -0.007781 -0.006645 -0.010851  0.016471  0.013837\n",
       "10  0.023971 -0.036484  0.018687  0.022914 -0.031499\n",
       "11  0.008478  0.029119 -0.051926 -0.055007 -0.021079\n",
       "12 -0.000978  0.031682 -0.003312  0.026359 -0.031782\n",
       "13 -0.023768 -0.044357  0.034284 -0.022287 -0.024593\n",
       "14 -0.038757 -0.003309 -0.050560 -0.025671 -0.036594\n",
       "15 -0.017629  0.021632  0.014662  0.031803  0.010495"
      ]
     },
     "execution_count": 498,
     "metadata": {},
     "output_type": "execute_result"
    }
   ],
   "source": [
    "c"
   ]
  },
  {
   "cell_type": "code",
   "execution_count": 501,
   "metadata": {
    "collapsed": true
   },
   "outputs": [],
   "source": [
    "co = cosine_similarity(c,c , dense_output= True)"
   ]
  },
  {
   "cell_type": "code",
   "execution_count": 527,
   "metadata": {},
   "outputs": [
    {
     "data": {
      "text/plain": [
       "{'Adult Health': 8,\n",
       " 'Cardiovascular Disease': 7,\n",
       " 'Endocrinology, Diabetes & Metabolism': 11,\n",
       " 'Family': 6,\n",
       " 'Gastroenterology': 13,\n",
       " 'Geriatric Medicine': 4,\n",
       " 'Hematology & Oncology': 14,\n",
       " 'Infectious Disease': 9,\n",
       " 'Interventional Cardiology': 15,\n",
       " 'Medical': 10,\n",
       " 'Nephrology': 0,\n",
       " 'Neurology': 5,\n",
       " 'Psych/Mental Health': 2,\n",
       " 'Psychiatry': 1,\n",
       " 'Pulmonary Disease': 3,\n",
       " 'Rheumatology': 12}"
      ]
     },
     "execution_count": 527,
     "metadata": {},
     "output_type": "execute_result"
    }
   ],
   "source": [
    "SpecialtyToId"
   ]
  },
  {
   "cell_type": "code",
   "execution_count": 526,
   "metadata": {},
   "outputs": [
    {
     "name": "stdout",
     "output_type": "stream",
     "text": [
      "0 0\n",
      "1 1\n",
      "2 2\n",
      "2 4\n",
      "2 10\n",
      "3 3\n",
      "4 2\n",
      "4 4\n",
      "4 10\n",
      "5 5\n",
      "6 6\n",
      "7 7\n",
      "7 8\n",
      "7 12\n",
      "8 7\n",
      "8 8\n",
      "8 12\n",
      "9 9\n",
      "10 2\n",
      "10 4\n",
      "10 10\n",
      "11 11\n",
      "12 7\n",
      "12 8\n",
      "12 12\n",
      "13 13\n",
      "14 14\n",
      "15 15\n"
     ]
    }
   ],
   "source": [
    "for i in range(16):\n",
    "    for j in range(16):\n",
    "        if(co[i,j] > 0.7):\n",
    "            print(i,j)"
   ]
  },
  {
   "cell_type": "code",
   "execution_count": 517,
   "metadata": {},
   "outputs": [
    {
     "data": {
      "text/plain": [
       "array([[ 1.    ,  0.2389, -0.9071,  0.4538, -0.8731, -0.016 , -0.1678, -0.1951, -0.6512,  0.0592,\n",
       "        -0.9511,  0.6832, -0.1689, -0.3922,  0.473 , -0.0828],\n",
       "       [ 0.2389,  1.    , -0.3828, -0.0992, -0.0365, -0.2519,  0.1988,  0.6161,  0.1073,  0.0278,\n",
       "        -0.0815,  0.6463,  0.5649, -0.6167,  0.4914, -0.1946],\n",
       "       [-0.9071, -0.3828,  1.    , -0.561 ,  0.7524,  0.1862, -0.0363,  0.1624,  0.6113,  0.158 ,\n",
       "         0.7587, -0.8785,  0.26  ,  0.333 , -0.5157,  0.4649],\n",
       "       [ 0.4538, -0.0992, -0.561 ,  1.    , -0.321 , -0.5425,  0.62  , -0.7794, -0.8989,  0.3079,\n",
       "        -0.2884,  0.2988, -0.8317,  0.1483,  0.3365, -0.5987],\n",
       "       [-0.8731, -0.0365,  0.7524, -0.321 ,  1.    ,  0.1703,  0.4757,  0.3309,  0.6259, -0.0838,\n",
       "         0.9378, -0.4231,  0.2521,  0.559 ,  0.015 , -0.1044],\n",
       "       [-0.016 , -0.2519,  0.1862, -0.5425,  0.1703,  1.    , -0.3959,  0.4674,  0.5494, -0.4872,\n",
       "        -0.0585, -0.0293,  0.4451,  0.4511,  0.2357,  0.334 ],\n",
       "       [-0.1678,  0.1988, -0.0363,  0.62  ,  0.4757, -0.3959,  1.    , -0.2435, -0.3036,  0.2726,\n",
       "         0.4124,  0.1324, -0.3488,  0.3796,  0.5203, -0.6314],\n",
       "       [-0.1951,  0.6161,  0.1624, -0.7794,  0.3309,  0.4674, -0.2435,  1.    ,  0.8035, -0.3917,\n",
       "         0.2136,  0.254 ,  0.9452, -0.2231,  0.2365,  0.1971],\n",
       "       [-0.6512,  0.1073,  0.6113, -0.8989,  0.6259,  0.5494, -0.3036,  0.8035,  1.    , -0.5072,\n",
       "         0.5899, -0.2228,  0.7356,  0.1621, -0.1917,  0.2482],\n",
       "       [ 0.0592,  0.0278,  0.158 ,  0.3079, -0.0838, -0.4872,  0.2726, -0.3917, -0.5072,  1.    ,\n",
       "        -0.1277, -0.4056, -0.1264, -0.3304, -0.028 ,  0.4181],\n",
       "       [-0.9511, -0.0815,  0.7587, -0.2884,  0.9378, -0.0585,  0.4124,  0.2136,  0.5899, -0.1277,\n",
       "         1.    , -0.4692,  0.1136,  0.4586, -0.2485, -0.1911],\n",
       "       [ 0.6832,  0.6463, -0.8785,  0.2988, -0.4231, -0.0293,  0.1324,  0.254 , -0.2228, -0.4056,\n",
       "        -0.4692,  1.    ,  0.0697, -0.2619,  0.6686, -0.5815],\n",
       "       [-0.1689,  0.5649,  0.26  , -0.8317,  0.2521,  0.4451, -0.3488,  0.9452,  0.7356, -0.1264,\n",
       "         0.1136,  0.0697,  1.    , -0.3598,  0.1445,  0.483 ],\n",
       "       [-0.3922, -0.6167,  0.333 ,  0.1483,  0.559 ,  0.4511,  0.3796, -0.2231,  0.1621, -0.3304,\n",
       "         0.4586, -0.2619, -0.3598,  1.    ,  0.1493, -0.315 ],\n",
       "       [ 0.473 ,  0.4914, -0.5157,  0.3365,  0.015 ,  0.2357,  0.5203,  0.2365, -0.1917, -0.028 ,\n",
       "        -0.2485,  0.6686,  0.1445,  0.1493,  1.    , -0.3713],\n",
       "       [-0.0828, -0.1946,  0.4649, -0.5987, -0.1044,  0.334 , -0.6314,  0.1971,  0.2482,  0.4181,\n",
       "        -0.1911, -0.5815,  0.483 , -0.315 , -0.3713,  1.    ]], dtype=float32)"
      ]
     },
     "execution_count": 517,
     "metadata": {},
     "output_type": "execute_result"
    }
   ],
   "source": [
    "co"
   ]
  },
  {
   "cell_type": "markdown",
   "metadata": {},
   "source": [
    "# Model Benchmarking"
   ]
  },
  {
   "cell_type": "code",
   "execution_count": 389,
   "metadata": {},
   "outputs": [
    {
     "data": {
      "text/plain": [
       "1.0"
      ]
     },
     "execution_count": 389,
     "metadata": {},
     "output_type": "execute_result"
    }
   ],
   "source": [
    "1859771/alias.Trx.shape[0]"
   ]
  },
  {
   "cell_type": "code",
   "execution_count": 60,
   "metadata": {},
   "outputs": [
    {
     "data": {
      "text/plain": [
       "14977.512470083682"
      ]
     },
     "execution_count": 60,
     "metadata": {},
     "output_type": "execute_result"
    }
   ],
   "source": [
    "(alias.Trx*alias.Trx).sum()/alias.Trx.shape[0]"
   ]
  },
  {
   "cell_type": "code",
   "execution_count": 64,
   "metadata": {},
   "outputs": [
    {
     "data": {
      "text/plain": [
       "10659.328497721846"
      ]
     },
     "execution_count": 64,
     "metadata": {},
     "output_type": "execute_result"
    }
   ],
   "source": [
    "((alias.Trx - alias.Trx.mean())*(alias.Trx - alias.Trx.mean())).sum()/alias.Trx.shape[0]"
   ]
  },
  {
   "cell_type": "code",
   "execution_count": 104,
   "metadata": {
    "collapsed": true
   },
   "outputs": [],
   "source": [
    "nn.save_weights(\"output3PreluResnet.h5\")"
   ]
  },
  {
   "cell_type": "code",
   "execution_count": 47,
   "metadata": {
    "collapsed": true
   },
   "outputs": [],
   "source": [
    "output = nn.predict([np.array(alias.npi) , np.array(alias.Product) , np.array(alias.specialty), np.array(alias.region), \n",
    "        np.array(alias.gender) , np.array(alias.settlement_type) , years_in , branded_in])"
   ]
  },
  {
   "cell_type": "code",
   "execution_count": 48,
   "metadata": {},
   "outputs": [
    {
     "data": {
      "text/plain": [
       "DescribeResult(nobs=1859771, minmax=(array([ 0.], dtype=float32), array([ 8.4252], dtype=float32)), mean=array([ 0.6236], dtype=float32), variance=array([ 0.7917], dtype=float32), skewness=array([ 1.4717], dtype=float32), kurtosis=array([ 1.6189], dtype=float32))"
      ]
     },
     "execution_count": 48,
     "metadata": {},
     "output_type": "execute_result"
    }
   ],
   "source": [
    "import scipy\n",
    "scipy.stats.describe(output)"
   ]
  },
  {
   "cell_type": "code",
   "execution_count": 395,
   "metadata": {},
   "outputs": [
    {
     "data": {
      "text/plain": [
       "numpy.ndarray"
      ]
     },
     "execution_count": 395,
     "metadata": {},
     "output_type": "execute_result"
    }
   ],
   "source": [
    "output.__class__"
   ]
  },
  {
   "cell_type": "code",
   "execution_count": 49,
   "metadata": {
    "collapsed": true
   },
   "outputs": [],
   "source": [
    "compare = np.concatenate([np.array(alias.Trx)[:, np.newaxis] , output], axis = 1)"
   ]
  },
  {
   "cell_type": "code",
   "execution_count": 52,
   "metadata": {},
   "outputs": [
    {
     "data": {
      "text/plain": [
       "85268"
      ]
     },
     "execution_count": 52,
     "metadata": {},
     "output_type": "execute_result"
    }
   ],
   "source": [
    "(alias.Trx < 12).sum()"
   ]
  },
  {
   "cell_type": "code",
   "execution_count": 53,
   "metadata": {},
   "outputs": [
    {
     "data": {
      "text/plain": [
       "array([[ 2.1231],\n",
       "       [ 0.0775],\n",
       "       [ 0.7538],\n",
       "       ..., \n",
       "       [ 0.8588],\n",
       "       [ 1.1055],\n",
       "       [ 1.7547]], dtype=float32)"
      ]
     },
     "execution_count": 53,
     "metadata": {},
     "output_type": "execute_result"
    }
   ],
   "source": [
    "output[np.squeeze(~(output == 0))]"
   ]
  },
  {
   "cell_type": "code",
   "execution_count": 407,
   "metadata": {},
   "outputs": [
    {
     "data": {
      "text/plain": [
       "array([[ 0.0038,  0.0368],\n",
       "       [ 0.    ,  0.0146],\n",
       "       [ 0.009 ,  0.0749],\n",
       "       ..., \n",
       "       [ 0.0072,  0.0861],\n",
       "       [ 0.0017,  0.0233],\n",
       "       [ 0.0013,  0.003 ]])"
      ]
     },
     "execution_count": 407,
     "metadata": {},
     "output_type": "execute_result"
    }
   ],
   "source": [
    "compare[np.squeeze(~(output == 0))]"
   ]
  },
  {
   "cell_type": "code",
   "execution_count": 408,
   "metadata": {
    "collapsed": true
   },
   "outputs": [],
   "source": [
    "compare = pd.DataFrame(compare)"
   ]
  },
  {
   "cell_type": "code",
   "execution_count": 409,
   "metadata": {},
   "outputs": [
    {
     "data": {
      "text/html": [
       "<div>\n",
       "<style>\n",
       "    .dataframe thead tr:only-child th {\n",
       "        text-align: right;\n",
       "    }\n",
       "\n",
       "    .dataframe thead th {\n",
       "        text-align: left;\n",
       "    }\n",
       "\n",
       "    .dataframe tbody tr th {\n",
       "        vertical-align: top;\n",
       "    }\n",
       "</style>\n",
       "<table border=\"1\" class=\"dataframe\">\n",
       "  <thead>\n",
       "    <tr style=\"text-align: right;\">\n",
       "      <th></th>\n",
       "      <th>0</th>\n",
       "      <th>1</th>\n",
       "    </tr>\n",
       "  </thead>\n",
       "  <tbody>\n",
       "    <tr>\n",
       "      <th>count</th>\n",
       "      <td>1.859771e+06</td>\n",
       "      <td>1.859771e+06</td>\n",
       "    </tr>\n",
       "    <tr>\n",
       "      <th>mean</th>\n",
       "      <td>3.082630e-02</td>\n",
       "      <td>3.605699e-04</td>\n",
       "    </tr>\n",
       "    <tr>\n",
       "      <th>std</th>\n",
       "      <td>5.101316e-02</td>\n",
       "      <td>5.057642e-03</td>\n",
       "    </tr>\n",
       "    <tr>\n",
       "      <th>min</th>\n",
       "      <td>0.000000e+00</td>\n",
       "      <td>0.000000e+00</td>\n",
       "    </tr>\n",
       "    <tr>\n",
       "      <th>25%</th>\n",
       "      <td>4.243281e-03</td>\n",
       "      <td>0.000000e+00</td>\n",
       "    </tr>\n",
       "    <tr>\n",
       "      <th>50%</th>\n",
       "      <td>1.371653e-02</td>\n",
       "      <td>0.000000e+00</td>\n",
       "    </tr>\n",
       "    <tr>\n",
       "      <th>75%</th>\n",
       "      <td>3.642384e-02</td>\n",
       "      <td>0.000000e+00</td>\n",
       "    </tr>\n",
       "    <tr>\n",
       "      <th>max</th>\n",
       "      <td>1.000000e+00</td>\n",
       "      <td>3.613991e-01</td>\n",
       "    </tr>\n",
       "  </tbody>\n",
       "</table>\n",
       "</div>"
      ],
      "text/plain": [
       "                  0             1\n",
       "count  1.859771e+06  1.859771e+06\n",
       "mean   3.082630e-02  3.605699e-04\n",
       "std    5.101316e-02  5.057642e-03\n",
       "min    0.000000e+00  0.000000e+00\n",
       "25%    4.243281e-03  0.000000e+00\n",
       "50%    1.371653e-02  0.000000e+00\n",
       "75%    3.642384e-02  0.000000e+00\n",
       "max    1.000000e+00  3.613991e-01"
      ]
     },
     "execution_count": 409,
     "metadata": {},
     "output_type": "execute_result"
    }
   ],
   "source": [
    "compare.describe()"
   ]
  },
  {
   "cell_type": "code",
   "execution_count": 410,
   "metadata": {
    "collapsed": true
   },
   "outputs": [],
   "source": [
    "compare.to_csv(\"compare.csv\")"
   ]
  },
  {
   "cell_type": "code",
   "execution_count": 82,
   "metadata": {
    "collapsed": true
   },
   "outputs": [],
   "source": [
    "from sklearn.ensemble import RandomForestRegressor"
   ]
  },
  {
   "cell_type": "code",
   "execution_count": 69,
   "metadata": {},
   "outputs": [],
   "source": [
    "index = np.random.rand(len(alias)) < 0.8 \n",
    "train = alias.iloc[index, 1:8]\n",
    "test = alias.iloc[~index, 1:8]"
   ]
  },
  {
   "cell_type": "code",
   "execution_count": 70,
   "metadata": {},
   "outputs": [
    {
     "data": {
      "text/html": [
       "<div>\n",
       "<style>\n",
       "    .dataframe thead tr:only-child th {\n",
       "        text-align: right;\n",
       "    }\n",
       "\n",
       "    .dataframe thead th {\n",
       "        text-align: left;\n",
       "    }\n",
       "\n",
       "    .dataframe tbody tr th {\n",
       "        vertical-align: top;\n",
       "    }\n",
       "</style>\n",
       "<table border=\"1\" class=\"dataframe\">\n",
       "  <thead>\n",
       "    <tr style=\"text-align: right;\">\n",
       "      <th></th>\n",
       "      <th>gender</th>\n",
       "      <th>region</th>\n",
       "      <th>settlement_type</th>\n",
       "      <th>specialty</th>\n",
       "      <th>years_practicing</th>\n",
       "      <th>Product</th>\n",
       "      <th>Trx</th>\n",
       "    </tr>\n",
       "  </thead>\n",
       "  <tbody>\n",
       "    <tr>\n",
       "      <th>0</th>\n",
       "      <td>0</td>\n",
       "      <td>0</td>\n",
       "      <td>0</td>\n",
       "      <td>0</td>\n",
       "      <td>7</td>\n",
       "      <td>0</td>\n",
       "      <td>11.0</td>\n",
       "    </tr>\n",
       "    <tr>\n",
       "      <th>1</th>\n",
       "      <td>0</td>\n",
       "      <td>1</td>\n",
       "      <td>1</td>\n",
       "      <td>1</td>\n",
       "      <td>7</td>\n",
       "      <td>0</td>\n",
       "      <td>110.0</td>\n",
       "    </tr>\n",
       "    <tr>\n",
       "      <th>2</th>\n",
       "      <td>0</td>\n",
       "      <td>2</td>\n",
       "      <td>1</td>\n",
       "      <td>1</td>\n",
       "      <td>7</td>\n",
       "      <td>0</td>\n",
       "      <td>15.0</td>\n",
       "    </tr>\n",
       "    <tr>\n",
       "      <th>3</th>\n",
       "      <td>1</td>\n",
       "      <td>3</td>\n",
       "      <td>0</td>\n",
       "      <td>2</td>\n",
       "      <td>1</td>\n",
       "      <td>0</td>\n",
       "      <td>107.0</td>\n",
       "    </tr>\n",
       "    <tr>\n",
       "      <th>4</th>\n",
       "      <td>0</td>\n",
       "      <td>1</td>\n",
       "      <td>1</td>\n",
       "      <td>1</td>\n",
       "      <td>7</td>\n",
       "      <td>0</td>\n",
       "      <td>126.0</td>\n",
       "    </tr>\n",
       "  </tbody>\n",
       "</table>\n",
       "</div>"
      ],
      "text/plain": [
       "   gender  region  settlement_type  specialty  years_practicing  Product  \\\n",
       "0       0       0                0          0                 7        0   \n",
       "1       0       1                1          1                 7        0   \n",
       "2       0       2                1          1                 7        0   \n",
       "3       1       3                0          2                 1        0   \n",
       "4       0       1                1          1                 7        0   \n",
       "\n",
       "     Trx  \n",
       "0   11.0  \n",
       "1  110.0  \n",
       "2   15.0  \n",
       "3  107.0  \n",
       "4  126.0  "
      ]
     },
     "execution_count": 70,
     "metadata": {},
     "output_type": "execute_result"
    }
   ],
   "source": [
    "train.head()"
   ]
  },
  {
   "cell_type": "code",
   "execution_count": 72,
   "metadata": {},
   "outputs": [],
   "source": [
    "x_train = train.loc[:, ~train.columns.isin(['Trx'])]\n",
    "x_test = test.loc[:, ~test.columns.isin(['Trx'])]"
   ]
  },
  {
   "cell_type": "code",
   "execution_count": 73,
   "metadata": {
    "collapsed": true
   },
   "outputs": [],
   "source": [
    "y_train = train.loc[: ,train.columns.isin(['Trx']) ]\n",
    "y_test = test.loc[: ,test.columns.isin(['Trx']) ]"
   ]
  },
  {
   "cell_type": "code",
   "execution_count": 96,
   "metadata": {},
   "outputs": [],
   "source": [
    "lmodel = RandomForestRegressor(n_estimators= 200)"
   ]
  },
  {
   "cell_type": "code",
   "execution_count": 97,
   "metadata": {},
   "outputs": [
    {
     "name": "stdout",
     "output_type": "stream",
     "text": [
      "(1486893, 6) (1486893, 1)\n"
     ]
    }
   ],
   "source": [
    "print(x_train.shape , y_train.shape)"
   ]
  },
  {
   "cell_type": "code",
   "execution_count": 98,
   "metadata": {},
   "outputs": [
    {
     "name": "stderr",
     "output_type": "stream",
     "text": [
      "C:\\Users\\darsh\\AppData\\Local\\Continuum\\Anaconda3\\lib\\site-packages\\ipykernel_launcher.py:1: DataConversionWarning: A column-vector y was passed when a 1d array was expected. Please change the shape of y to (n_samples,), for example using ravel().\n",
      "  \"\"\"Entry point for launching an IPython kernel.\n"
     ]
    },
    {
     "data": {
      "text/plain": [
       "RandomForestRegressor(bootstrap=True, criterion='mse', max_depth=None,\n",
       "           max_features='auto', max_leaf_nodes=None,\n",
       "           min_impurity_decrease=0.0, min_impurity_split=None,\n",
       "           min_samples_leaf=1, min_samples_split=2,\n",
       "           min_weight_fraction_leaf=0.0, n_estimators=200, n_jobs=1,\n",
       "           oob_score=False, random_state=None, verbose=0, warm_start=False)"
      ]
     },
     "execution_count": 98,
     "metadata": {},
     "output_type": "execute_result"
    }
   ],
   "source": [
    "lmodel.fit(x_train, y_train)"
   ]
  },
  {
   "cell_type": "code",
   "execution_count": 99,
   "metadata": {
    "collapsed": true
   },
   "outputs": [],
   "source": [
    "pred = lmodel.predict(x_test)[:, np.newaxis]"
   ]
  },
  {
   "cell_type": "code",
   "execution_count": 100,
   "metadata": {},
   "outputs": [
    {
     "name": "stdout",
     "output_type": "stream",
     "text": [
      "(372878, 1) (372878, 1)\n"
     ]
    }
   ],
   "source": [
    "print(pred.shape , y_test.shape)"
   ]
  },
  {
   "cell_type": "code",
   "execution_count": 101,
   "metadata": {},
   "outputs": [
    {
     "data": {
      "text/plain": [
       "Trx    7593.361871\n",
       "dtype: float64"
      ]
     },
     "execution_count": 101,
     "metadata": {},
     "output_type": "execute_result"
    }
   ],
   "source": [
    "((pred - y_test)*(pred - y_test)).sum()/len(pred)"
   ]
  },
  {
   "cell_type": "code",
   "execution_count": 444,
   "metadata": {
    "collapsed": true
   },
   "outputs": [],
   "source": [
    "compareLinear = pd.DataFrame(np.concatenate([y_test, pred] , axis = 1))"
   ]
  },
  {
   "cell_type": "code",
   "execution_count": 445,
   "metadata": {
    "collapsed": true
   },
   "outputs": [],
   "source": [
    "compareLinear.to_csv(\"CompareLinear.csv\")"
   ]
  },
  {
   "cell_type": "code",
   "execution_count": 68,
   "metadata": {},
   "outputs": [
    {
     "data": {
      "text/plain": [
       "count    1.859771e+06\n",
       "mean     6.571289e+01\n",
       "std      1.032441e+02\n",
       "min      1.100000e+01\n",
       "25%      1.700000e+01\n",
       "50%      3.100000e+01\n",
       "75%      7.000000e+01\n",
       "max      6.146000e+03\n",
       "Name: Trx, dtype: float64"
      ]
     },
     "execution_count": 68,
     "metadata": {},
     "output_type": "execute_result"
    }
   ],
   "source": [
    "alias.Trx.describe()"
   ]
  },
  {
   "cell_type": "code",
   "execution_count": 69,
   "metadata": {},
   "outputs": [
    {
     "data": {
      "text/html": [
       "<div>\n",
       "<style>\n",
       "    .dataframe thead tr:only-child th {\n",
       "        text-align: right;\n",
       "    }\n",
       "\n",
       "    .dataframe thead th {\n",
       "        text-align: left;\n",
       "    }\n",
       "\n",
       "    .dataframe tbody tr th {\n",
       "        vertical-align: top;\n",
       "    }\n",
       "</style>\n",
       "<table border=\"1\" class=\"dataframe\">\n",
       "  <thead>\n",
       "    <tr style=\"text-align: right;\">\n",
       "      <th></th>\n",
       "      <th>0</th>\n",
       "    </tr>\n",
       "  </thead>\n",
       "  <tbody>\n",
       "    <tr>\n",
       "      <th>count</th>\n",
       "      <td>1.859771e+06</td>\n",
       "    </tr>\n",
       "    <tr>\n",
       "      <th>mean</th>\n",
       "      <td>6.235529e-01</td>\n",
       "    </tr>\n",
       "    <tr>\n",
       "      <th>std</th>\n",
       "      <td>8.863682e-01</td>\n",
       "    </tr>\n",
       "    <tr>\n",
       "      <th>min</th>\n",
       "      <td>0.000000e+00</td>\n",
       "    </tr>\n",
       "    <tr>\n",
       "      <th>25%</th>\n",
       "      <td>0.000000e+00</td>\n",
       "    </tr>\n",
       "    <tr>\n",
       "      <th>50%</th>\n",
       "      <td>0.000000e+00</td>\n",
       "    </tr>\n",
       "    <tr>\n",
       "      <th>75%</th>\n",
       "      <td>1.110703e+00</td>\n",
       "    </tr>\n",
       "    <tr>\n",
       "      <th>max</th>\n",
       "      <td>8.425241e+00</td>\n",
       "    </tr>\n",
       "  </tbody>\n",
       "</table>\n",
       "</div>"
      ],
      "text/plain": [
       "                  0\n",
       "count  1.859771e+06\n",
       "mean   6.235529e-01\n",
       "std    8.863682e-01\n",
       "min    0.000000e+00\n",
       "25%    0.000000e+00\n",
       "50%    0.000000e+00\n",
       "75%    1.110703e+00\n",
       "max    8.425241e+00"
      ]
     },
     "execution_count": 69,
     "metadata": {},
     "output_type": "execute_result"
    }
   ],
   "source": [
    "pd.DataFrame(output).describe()"
   ]
  },
  {
   "cell_type": "code",
   "execution_count": 65,
   "metadata": {},
   "outputs": [
    {
     "data": {
      "text/html": [
       "<div>\n",
       "<style>\n",
       "    .dataframe thead tr:only-child th {\n",
       "        text-align: right;\n",
       "    }\n",
       "\n",
       "    .dataframe thead th {\n",
       "        text-align: left;\n",
       "    }\n",
       "\n",
       "    .dataframe tbody tr th {\n",
       "        vertical-align: top;\n",
       "    }\n",
       "</style>\n",
       "<table border=\"1\" class=\"dataframe\">\n",
       "  <thead>\n",
       "    <tr style=\"text-align: right;\">\n",
       "      <th></th>\n",
       "      <th>npi</th>\n",
       "      <th>gender</th>\n",
       "      <th>region</th>\n",
       "      <th>settlement_type</th>\n",
       "      <th>specialty</th>\n",
       "      <th>years_practicing</th>\n",
       "      <th>Product</th>\n",
       "      <th>Trx</th>\n",
       "      <th>branded_generic_ratio</th>\n",
       "    </tr>\n",
       "  </thead>\n",
       "  <tbody>\n",
       "    <tr>\n",
       "      <th>0</th>\n",
       "      <td>0</td>\n",
       "      <td>0</td>\n",
       "      <td>0</td>\n",
       "      <td>0</td>\n",
       "      <td>0</td>\n",
       "      <td>7</td>\n",
       "      <td>0</td>\n",
       "      <td>11.0</td>\n",
       "      <td>0.167906</td>\n",
       "    </tr>\n",
       "    <tr>\n",
       "      <th>1</th>\n",
       "      <td>1</td>\n",
       "      <td>0</td>\n",
       "      <td>1</td>\n",
       "      <td>1</td>\n",
       "      <td>1</td>\n",
       "      <td>7</td>\n",
       "      <td>0</td>\n",
       "      <td>110.0</td>\n",
       "      <td>0.197285</td>\n",
       "    </tr>\n",
       "    <tr>\n",
       "      <th>2</th>\n",
       "      <td>2</td>\n",
       "      <td>0</td>\n",
       "      <td>2</td>\n",
       "      <td>1</td>\n",
       "      <td>1</td>\n",
       "      <td>7</td>\n",
       "      <td>0</td>\n",
       "      <td>15.0</td>\n",
       "      <td>0.062174</td>\n",
       "    </tr>\n",
       "    <tr>\n",
       "      <th>3</th>\n",
       "      <td>3</td>\n",
       "      <td>1</td>\n",
       "      <td>3</td>\n",
       "      <td>0</td>\n",
       "      <td>2</td>\n",
       "      <td>1</td>\n",
       "      <td>0</td>\n",
       "      <td>107.0</td>\n",
       "      <td>0.144923</td>\n",
       "    </tr>\n",
       "    <tr>\n",
       "      <th>4</th>\n",
       "      <td>4</td>\n",
       "      <td>0</td>\n",
       "      <td>1</td>\n",
       "      <td>1</td>\n",
       "      <td>1</td>\n",
       "      <td>7</td>\n",
       "      <td>0</td>\n",
       "      <td>126.0</td>\n",
       "      <td>0.061471</td>\n",
       "    </tr>\n",
       "  </tbody>\n",
       "</table>\n",
       "</div>"
      ],
      "text/plain": [
       "   npi  gender  region  settlement_type  specialty  years_practicing  Product  \\\n",
       "0    0       0       0                0          0                 7        0   \n",
       "1    1       0       1                1          1                 7        0   \n",
       "2    2       0       2                1          1                 7        0   \n",
       "3    3       1       3                0          2                 1        0   \n",
       "4    4       0       1                1          1                 7        0   \n",
       "\n",
       "     Trx  branded_generic_ratio  \n",
       "0   11.0               0.167906  \n",
       "1  110.0               0.197285  \n",
       "2   15.0               0.062174  \n",
       "3  107.0               0.144923  \n",
       "4  126.0               0.061471  "
      ]
     },
     "execution_count": 65,
     "metadata": {},
     "output_type": "execute_result"
    }
   ],
   "source": [
    "alias.head()"
   ]
  },
  {
   "cell_type": "code",
   "execution_count": null,
   "metadata": {
    "collapsed": true
   },
   "outputs": [],
   "source": []
  }
 ],
 "metadata": {
  "kernelspec": {
   "display_name": "Python 3",
   "language": "python",
   "name": "python3"
  },
  "language_info": {
   "codemirror_mode": {
    "name": "ipython",
    "version": 3
   },
   "file_extension": ".py",
   "mimetype": "text/x-python",
   "name": "python",
   "nbconvert_exporter": "python",
   "pygments_lexer": "ipython3",
   "version": "3.6.1"
  }
 },
 "nbformat": 4,
 "nbformat_minor": 2
}
